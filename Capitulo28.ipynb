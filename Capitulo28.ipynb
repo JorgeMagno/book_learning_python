{
 "cells": [
  {
   "cell_type": "code",
   "execution_count": 1,
   "metadata": {},
   "outputs": [
    {
     "name": "stdout",
     "output_type": "stream",
     "text": [
      "Bag(['a', 'b', 'c'])\n"
     ]
    }
   ],
   "source": [
    "class Bag():\n",
    "    def __init__(self):\n",
    "        self.data = ['a', 'b', 'c']\n",
    "    def __getitem__(self, pos):\n",
    "        return self.data[pos]\n",
    "    def __str__(self):\n",
    "        return 'Bag(' + str(self.data) + ')'\n",
    "b = Bag()\n",
    "print(b)"
   ]
  },
  {
   "cell_type": "code",
   "execution_count": 2,
   "metadata": {},
   "outputs": [
    {
     "ename": "TypeError",
     "evalue": "object of type 'Bag' has no len()",
     "output_type": "error",
     "traceback": [
      "\u001b[0;31m---------------------------------------------------------------------------\u001b[0m",
      "\u001b[0;31mTypeError\u001b[0m                                 Traceback (most recent call last)",
      "\u001b[0;32m<ipython-input-2-a96cd3291c23>\u001b[0m in \u001b[0;36m<module>\u001b[0;34m\u001b[0m\n\u001b[0;32m----> 1\u001b[0;31m \u001b[0mprint\u001b[0m\u001b[0;34m(\u001b[0m\u001b[0mlen\u001b[0m\u001b[0;34m(\u001b[0m\u001b[0mb\u001b[0m\u001b[0;34m)\u001b[0m\u001b[0;34m)\u001b[0m\u001b[0;34m\u001b[0m\u001b[0;34m\u001b[0m\u001b[0m\n\u001b[0m",
      "\u001b[0;31mTypeError\u001b[0m: object of type 'Bag' has no len()"
     ]
    }
   ],
   "source": [
    "print(len(b))"
   ]
  },
  {
   "cell_type": "code",
   "execution_count": 4,
   "metadata": {},
   "outputs": [],
   "source": [
    "def get_length(self):\n",
    "    return len(self.data)\n",
    "# Monkey patching\n",
    "Bag.__len__ = get_length"
   ]
  },
  {
   "cell_type": "code",
   "execution_count": 5,
   "metadata": {},
   "outputs": [
    {
     "name": "stdout",
     "output_type": "stream",
     "text": [
      "3\n"
     ]
    }
   ],
   "source": [
    "print(len(b))"
   ]
  },
  {
   "cell_type": "code",
   "execution_count": 6,
   "metadata": {},
   "outputs": [
    {
     "name": "stdout",
     "output_type": "stream",
     "text": [
      "My Bag\n"
     ]
    }
   ],
   "source": [
    "Bag.name = 'My Bag'\n",
    "print(b.name)"
   ]
  },
  {
   "cell_type": "code",
   "execution_count": 7,
   "metadata": {},
   "outputs": [
    {
     "name": "stdout",
     "output_type": "stream",
     "text": [
      "My Bag\n",
      "Johns Bag\n",
      "My Bag\n"
     ]
    }
   ],
   "source": [
    "Bag.name = 'My Bag'\n",
    "print(b.name)\n",
    "b.name = 'Johns Bag'\n",
    "print(b.name)\n",
    "b2 = Bag()\n",
    "print(b2.name)"
   ]
  },
  {
   "cell_type": "code",
   "execution_count": 8,
   "metadata": {},
   "outputs": [],
   "source": [
    "class Student:\n",
    "    count = 0\n",
    "    def __init__(self, name):\n",
    "        self.name = name\n",
    "        Student.count += 1"
   ]
  },
  {
   "cell_type": "code",
   "execution_count": 9,
   "metadata": {},
   "outputs": [
    {
     "name": "stdout",
     "output_type": "stream",
     "text": [
      "Student.__dict__: {'__module__': '__main__', 'count': 1, '__init__': <function Student.__init__ at 0x7fb70cf7bc80>, '__dict__': <attribute '__dict__' of 'Student' objects>, '__weakref__': <attribute '__weakref__' of 'Student' objects>, '__doc__': None}\n",
      "student.__dict__: {'name': 'John'}\n"
     ]
    }
   ],
   "source": [
    "student = Student('John')\n",
    "# Class attribute dictionary\n",
    "print('Student.__dict__:', Student.__dict__)\n",
    "# Instance / Object dictionary\n",
    "print('student.__dict__:', student.__dict__)"
   ]
  },
  {
   "cell_type": "code",
   "execution_count": 10,
   "metadata": {},
   "outputs": [
    {
     "name": "stdout",
     "output_type": "stream",
     "text": [
      "Student.count: 2\n",
      "student.name: John\n",
      "student.count: 2\n"
     ]
    }
   ],
   "source": [
    "student = Student('John')\n",
    "print('Student.count:', Student.count) # class lookup\n",
    "print('student.name:', student.name) # instance lookup\n",
    "print('student.count:', student.count) # lookup finds class attribute"
   ]
  },
  {
   "cell_type": "code",
   "execution_count": 11,
   "metadata": {},
   "outputs": [
    {
     "name": "stdout",
     "output_type": "stream",
     "text": [
      "Student.count: 2\n",
      "Student.__dict__['count']: 2\n",
      "student.name: John\n",
      "student.__dict__['name']: John\n"
     ]
    }
   ],
   "source": [
    "# class lookup\n",
    "print('Student.count:', Student.count)\n",
    "print(\"Student.__dict__['count']:\", Student.__dict__['count'])\n",
    "# Instance / Object Lookup\n",
    "print('student.name:', student.name)\n",
    "print(\"student.__dict__['name']:\", student.__dict__['name'])"
   ]
  },
  {
   "cell_type": "code",
   "execution_count": 12,
   "metadata": {},
   "outputs": [
    {
     "name": "stdout",
     "output_type": "stream",
     "text": [
      "student.name: John\n"
     ]
    },
    {
     "ename": "KeyError",
     "evalue": "'count'",
     "output_type": "error",
     "traceback": [
      "\u001b[0;31m---------------------------------------------------------------------------\u001b[0m",
      "\u001b[0;31mKeyError\u001b[0m                                  Traceback (most recent call last)",
      "\u001b[0;32m<ipython-input-12-3dfa546ecd89>\u001b[0m in \u001b[0;36m<module>\u001b[0;34m\u001b[0m\n\u001b[1;32m      1\u001b[0m \u001b[0;31m# Attempt to look up class variable via object\u001b[0m\u001b[0;34m\u001b[0m\u001b[0;34m\u001b[0m\u001b[0;34m\u001b[0m\u001b[0m\n\u001b[1;32m      2\u001b[0m \u001b[0mprint\u001b[0m\u001b[0;34m(\u001b[0m\u001b[0;34m'student.name:'\u001b[0m\u001b[0;34m,\u001b[0m \u001b[0mstudent\u001b[0m\u001b[0;34m.\u001b[0m\u001b[0mname\u001b[0m\u001b[0;34m)\u001b[0m\u001b[0;34m\u001b[0m\u001b[0;34m\u001b[0m\u001b[0m\n\u001b[0;32m----> 3\u001b[0;31m \u001b[0mprint\u001b[0m\u001b[0;34m(\u001b[0m\u001b[0;34m\"student.__dict__['count']:\"\u001b[0m\u001b[0;34m,\u001b[0m \u001b[0mstudent\u001b[0m\u001b[0;34m.\u001b[0m\u001b[0m__dict__\u001b[0m\u001b[0;34m[\u001b[0m\u001b[0;34m'count'\u001b[0m\u001b[0;34m]\u001b[0m\u001b[0;34m)\u001b[0m\u001b[0;34m\u001b[0m\u001b[0;34m\u001b[0m\u001b[0m\n\u001b[0m",
      "\u001b[0;31mKeyError\u001b[0m: 'count'"
     ]
    }
   ],
   "source": [
    "# Attempt to look up class variable via object\n",
    "print('student.name:', student.name)\n",
    "print(\"student.__dict__['count']:\", student.__dict__['count'])"
   ]
  },
  {
   "cell_type": "code",
   "execution_count": 13,
   "metadata": {},
   "outputs": [
    {
     "ename": "AttributeError",
     "evalue": "'Student' object has no attribute 'dummy_attribute'",
     "output_type": "error",
     "traceback": [
      "\u001b[0;31m---------------------------------------------------------------------------\u001b[0m",
      "\u001b[0;31mAttributeError\u001b[0m                            Traceback (most recent call last)",
      "\u001b[0;32m<ipython-input-13-a7802362fc38>\u001b[0m in \u001b[0;36m<module>\u001b[0;34m\u001b[0m\n\u001b[1;32m      1\u001b[0m \u001b[0mstudent\u001b[0m \u001b[0;34m=\u001b[0m \u001b[0mStudent\u001b[0m\u001b[0;34m(\u001b[0m\u001b[0;34m'John'\u001b[0m\u001b[0;34m)\u001b[0m\u001b[0;34m\u001b[0m\u001b[0;34m\u001b[0m\u001b[0m\n\u001b[0;32m----> 2\u001b[0;31m \u001b[0mres1\u001b[0m \u001b[0;34m=\u001b[0m \u001b[0mstudent\u001b[0m\u001b[0;34m.\u001b[0m\u001b[0mdummy_attribute\u001b[0m\u001b[0;34m\u001b[0m\u001b[0;34m\u001b[0m\u001b[0m\n\u001b[0m\u001b[1;32m      3\u001b[0m \u001b[0mprint\u001b[0m\u001b[0;34m(\u001b[0m\u001b[0;34m'p.dummy_attribute:'\u001b[0m\u001b[0;34m,\u001b[0m \u001b[0mres1\u001b[0m\u001b[0;34m)\u001b[0m\u001b[0;34m\u001b[0m\u001b[0;34m\u001b[0m\u001b[0m\n",
      "\u001b[0;31mAttributeError\u001b[0m: 'Student' object has no attribute 'dummy_attribute'"
     ]
    }
   ],
   "source": [
    "student = Student('John')\n",
    "res1 = student.dummy_attribute\n",
    "print('p.dummy_attribute:', res1)"
   ]
  },
  {
   "cell_type": "code",
   "execution_count": 1,
   "metadata": {},
   "outputs": [],
   "source": [
    "class Student:\n",
    "    count = 0\n",
    "    def __init__(self, name):\n",
    "        self.name = name\n",
    "        Student.count += 1\n",
    "    # Method called if attribute is unknown\n",
    "    def __getattr__(self, attribute):\n",
    "        print('__getattr__: ', attribute)\n",
    "        return 'default'"
   ]
  },
  {
   "cell_type": "code",
   "execution_count": 2,
   "metadata": {},
   "outputs": [
    {
     "name": "stdout",
     "output_type": "stream",
     "text": [
      "__getattr__:  dummy_attribute\n",
      "p.dummy_attribute: default\n"
     ]
    }
   ],
   "source": [
    "student = Student('John')\n",
    "res1 = student.dummy_attribute\n",
    "print('p.dummy_attribute:', res1)"
   ]
  },
  {
   "cell_type": "code",
   "execution_count": 1,
   "metadata": {},
   "outputs": [],
   "source": [
    "class Student:\n",
    "    count = 0\n",
    "    def __init__(self, name):\n",
    "        self.name = name\n",
    "        Student.count += 1\n",
    "    # Method called if attribute is unknown\n",
    "    def __getattr__(self, attribute):\n",
    "        print('__getattr__: ', attribute)\n",
    "        return self.my_default\n",
    "    def my_default(self):\n",
    "        return 'default'"
   ]
  },
  {
   "cell_type": "code",
   "execution_count": 3,
   "metadata": {},
   "outputs": [
    {
     "name": "stdout",
     "output_type": "stream",
     "text": [
      "__getattr__:  dummy_method\n",
      "student.dummy_method(): default\n"
     ]
    }
   ],
   "source": [
    "student = Student('John')\n",
    "res2 = student.dummy_method()\n",
    "print('student.dummy_method():', res2)"
   ]
  },
  {
   "cell_type": "code",
   "execution_count": 2,
   "metadata": {},
   "outputs": [],
   "source": [
    "class Student:\n",
    "    count = 0\n",
    "    def __init__(self, name):\n",
    "        self.name = name\n",
    "        Student.count += 1\n",
    "    # Method called if attribute is unknown\n",
    "    def __getattr__(self, attribute):\n",
    "        print('__getattr__: ', attribute)\n",
    "        return 'default'\n",
    "    # Method will always be called when an attribute\n",
    "    # is accessed, will only called __getattr__ if it\n",
    "    # does so explicitly or if an AttributeError is raised\n",
    "    def __getattribute__(self, name):\n",
    "        print('__getattribute__()', name)\n",
    "        return object.__getattribute__(self, name)\n",
    "    def my_default(self):\n",
    "        return 'default'"
   ]
  },
  {
   "cell_type": "code",
   "execution_count": 3,
   "metadata": {},
   "outputs": [
    {
     "name": "stdout",
     "output_type": "stream",
     "text": [
      "__getattribute__() name\n",
      "student.name: Katie\n",
      "__getattribute__() dummy_attribute\n",
      "__getattr__:  dummy_attribute\n",
      "student.dummy_attribute: default\n"
     ]
    }
   ],
   "source": [
    "student = Student('Katie')\n",
    "print('student.name:', student.name) # instance lookup\n",
    "res1 = student.dummy_attribute # invoke missing attribute\n",
    "print( 'student.dummy_attribute:', res1)"
   ]
  },
  {
   "cell_type": "code",
   "execution_count": 1,
   "metadata": {},
   "outputs": [],
   "source": [
    "class Student:\n",
    "    count = 0\n",
    "    def __init__(self, name):\n",
    "        self.name = name\n",
    "        Student.count += 1\n",
    "    # Method will always be called when an attribute is set\n",
    "    def __setattr__(self, name, value):\n",
    "        print('__setattr__:', name, value)\n",
    "        object.__setattr__(self, name, value)"
   ]
  },
  {
   "cell_type": "code",
   "execution_count": 2,
   "metadata": {},
   "outputs": [
    {
     "name": "stdout",
     "output_type": "stream",
     "text": [
      "__setattr__: name John\n",
      "__setattr__: name Bob\n",
      "student.name: Bob\n"
     ]
    }
   ],
   "source": [
    "student = Student('John')\n",
    "student.name = 'Bob'\n",
    "print('student.name:', student.name) # instance lookup"
   ]
  },
  {
   "cell_type": "code",
   "execution_count": 6,
   "metadata": {},
   "outputs": [],
   "source": [
    "class AmountError(Exception):\n",
    "    def __init__(self, number, holder, balance, overdraft_limit):\n",
    "        self.number = number\n",
    "        self.holder = holder\n",
    "        self.balance = balance\n",
    "        self.overdraft_limit = overdraft_limit\n",
    "    def __str__(self):\n",
    "        return 'AmountError (Cannot deposit negative amounts) on Account Number:'+ self.number + ' - ' + self.holder +', ' +' account = ' + str(self.balance) + '-overdraft limit:' + str(self.overdraft_limit)\n",
    "\n",
    "class BalanceError(Exception):\n",
    "    def __init__(self, number, holder, balance, overdraft_limit):\n",
    "        self.number = number\n",
    "        self.holder = holder\n",
    "        self.balance = balance\n",
    "        self.overdraft_limit = overdraft_limit\n",
    "    def __str__(self):\n",
    "        return 'Withdrawal would exceed your overdraft limit on Account Number:'+ self.number + ' - ' + self.holder +', ' +' account = ' + str(self.balance) + '-overdraft limit:' + str(self.overdraft_limit)\n",
    "class Account:\n",
    "    instance_count = 0\n",
    "    @staticmethod\n",
    "    def static_function():\n",
    "        print('Conta Criada')\n",
    "        \n",
    "    @classmethod\n",
    "    def increment_instance_count(cls):\n",
    "        cls.instance_count += 1\n",
    "        \n",
    "    def __init__(self, number,holder, balance):\n",
    "        Account.increment_instance_count()\n",
    "        self.number = number\n",
    "        self.holder = holder\n",
    "        self.balance = balance\n",
    "        Account.static_function()\n",
    "        \n",
    "    def __str__(self):\n",
    "        return 'Account Number:'+ self.number + ' - ' + self.holder +', ' +' account = ' + str(self.balance)\n",
    "    \n",
    "    def deposit(self, amount):\n",
    "        if amount > 0:\n",
    "            self.balance += amount\n",
    "            return self.balance\n",
    "        else:\n",
    "            raise AmountError(self.number, self.holder, self.balance, self.overdraft_limit)\n",
    "            \n",
    "    def get_balance(self):\n",
    "        return self.balance\n",
    "    #balance = property(get_balance, doc=\"A balance property\")\n",
    "    def __getattr__(self, attribute):\n",
    "        print('__getattr__: unknown attribute accessed - ', attribute)\n",
    "        return -1\n",
    "class DepositAccount(Account):\n",
    "    def __init__(self, number, holder, balance, interest_rate):\n",
    "        super().__init__(number, holder, balance)\n",
    "        self.interest_rate = interest_rate\n",
    "    def __str__(self):\n",
    "        return super().__str__() + '-intereste rate:' + str(self.interest_rate)\n",
    "        \n",
    "    \n",
    "class CurrentAccount(Account):\n",
    "    def __init__(self, number, holder, balance, overdraft_limit):\n",
    "        super().__init__(number, holder, balance)\n",
    "        self.overdraft_limit = overdraft_limit\n",
    "    def __str__(self):\n",
    "        return super().__str__() + '-overdraft limit:' + str(self.overdraft_limit)\n",
    "    def withdraw(self, amount):    \n",
    "        if amount > 0:\n",
    "            if amount <= self.overdraft_limit:\n",
    "                self.balance -= amount\n",
    "                return self.balance\n",
    "            else:\n",
    "                raise BalanceError(self.number, self.holder, self.balance, self.overdraft_limit)\n",
    "        else:\n",
    "            raise AmountError(self.number, self.holder, self.balance, self.overdraft_limit)\n",
    "            \n",
    "    \n",
    "class InvestmentAccount(Account):\n",
    "    def __init__(self, number, holder, balance, investment_type):\n",
    "        super().__init__(number, holder, balance)\n",
    "        self.investment_type = investment_type\n",
    "    def __str__(self):\n",
    "        return super().__str__() + '-investment type:' + str(self.investment_type)"
   ]
  },
  {
   "cell_type": "code",
   "execution_count": 7,
   "metadata": {},
   "outputs": [
    {
     "name": "stdout",
     "output_type": "stream",
     "text": [
      "Conta Criada\n",
      "__getattr__: unknown attribute accessed -  branch\n",
      "acc1.branch: -1\n"
     ]
    }
   ],
   "source": [
    "acc1 = CurrentAccount('123', 'John', 10.05, 100.0)\n",
    "print('acc1.branch:', acc1.branch)"
   ]
  },
  {
   "cell_type": "code",
   "execution_count": null,
   "metadata": {},
   "outputs": [],
   "source": []
  }
 ],
 "metadata": {
  "kernelspec": {
   "display_name": "Python 3",
   "language": "python",
   "name": "python3"
  },
  "language_info": {
   "codemirror_mode": {
    "name": "ipython",
    "version": 3
   },
   "file_extension": ".py",
   "mimetype": "text/x-python",
   "name": "python",
   "nbconvert_exporter": "python",
   "pygments_lexer": "ipython3",
   "version": "3.6.9"
  }
 },
 "nbformat": 4,
 "nbformat_minor": 4
}
