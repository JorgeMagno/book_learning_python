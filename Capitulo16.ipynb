{
 "cells": [
  {
   "cell_type": "code",
   "execution_count": 2,
   "metadata": {},
   "outputs": [
    {
     "name": "stdout",
     "output_type": "stream",
     "text": [
      "10\n",
      "15\n",
      "10\n"
     ]
    }
   ],
   "source": [
    "def multiply(a, b):\n",
    "    return a * b\n",
    "\n",
    "def multby(func, num):\n",
    "    return lambda y: func(num, y)\n",
    "\n",
    "double = multby(multiply, 2)\n",
    "triple = multby(multiply, 3)\n",
    "\n",
    "print(double(5))\n",
    "print(triple(5))\n",
    "\n",
    "print(multiply(2, 5))"
   ]
  },
  {
   "cell_type": "code",
   "execution_count": 3,
   "metadata": {},
   "outputs": [
    {
     "name": "stdout",
     "output_type": "stream",
     "text": [
      "110\n",
      "60\n"
     ]
    }
   ],
   "source": [
    "more = 100\n",
    "def increase(num):\n",
    "    return num + more\n",
    "\n",
    "print(increase(10))\n",
    "more = 50\n",
    "print(increase(10))"
   ]
  },
  {
   "cell_type": "code",
   "execution_count": 4,
   "metadata": {},
   "outputs": [
    {
     "name": "stdout",
     "output_type": "stream",
     "text": [
      "6\n",
      "55\n"
     ]
    }
   ],
   "source": [
    "def increment(num):\n",
    "    return num + 1\n",
    "\n",
    "def reset_function():\n",
    "    global increment\n",
    "    addition = 50\n",
    "    increment = lambda num: num + addition\n",
    "\n",
    "print(increment(5))\n",
    "reset_function()\n",
    "print(increment(5))"
   ]
  },
  {
   "cell_type": "code",
   "execution_count": 4,
   "metadata": {},
   "outputs": [
    {
     "name": "stdout",
     "output_type": "stream",
     "text": [
      "3.85\n",
      "13.2\n",
      "9.1\n",
      "10.26\n"
     ]
    }
   ],
   "source": [
    "def convert(a, b):\n",
    "    return a * b\n",
    "    \n",
    "def curry(func, num):\n",
    "    return lambda y: func(num, y)\n",
    "\n",
    "dollars_to_sterling = curry(convert, 0.77)\n",
    "print(dollars_to_sterling(5))\n",
    "\n",
    "euro_to_sterling = curry(convert, 0.88)\n",
    "print(euro_to_sterling(15))\n",
    "\n",
    "sterling_to_dollars = curry(convert, 1.3)\n",
    "print(sterling_to_dollars(7))\n",
    "\n",
    "sterling_to_euro = curry(convert, 1.14)\n",
    "print(sterling_to_euro(9))"
   ]
  },
  {
   "cell_type": "code",
   "execution_count": null,
   "metadata": {},
   "outputs": [],
   "source": []
  }
 ],
 "metadata": {
  "kernelspec": {
   "display_name": "Python 3",
   "language": "python",
   "name": "python3"
  },
  "language_info": {
   "codemirror_mode": {
    "name": "ipython",
    "version": 3
   },
   "file_extension": ".py",
   "mimetype": "text/x-python",
   "name": "python",
   "nbconvert_exporter": "python",
   "pygments_lexer": "ipython3",
   "version": "3.6.9"
  }
 },
 "nbformat": 4,
 "nbformat_minor": 4
}
