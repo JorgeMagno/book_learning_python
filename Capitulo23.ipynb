{
 "cells": [
  {
   "cell_type": "code",
   "execution_count": 1,
   "metadata": {},
   "outputs": [],
   "source": [
    "class Person:\n",
    "    def __init__(self, name, age):\n",
    "        self.name = name\n",
    "        self.age = age\n",
    "    def __str__(self):\n",
    "        return 'Person[' + str(self.name) + '] is ' + str(self.age)"
   ]
  },
  {
   "cell_type": "code",
   "execution_count": 2,
   "metadata": {},
   "outputs": [
    {
     "name": "stdout",
     "output_type": "stream",
     "text": [
      "Person[42] is -1\n"
     ]
    }
   ],
   "source": [
    "person = Person('John', 54)\n",
    "person.name = 42\n",
    "person.age = -1\n",
    "print(person)"
   ]
  },
  {
   "cell_type": "code",
   "execution_count": 6,
   "metadata": {},
   "outputs": [],
   "source": [
    "class Person:\n",
    "    def __init__(self, name, age):\n",
    "        self._name = name\n",
    "        self._age = age\n",
    "    def __str__(self):\n",
    "        return 'Person[' + str(self._name) + '] is ' + str(self._age)"
   ]
  },
  {
   "cell_type": "code",
   "execution_count": 8,
   "metadata": {},
   "outputs": [
    {
     "name": "stdout",
     "output_type": "stream",
     "text": [
      "Person[John] is -1\n"
     ]
    }
   ],
   "source": [
    "person = Person('John', 54)\n",
    "person._age = -1\n",
    "print(person)"
   ]
  },
  {
   "cell_type": "code",
   "execution_count": 70,
   "metadata": {},
   "outputs": [],
   "source": [
    "class Person:\n",
    "    def __init__(self, name, age):\n",
    "        self._name = name\n",
    "        self._age = age\n",
    "    def get_age(self):\n",
    "        return self._age\n",
    "    def set_age(self, new_age):\n",
    "        if isinstance(new_age,int) & (new_age > 0 and new_age < 120):\n",
    "            self._age = new_age\n",
    "    def get_name(self):\n",
    "        return self._name\n",
    "    def __str__(self):\n",
    "        return 'Person[' + str(self._name) +'] is ' + str(self._age)"
   ]
  },
  {
   "cell_type": "code",
   "execution_count": 72,
   "metadata": {},
   "outputs": [
    {
     "name": "stdout",
     "output_type": "stream",
     "text": [
      "Person[John] is 54\n"
     ]
    }
   ],
   "source": [
    "person = Person('John', 54)\n",
    "person.set_age(-12)\n",
    "print(person)"
   ]
  },
  {
   "cell_type": "code",
   "execution_count": 88,
   "metadata": {},
   "outputs": [],
   "source": [
    "class Person:\n",
    "    def __init__(self, name, age):\n",
    "        self._name = name\n",
    "        self._age = age\n",
    "    def get_age(self):\n",
    "        return self._age\n",
    "    def set_age(self, new_age):\n",
    "        if isinstance(new_age,int) & (new_age > 0 and new_age < 120):\n",
    "            self._age = new_age\n",
    "    age = property(get_age, set_age, doc=\"An age property\")\n",
    "    def get_name(self):\n",
    "        return self._name\n",
    "    name = property(get_name, doc=\"A name property\")\n",
    "    def __str__(self):\n",
    "        return 'Person[' + str(self._name) +'] is ' + str(self._age)"
   ]
  },
  {
   "cell_type": "code",
   "execution_count": 89,
   "metadata": {},
   "outputs": [
    {
     "name": "stdout",
     "output_type": "stream",
     "text": [
      "Person[John] is 54\n",
      "54\n",
      "John\n",
      "Person[John] is 21\n"
     ]
    }
   ],
   "source": [
    "person = Person('John', 54)\n",
    "print(person)\n",
    "print(person.age)\n",
    "print(person.name)\n",
    "person.age = 21\n",
    "print(person)"
   ]
  },
  {
   "cell_type": "code",
   "execution_count": 75,
   "metadata": {},
   "outputs": [],
   "source": [
    "class Person:\n",
    "    def __init__(self, name, age):\n",
    "        self._name = name\n",
    "        self._age = age\n",
    "    @property\n",
    "    def age(self):\n",
    "        \"\"\" The docstring for the age property \"\"\"\n",
    "        print('In age method')\n",
    "        return self._age\n",
    "    @age.setter\n",
    "    def age(self, value):\n",
    "        print('In set_age method')\n",
    "        if isinstance(value,int) and value > 0 and value < 120:\n",
    "            self._age = value\n",
    "    @property\n",
    "    def name(self):\n",
    "        print('In name')\n",
    "        return self._name\n",
    "    @name.deleter\n",
    "    def name(self):\n",
    "        del self._name\n",
    "    def __str__(self):\n",
    "        return 'Person[' + str(self._name) +'] is ' + str(self._age)"
   ]
  },
  {
   "cell_type": "code",
   "execution_count": 90,
   "metadata": {},
   "outputs": [],
   "source": [
    "class Account:\n",
    "    instance_count = 0\n",
    "    @staticmethod\n",
    "    def static_function():\n",
    "        print('Conta Criada')\n",
    "        \n",
    "    @classmethod\n",
    "    def increment_instance_count(cls):\n",
    "        cls.instance_count += 1\n",
    "        \n",
    "    def __init__(self, number,holder, balance):\n",
    "        Account.increment_instance_count()\n",
    "        self.number = number\n",
    "        self.holder = holder\n",
    "        self.balance = balance\n",
    "        Account.static_function()\n",
    "        \n",
    "    def __str__(self):\n",
    "        return 'Account Number:'+ self.number + ' - ' + self.holder +', ' +' account = ' + str(self.balance)\n",
    "    \n",
    "    def deposit(self, amount):\n",
    "        self.balance += amount\n",
    "        return self.balance\n",
    "    \n",
    "    def get_balance(self):\n",
    "        return self.balance\n",
    "    #balance = property(get_balance, doc=\"A balance property\")\n",
    "class DepositAccount(Account):\n",
    "    def __init__(self, number, holder, balance, interest_rate):\n",
    "        super().__init__(number, holder, balance)\n",
    "        self.interest_rate = interest_rate\n",
    "    def __str__(self):\n",
    "        return super().__str__() + '-intereste rate:' + str(self.interest_rate)\n",
    "        \n",
    "    \n",
    "class CurrentAccount(Account):\n",
    "    def __init__(self, number, holder, balance, overdraft_limit):\n",
    "        super().__init__(number, holder, balance)\n",
    "        self.overdraft_limit = overdraft_limit\n",
    "    def __str__(self):\n",
    "        return super().__str__() + '-overdraft limit:' + str(self.overdraft_limit)\n",
    "    def withdraw(self, amount):    \n",
    "        if amount <= self.overdraft_limit:\n",
    "            self.balance -= amount\n",
    "            return self.balance\n",
    "        else:\n",
    "            print ('Withdrawal would exceed your overdraft limit')\n",
    "    \n",
    "class InvestmentAccount(Account):\n",
    "    def __init__(self, number, holder, balance, investment_type):\n",
    "        super().__init__(number, holder, balance)\n",
    "        self.investment_type = investment_type\n",
    "    def __str__(self):\n",
    "        return super().__str__() + '-investment type:' + str(self.investment_type)"
   ]
  },
  {
   "cell_type": "code",
   "execution_count": 91,
   "metadata": {},
   "outputs": [
    {
     "name": "stdout",
     "output_type": "stream",
     "text": [
      "Conta Criada\n",
      "Conta Criada\n",
      "Conta Criada\n",
      "Account Number:123 - John,  account = 10.05-overdraft limit:100.0\n",
      "Account Number:345 - John,  account = 23.55-intereste rate:0.5\n",
      "Account Number:567 - Phoebe,  account = 12.45-investment type:high risk\n",
      "balance: 21.17\n",
      "Number of Account instances created: 3\n",
      "balance: 21.17\n",
      "Withdrawal would exceed your overdraft limit\n",
      "balance: 21.17\n"
     ]
    }
   ],
   "source": [
    "acc1 = CurrentAccount('123', 'John', 10.05, 100.0)\n",
    "acc2 = DepositAccount('345', 'John', 23.55, 0.5)\n",
    "acc3 = InvestmentAccount('567', 'Phoebe', 12.45,'high risk')\n",
    "\n",
    "print(acc1)\n",
    "print(acc2)\n",
    "print(acc3)\n",
    "\n",
    "acc1.deposit(23.45)\n",
    "acc1.withdraw(12.33)\n",
    "print('balance:', acc1.balance)\n",
    "\n",
    "print('Number of Account instances created:', Account.instance_count)\n",
    "\n",
    "print('balance:', acc1.balance)\n",
    "acc1.withdraw(300.00)\n",
    "print('balance:', acc1.balance)"
   ]
  },
  {
   "cell_type": "code",
   "execution_count": null,
   "metadata": {},
   "outputs": [],
   "source": []
  }
 ],
 "metadata": {
  "kernelspec": {
   "display_name": "Python 3",
   "language": "python",
   "name": "python3"
  },
  "language_info": {
   "codemirror_mode": {
    "name": "ipython",
    "version": 3
   },
   "file_extension": ".py",
   "mimetype": "text/x-python",
   "name": "python",
   "nbconvert_exporter": "python",
   "pygments_lexer": "ipython3",
   "version": "3.6.9"
  }
 },
 "nbformat": 4,
 "nbformat_minor": 4
}
