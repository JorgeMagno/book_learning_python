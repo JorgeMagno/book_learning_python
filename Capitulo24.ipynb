{
 "cells": [
  {
   "cell_type": "code",
   "execution_count": 1,
   "metadata": {},
   "outputs": [],
   "source": [
    "def runcalc(x):\n",
    "    x / 0"
   ]
  },
  {
   "cell_type": "code",
   "execution_count": 2,
   "metadata": {},
   "outputs": [
    {
     "ename": "ZeroDivisionError",
     "evalue": "division by zero",
     "output_type": "error",
     "traceback": [
      "\u001b[0;31m---------------------------------------------------------------------------\u001b[0m",
      "\u001b[0;31mZeroDivisionError\u001b[0m                         Traceback (most recent call last)",
      "\u001b[0;32m<ipython-input-2-11fa00db35ac>\u001b[0m in \u001b[0;36m<module>\u001b[0;34m\u001b[0m\n\u001b[0;32m----> 1\u001b[0;31m \u001b[0mruncalc\u001b[0m\u001b[0;34m(\u001b[0m\u001b[0;36m6\u001b[0m\u001b[0;34m)\u001b[0m\u001b[0;34m\u001b[0m\u001b[0;34m\u001b[0m\u001b[0m\n\u001b[0m",
      "\u001b[0;32m<ipython-input-1-0e9b731e8d64>\u001b[0m in \u001b[0;36mruncalc\u001b[0;34m(x)\u001b[0m\n\u001b[1;32m      1\u001b[0m \u001b[0;32mdef\u001b[0m \u001b[0mruncalc\u001b[0m\u001b[0;34m(\u001b[0m\u001b[0mx\u001b[0m\u001b[0;34m)\u001b[0m\u001b[0;34m:\u001b[0m\u001b[0;34m\u001b[0m\u001b[0;34m\u001b[0m\u001b[0m\n\u001b[0;32m----> 2\u001b[0;31m     \u001b[0mx\u001b[0m \u001b[0;34m/\u001b[0m \u001b[0;36m0\u001b[0m\u001b[0;34m\u001b[0m\u001b[0;34m\u001b[0m\u001b[0m\n\u001b[0m",
      "\u001b[0;31mZeroDivisionError\u001b[0m: division by zero"
     ]
    }
   ],
   "source": [
    "runcalc(6)"
   ]
  },
  {
   "cell_type": "code",
   "execution_count": 3,
   "metadata": {},
   "outputs": [
    {
     "name": "stdout",
     "output_type": "stream",
     "text": [
      "oops\n"
     ]
    }
   ],
   "source": [
    "try:\n",
    "    runcalc(6)\n",
    "except ZeroDivisionError:\n",
    "    print('oops')"
   ]
  },
  {
   "cell_type": "code",
   "execution_count": 4,
   "metadata": {},
   "outputs": [
    {
     "name": "stdout",
     "output_type": "stream",
     "text": [
      "oops\n"
     ]
    }
   ],
   "source": [
    "try:\n",
    "    runcalc(6)\n",
    "except Exception:\n",
    "    print('oops')"
   ]
  },
  {
   "cell_type": "code",
   "execution_count": 5,
   "metadata": {},
   "outputs": [
    {
     "name": "stdout",
     "output_type": "stream",
     "text": [
      "oops\n"
     ]
    }
   ],
   "source": [
    "try:\n",
    "    runcalc(6)\n",
    "except ZeroDivisionError:\n",
    "    print('oops')\n",
    "except IndexError:\n",
    "    print('arrgh')\n",
    "except FileNotFoundError:\n",
    "    print('huh!')\n",
    "except Exception:\n",
    "    print('Duh!')"
   ]
  },
  {
   "cell_type": "code",
   "execution_count": 6,
   "metadata": {},
   "outputs": [
    {
     "name": "stdout",
     "output_type": "stream",
     "text": [
      "division by zero\n",
      "oops\n"
     ]
    }
   ],
   "source": [
    "try:\n",
    "    runcalc(6)\n",
    "except ZeroDivisionError as exp:\n",
    "    print(exp)\n",
    "    print('oops')"
   ]
  },
  {
   "cell_type": "code",
   "execution_count": 7,
   "metadata": {},
   "outputs": [
    {
     "name": "stdout",
     "output_type": "stream",
     "text": [
      "division by zero\n",
      "oops\n"
     ]
    }
   ],
   "source": [
    "try:\n",
    "    runcalc(6)\n",
    "except ZeroDivisionError as exp:\n",
    "    print(exp)\n",
    "    print('oops')\n",
    "except IndexError as e:\n",
    "    print(e)\n",
    "    print('arrgh')\n",
    "except FileNotFoundError:\n",
    "    print('huh!')\n",
    "except Exception as exception:\n",
    "    print(exception)\n",
    "    print('Duh!')"
   ]
  },
  {
   "cell_type": "code",
   "execution_count": 9,
   "metadata": {},
   "outputs": [
    {
     "name": "stdout",
     "output_type": "stream",
     "text": [
      "Starting\n",
      "Before my_function\n",
      "my_function in\n",
      "my_function out\n",
      "After my_function\n",
      "Done\n"
     ]
    }
   ],
   "source": [
    "def my_function(x, y):\n",
    "    print('my_function in')\n",
    "    result = x / y\n",
    "    print('my_function out')\n",
    "    return result\n",
    "print('Starting')\n",
    "try:\n",
    "    print('Before my_function')\n",
    "    my_function(6, 2)\n",
    "    print('After my_function')\n",
    "except ZeroDivisionError as exp:\n",
    "    print('oops')\n",
    "print('Done')"
   ]
  },
  {
   "cell_type": "code",
   "execution_count": 10,
   "metadata": {},
   "outputs": [
    {
     "name": "stdout",
     "output_type": "stream",
     "text": [
      "Starting\n",
      "Before my_function\n",
      "my_function in\n",
      "oops\n",
      "Done\n"
     ]
    }
   ],
   "source": [
    "def my_function(x, y):\n",
    "    print('my_function in')\n",
    "    result = x / y\n",
    "    print('my_function out')\n",
    "    return result\n",
    "print('Starting')\n",
    "try:\n",
    "    print('Before my_function')\n",
    "    my_function(6, 0)\n",
    "    print('After my_function')\n",
    "except ZeroDivisionError as exp:\n",
    "    print('oops')\n",
    "print('Done')"
   ]
  },
  {
   "cell_type": "code",
   "execution_count": 11,
   "metadata": {},
   "outputs": [
    {
     "name": "stdout",
     "output_type": "stream",
     "text": [
      "my_function in\n",
      "Something went wrong\n"
     ]
    }
   ],
   "source": [
    "try:\n",
    "    my_function(6, 0)\n",
    "except IndexError as e:\n",
    "    print(e)\n",
    "except:\n",
    "    print('Something went wrong')"
   ]
  },
  {
   "cell_type": "code",
   "execution_count": 12,
   "metadata": {},
   "outputs": [
    {
     "name": "stdout",
     "output_type": "stream",
     "text": [
      "my_function in\n",
      "my_function out\n",
      "Everything worked OK\n"
     ]
    }
   ],
   "source": [
    "try:\n",
    "    my_function(6, 2)\n",
    "except ZeroDivisionError as e:\n",
    "    print(e)\n",
    "else:\n",
    "    print('Everything worked OK')"
   ]
  },
  {
   "cell_type": "code",
   "execution_count": 13,
   "metadata": {},
   "outputs": [
    {
     "name": "stdout",
     "output_type": "stream",
     "text": [
      "my_function in\n",
      "division by zero\n"
     ]
    }
   ],
   "source": [
    "try:\n",
    "    my_function(6, 0)\n",
    "except ZeroDivisionError as e:\n",
    "    print(e)\n",
    "else:\n",
    "    print('Everything worked OK')"
   ]
  },
  {
   "cell_type": "code",
   "execution_count": 14,
   "metadata": {},
   "outputs": [
    {
     "name": "stdout",
     "output_type": "stream",
     "text": [
      "my_function in\n",
      "my_function out\n",
      "Everything worked OK\n",
      "Always runs\n"
     ]
    }
   ],
   "source": [
    "try:\n",
    "    my_function(6, 2)\n",
    "except ZeroDivisionError as e:\n",
    "    print(e)\n",
    "else:\n",
    "    print('Everything worked OK')\n",
    "finally:\n",
    "    print('Always runs')"
   ]
  },
  {
   "cell_type": "code",
   "execution_count": 15,
   "metadata": {},
   "outputs": [
    {
     "name": "stdout",
     "output_type": "stream",
     "text": [
      "my_function in\n",
      "division by zero\n",
      "Always runs\n"
     ]
    }
   ],
   "source": [
    "try:\n",
    "    my_function(6, 0)\n",
    "except ZeroDivisionError as e:\n",
    "    print(e)\n",
    "else:\n",
    "    print('Everything worked OK')\n",
    "finally:\n",
    "    print('Always runs')"
   ]
  },
  {
   "cell_type": "code",
   "execution_count": 16,
   "metadata": {},
   "outputs": [],
   "source": [
    "def function_bang():\n",
    "    print('function_bang in')\n",
    "    raise ValueError('Bang!')\n",
    "    print('function_bang')"
   ]
  },
  {
   "cell_type": "code",
   "execution_count": 17,
   "metadata": {},
   "outputs": [
    {
     "name": "stdout",
     "output_type": "stream",
     "text": [
      "function_bang in\n",
      "Bang!\n"
     ]
    }
   ],
   "source": [
    "try:\n",
    "    function_bang()\n",
    "except ValueError as ve:\n",
    "    print(ve)"
   ]
  },
  {
   "cell_type": "code",
   "execution_count": 18,
   "metadata": {},
   "outputs": [
    {
     "name": "stdout",
     "output_type": "stream",
     "text": [
      "function_bang in\n",
      "oops\n"
     ]
    },
    {
     "ename": "ValueError",
     "evalue": "Bang!",
     "output_type": "error",
     "traceback": [
      "\u001b[0;31m---------------------------------------------------------------------------\u001b[0m",
      "\u001b[0;31mValueError\u001b[0m                                Traceback (most recent call last)",
      "\u001b[0;32m<ipython-input-18-6c4ccf141dc9>\u001b[0m in \u001b[0;36m<module>\u001b[0;34m\u001b[0m\n\u001b[1;32m      1\u001b[0m \u001b[0;32mtry\u001b[0m\u001b[0;34m:\u001b[0m\u001b[0;34m\u001b[0m\u001b[0;34m\u001b[0m\u001b[0m\n\u001b[0;32m----> 2\u001b[0;31m     \u001b[0mfunction_bang\u001b[0m\u001b[0;34m(\u001b[0m\u001b[0;34m)\u001b[0m\u001b[0;34m\u001b[0m\u001b[0;34m\u001b[0m\u001b[0m\n\u001b[0m\u001b[1;32m      3\u001b[0m \u001b[0;32mexcept\u001b[0m \u001b[0mValueError\u001b[0m\u001b[0;34m:\u001b[0m\u001b[0;34m\u001b[0m\u001b[0;34m\u001b[0m\u001b[0m\n\u001b[1;32m      4\u001b[0m     \u001b[0mprint\u001b[0m\u001b[0;34m(\u001b[0m\u001b[0;34m'oops'\u001b[0m\u001b[0;34m)\u001b[0m\u001b[0;34m\u001b[0m\u001b[0;34m\u001b[0m\u001b[0m\n\u001b[1;32m      5\u001b[0m     \u001b[0;32mraise\u001b[0m\u001b[0;34m\u001b[0m\u001b[0;34m\u001b[0m\u001b[0m\n",
      "\u001b[0;32m<ipython-input-16-7d94e1c40310>\u001b[0m in \u001b[0;36mfunction_bang\u001b[0;34m()\u001b[0m\n\u001b[1;32m      1\u001b[0m \u001b[0;32mdef\u001b[0m \u001b[0mfunction_bang\u001b[0m\u001b[0;34m(\u001b[0m\u001b[0;34m)\u001b[0m\u001b[0;34m:\u001b[0m\u001b[0;34m\u001b[0m\u001b[0;34m\u001b[0m\u001b[0m\n\u001b[1;32m      2\u001b[0m     \u001b[0mprint\u001b[0m\u001b[0;34m(\u001b[0m\u001b[0;34m'function_bang in'\u001b[0m\u001b[0;34m)\u001b[0m\u001b[0;34m\u001b[0m\u001b[0;34m\u001b[0m\u001b[0m\n\u001b[0;32m----> 3\u001b[0;31m     \u001b[0;32mraise\u001b[0m \u001b[0mValueError\u001b[0m\u001b[0;34m(\u001b[0m\u001b[0;34m'Bang!'\u001b[0m\u001b[0;34m)\u001b[0m\u001b[0;34m\u001b[0m\u001b[0;34m\u001b[0m\u001b[0m\n\u001b[0m\u001b[1;32m      4\u001b[0m     \u001b[0mprint\u001b[0m\u001b[0;34m(\u001b[0m\u001b[0;34m'function_bang'\u001b[0m\u001b[0;34m)\u001b[0m\u001b[0;34m\u001b[0m\u001b[0;34m\u001b[0m\u001b[0m\n",
      "\u001b[0;31mValueError\u001b[0m: Bang!"
     ]
    }
   ],
   "source": [
    "try:\n",
    "    function_bang()\n",
    "except ValueError:\n",
    "    print('oops')\n",
    "    raise"
   ]
  },
  {
   "cell_type": "code",
   "execution_count": 19,
   "metadata": {},
   "outputs": [
    {
     "name": "stdout",
     "output_type": "stream",
     "text": [
      "function_bang in\n",
      "Bang!\n"
     ]
    },
    {
     "ename": "ValueError",
     "evalue": "Bang!",
     "output_type": "error",
     "traceback": [
      "\u001b[0;31m---------------------------------------------------------------------------\u001b[0m",
      "\u001b[0;31mValueError\u001b[0m                                Traceback (most recent call last)",
      "\u001b[0;32m<ipython-input-19-edc86c1c872f>\u001b[0m in \u001b[0;36m<module>\u001b[0;34m\u001b[0m\n\u001b[1;32m      1\u001b[0m \u001b[0;32mtry\u001b[0m\u001b[0;34m:\u001b[0m\u001b[0;34m\u001b[0m\u001b[0;34m\u001b[0m\u001b[0m\n\u001b[0;32m----> 2\u001b[0;31m     \u001b[0mfunction_bang\u001b[0m\u001b[0;34m(\u001b[0m\u001b[0;34m)\u001b[0m\u001b[0;34m\u001b[0m\u001b[0;34m\u001b[0m\u001b[0m\n\u001b[0m\u001b[1;32m      3\u001b[0m \u001b[0;32mexcept\u001b[0m \u001b[0mValueError\u001b[0m \u001b[0;32mas\u001b[0m \u001b[0mve\u001b[0m\u001b[0;34m:\u001b[0m\u001b[0;34m\u001b[0m\u001b[0;34m\u001b[0m\u001b[0m\n\u001b[1;32m      4\u001b[0m     \u001b[0mprint\u001b[0m\u001b[0;34m(\u001b[0m\u001b[0mve\u001b[0m\u001b[0;34m)\u001b[0m\u001b[0;34m\u001b[0m\u001b[0;34m\u001b[0m\u001b[0m\n\u001b[1;32m      5\u001b[0m     \u001b[0;32mraise\u001b[0m\u001b[0;34m\u001b[0m\u001b[0;34m\u001b[0m\u001b[0m\n",
      "\u001b[0;32m<ipython-input-16-7d94e1c40310>\u001b[0m in \u001b[0;36mfunction_bang\u001b[0;34m()\u001b[0m\n\u001b[1;32m      1\u001b[0m \u001b[0;32mdef\u001b[0m \u001b[0mfunction_bang\u001b[0m\u001b[0;34m(\u001b[0m\u001b[0;34m)\u001b[0m\u001b[0;34m:\u001b[0m\u001b[0;34m\u001b[0m\u001b[0;34m\u001b[0m\u001b[0m\n\u001b[1;32m      2\u001b[0m     \u001b[0mprint\u001b[0m\u001b[0;34m(\u001b[0m\u001b[0;34m'function_bang in'\u001b[0m\u001b[0;34m)\u001b[0m\u001b[0;34m\u001b[0m\u001b[0;34m\u001b[0m\u001b[0m\n\u001b[0;32m----> 3\u001b[0;31m     \u001b[0;32mraise\u001b[0m \u001b[0mValueError\u001b[0m\u001b[0;34m(\u001b[0m\u001b[0;34m'Bang!'\u001b[0m\u001b[0;34m)\u001b[0m\u001b[0;34m\u001b[0m\u001b[0;34m\u001b[0m\u001b[0m\n\u001b[0m\u001b[1;32m      4\u001b[0m     \u001b[0mprint\u001b[0m\u001b[0;34m(\u001b[0m\u001b[0;34m'function_bang'\u001b[0m\u001b[0;34m)\u001b[0m\u001b[0;34m\u001b[0m\u001b[0;34m\u001b[0m\u001b[0m\n",
      "\u001b[0;31mValueError\u001b[0m: Bang!"
     ]
    }
   ],
   "source": [
    "try:\n",
    "    function_bang()\n",
    "except ValueError as ve:\n",
    "    print(ve)\n",
    "    raise"
   ]
  },
  {
   "cell_type": "code",
   "execution_count": 20,
   "metadata": {},
   "outputs": [],
   "source": [
    "class InvalidAgeException(Exception):\n",
    "    \"\"\" Valid Ages must be between 0 and 120 \"\"\""
   ]
  },
  {
   "cell_type": "code",
   "execution_count": 21,
   "metadata": {},
   "outputs": [],
   "source": [
    "class Person:\n",
    "    def __init__(self, name, age):\n",
    "        self._name = name\n",
    "        self._age = age\n",
    "    @property\n",
    "    def age(self):\n",
    "        \"\"\" The docstring for the age property \"\"\"\n",
    "        print('In age method')\n",
    "        return self._age\n",
    "    @age.setter\n",
    "    def age(self, value):\n",
    "        print('In set_age method(', value, ')')\n",
    "        if isinstance(value, int) & (value > 0 & value < 120):\n",
    "            self._age = value\n",
    "        else:\n",
    "            raise InvalidAgeException(value)\n",
    "    @property\n",
    "    def name(self):\n",
    "        print('In name')\n",
    "        return self._name\n",
    "    @name.deleter\n",
    "    def name(self):\n",
    "        del self._name\n",
    "    def __str__(self):\n",
    "        return 'Person[' + str(self._name) + '] is ' + self._age"
   ]
  },
  {
   "cell_type": "code",
   "execution_count": 22,
   "metadata": {},
   "outputs": [
    {
     "name": "stdout",
     "output_type": "stream",
     "text": [
      "In set_age method( -1 )\n",
      "In here\n"
     ]
    }
   ],
   "source": [
    "try:\n",
    "    p = Person('Adam', 21)\n",
    "    p.age = -1\n",
    "except InvalidAgeException:\n",
    "    print('In here')"
   ]
  },
  {
   "cell_type": "code",
   "execution_count": 23,
   "metadata": {},
   "outputs": [],
   "source": [
    "class InvalidAgeException(Exception):\n",
    "    \"\"\" Valid Ages must be between 0 and 120 \"\"\"\n",
    "    def __init__(self, value):\n",
    "        self.value = value\n",
    "    def __str__(self):\n",
    "        return 'InvalidAgeException(' + str(self.value) + ')'"
   ]
  },
  {
   "cell_type": "code",
   "execution_count": 24,
   "metadata": {},
   "outputs": [],
   "source": [
    "class Person:\n",
    "    def __init__(self, name, age):\n",
    "        self._name = name\n",
    "        self._age = age\n",
    "    @property\n",
    "    def age(self):\n",
    "        \"\"\" The docstring for the age property \"\"\"\n",
    "        print('In age method')\n",
    "        return self._age\n",
    "    @age.setter\n",
    "    def age(self, value):\n",
    "        print('In set_age method(', value, ')')\n",
    "        if isinstance(value, int) & (value > 0 & value < 120):\n",
    "            self._age = value\n",
    "        else:\n",
    "            raise InvalidAgeException(value)\n",
    "    @property\n",
    "    def name(self):\n",
    "        print('In name')\n",
    "        return self._name\n",
    "    @name.deleter\n",
    "    def name(self):\n",
    "        del self._name\n",
    "    def __str__(self):\n",
    "        return 'Person[' + str(self._name) + '] is ' + self._age"
   ]
  },
  {
   "cell_type": "code",
   "execution_count": 25,
   "metadata": {},
   "outputs": [
    {
     "name": "stdout",
     "output_type": "stream",
     "text": [
      "In set_age method( -1 )\n",
      "InvalidAgeException(-1)\n"
     ]
    }
   ],
   "source": [
    "try:\n",
    "    p = Person('Adam', 21)\n",
    "    p.age = -1\n",
    "except InvalidAgeException as e:\n",
    "    print(e)"
   ]
  },
  {
   "cell_type": "code",
   "execution_count": 30,
   "metadata": {},
   "outputs": [],
   "source": [
    "class DivideByYWhenZeroException(Exception):\n",
    "    \"\"\" Sample Exception class\"\"\""
   ]
  },
  {
   "cell_type": "code",
   "execution_count": 35,
   "metadata": {},
   "outputs": [],
   "source": [
    "def divide(x, y):\n",
    "    try:\n",
    "        result = x /y\n",
    "    except Exception as e:\n",
    "        raise DivideByYWhenZeroException from e"
   ]
  },
  {
   "cell_type": "code",
   "execution_count": 36,
   "metadata": {},
   "outputs": [],
   "source": [
    "def main():\n",
    "    divide(6, 0)"
   ]
  },
  {
   "cell_type": "code",
   "execution_count": 98,
   "metadata": {},
   "outputs": [],
   "source": [
    "class AmountError(Exception):\n",
    "    def __init__(self, number, holder, balance, overdraft_limit):\n",
    "        self.number = number\n",
    "        self.holder = holder\n",
    "        self.balance = balance\n",
    "        self.overdraft_limit = overdraft_limit\n",
    "    def __str__(self):\n",
    "        return 'AmountError (Cannot deposit negative amounts) on Account Number:'+ self.number + ' - ' + self.holder +', ' +' account = ' + str(self.balance) + '-overdraft limit:' + str(self.overdraft_limit)\n",
    "\n",
    "class BalanceError(Exception):\n",
    "    def __init__(self, number, holder, balance, overdraft_limit):\n",
    "        self.number = number\n",
    "        self.holder = holder\n",
    "        self.balance = balance\n",
    "        self.overdraft_limit = overdraft_limit\n",
    "    def __str__(self):\n",
    "        return 'Withdrawal would exceed your overdraft limit on Account Number:'+ self.number + ' - ' + self.holder +', ' +' account = ' + str(self.balance) + '-overdraft limit:' + str(self.overdraft_limit)\n",
    "class Account:\n",
    "    instance_count = 0\n",
    "    @staticmethod\n",
    "    def static_function():\n",
    "        print('Conta Criada')\n",
    "        \n",
    "    @classmethod\n",
    "    def increment_instance_count(cls):\n",
    "        cls.instance_count += 1\n",
    "        \n",
    "    def __init__(self, number,holder, balance):\n",
    "        Account.increment_instance_count()\n",
    "        self.number = number\n",
    "        self.holder = holder\n",
    "        self.balance = balance\n",
    "        Account.static_function()\n",
    "        \n",
    "    def __str__(self):\n",
    "        return 'Account Number:'+ self.number + ' - ' + self.holder +', ' +' account = ' + str(self.balance)\n",
    "    \n",
    "    def deposit(self, amount):\n",
    "        if amount > 0:\n",
    "            self.balance += amount\n",
    "            return self.balance\n",
    "        else:\n",
    "            raise AmountError(self.number, self.holder, self.balance, self.overdraft_limit)\n",
    "            \n",
    "    def get_balance(self):\n",
    "        return self.balance\n",
    "    #balance = property(get_balance, doc=\"A balance property\")\n",
    "class DepositAccount(Account):\n",
    "    def __init__(self, number, holder, balance, interest_rate):\n",
    "        super().__init__(number, holder, balance)\n",
    "        self.interest_rate = interest_rate\n",
    "    def __str__(self):\n",
    "        return super().__str__() + '-intereste rate:' + str(self.interest_rate)\n",
    "        \n",
    "    \n",
    "class CurrentAccount(Account):\n",
    "    def __init__(self, number, holder, balance, overdraft_limit):\n",
    "        super().__init__(number, holder, balance)\n",
    "        self.overdraft_limit = overdraft_limit\n",
    "    def __str__(self):\n",
    "        return super().__str__() + '-overdraft limit:' + str(self.overdraft_limit)\n",
    "    def withdraw(self, amount):    \n",
    "        if amount > 0:\n",
    "            if amount <= self.overdraft_limit:\n",
    "                self.balance -= amount\n",
    "                return self.balance\n",
    "            else:\n",
    "                raise BalanceError(self.number, self.holder, self.balance, self.overdraft_limit)\n",
    "        else:\n",
    "            raise AmountError(self.number, self.holder, self.balance, self.overdraft_limit)\n",
    "            \n",
    "    \n",
    "class InvestmentAccount(Account):\n",
    "    def __init__(self, number, holder, balance, investment_type):\n",
    "        super().__init__(number, holder, balance)\n",
    "        self.investment_type = investment_type\n",
    "    def __str__(self):\n",
    "        return super().__str__() + '-investment type:' + str(self.investment_type)"
   ]
  },
  {
   "cell_type": "code",
   "execution_count": 99,
   "metadata": {},
   "outputs": [
    {
     "name": "stdout",
     "output_type": "stream",
     "text": [
      "Conta Criada\n",
      "Conta Criada\n",
      "Conta Criada\n",
      "Account Number:123 - John,  account = 10.05-overdraft limit:100.0\n",
      "Account Number:345 - John,  account = 23.55-intereste rate:0.5\n",
      "Account Number:567 - Phoebe,  account = 12.45-investment type:high risk\n",
      "balance: 21.17\n",
      "Number of Account instances created: 3\n"
     ]
    }
   ],
   "source": [
    "acc1 = CurrentAccount('123', 'John', 10.05, 100.0)\n",
    "acc2 = DepositAccount('345', 'John', 23.55, 0.5)\n",
    "acc3 = InvestmentAccount('567', 'Phoebe', 12.45,'high risk')\n",
    "\n",
    "print(acc1)\n",
    "print(acc2)\n",
    "print(acc3)\n",
    "\n",
    "acc1.deposit(23.45)\n",
    "acc1.withdraw(12.33)\n",
    "print('balance:', acc1.balance)\n",
    "\n",
    "print('Number of Account instances created:', Account.instance_count)"
   ]
  },
  {
   "cell_type": "code",
   "execution_count": 100,
   "metadata": {},
   "outputs": [
    {
     "name": "stdout",
     "output_type": "stream",
     "text": [
      "AmountError (Cannot deposit negative amounts) on Account Number:123 - John,  account = 21.17-overdraft limit:100.0\n"
     ]
    }
   ],
   "source": [
    "try:\n",
    "    acc1.deposit(-1)\n",
    "except AmountError as e:\n",
    "    print(e)"
   ]
  },
  {
   "cell_type": "code",
   "execution_count": 101,
   "metadata": {},
   "outputs": [
    {
     "name": "stdout",
     "output_type": "stream",
     "text": [
      "balance: 21.17\n",
      "Handling Exception\n",
      "Withdrawal would exceed your overdraft limit on Account Number:123 - John,  account = 21.17-overdraft limit:100.0\n"
     ]
    }
   ],
   "source": [
    "try:\n",
    "    print('balance:', acc1.balance)\n",
    "    acc1.withdraw(300.00)\n",
    "    print('balance:', acc1.balance)\n",
    "except BalanceError as e:\n",
    "    print('Handling Exception')\n",
    "    print(e)"
   ]
  },
  {
   "cell_type": "code",
   "execution_count": null,
   "metadata": {},
   "outputs": [],
   "source": []
  }
 ],
 "metadata": {
  "kernelspec": {
   "display_name": "Python 3",
   "language": "python",
   "name": "python3"
  },
  "language_info": {
   "codemirror_mode": {
    "name": "ipython",
    "version": 3
   },
   "file_extension": ".py",
   "mimetype": "text/x-python",
   "name": "python",
   "nbconvert_exporter": "python",
   "pygments_lexer": "ipython3",
   "version": "3.6.9"
  }
 },
 "nbformat": 4,
 "nbformat_minor": 4
}
