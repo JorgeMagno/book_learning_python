{
 "cells": [
  {
   "cell_type": "code",
   "execution_count": 1,
   "metadata": {},
   "outputs": [
    {
     "name": "stdout",
     "output_type": "stream",
     "text": [
      "list1: [1, 2, 3, 4, 5, 6]\n",
      "list2: [2, 3, 4, 5, 6, 7]\n"
     ]
    }
   ],
   "source": [
    "list1 = [1, 2, 3, 4, 5,6]\n",
    "print('list1:', list1)\n",
    "list2 = [item + 1 for item in list1]\n",
    "print('list2:', list2)"
   ]
  },
  {
   "cell_type": "code",
   "execution_count": 2,
   "metadata": {},
   "outputs": [
    {
     "name": "stdout",
     "output_type": "stream",
     "text": [
      "list3: [3, 5, 7]\n"
     ]
    }
   ],
   "source": [
    "list3 = [item + 1 for item in list1 if item % 2 == 0]\n",
    "print('list3:', list3)"
   ]
  },
  {
   "cell_type": "code",
   "execution_count": 3,
   "metadata": {},
   "outputs": [
    {
     "name": "stdout",
     "output_type": "stream",
     "text": [
      "Counter({'apple': 3, 'orange': 2, 'pear': 1})\n",
      "2\n"
     ]
    }
   ],
   "source": [
    "import collections\n",
    "\n",
    "fruit = collections.Counter(['apple', 'orange', 'pear','apple', 'orange', 'apple'])\n",
    "print(fruit)\n",
    "print(fruit['orange'])"
   ]
  },
  {
   "cell_type": "code",
   "execution_count": 6,
   "metadata": {},
   "outputs": [
    {
     "name": "stdout",
     "output_type": "stream",
     "text": [
      "fruit.most_common(1): [('apple', 3)]\n"
     ]
    }
   ],
   "source": [
    "print( 'fruit.most_common(1):' , fruit.most_common(1))"
   ]
  },
  {
   "cell_type": "code",
   "execution_count": 7,
   "metadata": {},
   "outputs": [
    {
     "name": "stdout",
     "output_type": "stream",
     "text": [
      "fruit1: Counter({'orange': 2, 'apple': 1, 'pear': 1})\n",
      "fruit2: Counter({'apple': 2, 'banana': 1})\n",
      "fruit1 + fruit2: Counter({'apple': 3, 'orange': 2, 'pear': 1, 'banana': 1})\n",
      "fruit1 - fruit2: Counter({'orange': 2, 'pear': 1})\n",
      "fruit1 | fruit2: Counter({'apple': 2, 'orange': 2, 'pear': 1, 'banana': 1})\n",
      "fruit1 & fruit2: Counter({'apple': 1})\n"
     ]
    }
   ],
   "source": [
    "fruit1 = collections.Counter(['apple', 'orange', 'pear','orange'])\n",
    "fruit2 = collections.Counter(['banana', 'apple', 'apple'])\n",
    "\n",
    "print('fruit1:', fruit1)\n",
    "print('fruit2:', fruit2)\n",
    "print('fruit1 + fruit2:', fruit1 + fruit2)\n",
    "print('fruit1 - fruit2:', fruit1 - fruit2)\n",
    "\n",
    "# Union (max(fruit1[n], fruit2[n])\n",
    "print('fruit1 | fruit2:', fruit1 | fruit2)\n",
    "# Intersection (min(fruit1[n], fruit2[n])\n",
    "print('fruit1 & fruit2:', fruit1 & fruit2)"
   ]
  },
  {
   "cell_type": "code",
   "execution_count": 8,
   "metadata": {},
   "outputs": [
    {
     "name": "stdout",
     "output_type": "stream",
     "text": [
      "True\n"
     ]
    }
   ],
   "source": [
    "print('apple' in fruit)"
   ]
  },
  {
   "cell_type": "code",
   "execution_count": 9,
   "metadata": {},
   "outputs": [],
   "source": [
    "fruit['apple'] = 1 # initialises the number of apples\n",
    "fruit['apple'] =+ 1 # Adds one to the number of apples\n",
    "fruit['apple'] =- 1 # Subtracts 1 from the number of apples"
   ]
  },
  {
   "cell_type": "code",
   "execution_count": 10,
   "metadata": {},
   "outputs": [
    {
     "name": "stdout",
     "output_type": "stream",
     "text": [
      "[1, 2, 3, 2, 3, 4]\n",
      "['hello', 'hello', 'hello', 'hello', 'hello']\n",
      "[5, 7, 9, 3, 1]\n",
      "[7, 9, 3]\n"
     ]
    }
   ],
   "source": [
    "import itertools\n",
    "# Connect two iterators together\n",
    "r1 = list(itertools.chain([1, 2, 3], [2, 3, 4]))\n",
    "print(r1)\n",
    "# Create iterator with element repeated specified number of\n",
    "# times (possibly infinite)\n",
    "r2 = list(itertools.repeat('hello', 5))\n",
    "print(r2)\n",
    "# Create iterator with elements from first iterator starting\n",
    "# where predicate function fails\n",
    "values = [1, 3, 5, 7, 9, 3, 1]\n",
    "r3 = list(itertools.dropwhile(lambda x: x < 5, values))\n",
    "print(r3)\n",
    "# Create iterator with elements from supplied iterator between\n",
    "# the two indexes (use ‘None’ for second index to go to end)\n",
    "r4 = list(itertools.islice(values, 3, 6))\n",
    "print(r4)"
   ]
  },
  {
   "cell_type": "code",
   "execution_count": 8,
   "metadata": {},
   "outputs": [
    {
     "name": "stdout",
     "output_type": "stream",
     "text": [
      "Please enter text to be analysed: cat sat mat hat cat hat cat\n",
      "Counter({'cat': 3, 'hat': 2, 'sat': 1, 'mat': 1})\n",
      "OrderedDict([('cat', 3), ('hat', 2), ('mat', 1), ('sat', 1)])\n"
     ]
    }
   ],
   "source": [
    "import collections\n",
    "\n",
    "frase = input('Please enter text to be analysed: ')\n",
    "palavras = []\n",
    "palavras = frase.split(' ')\n",
    "contagem_palavras = collections.Counter(palavras)\n",
    "print(contagem_palavras)\n",
    "ordem = collections.OrderedDict(sorted(contagem_palavras.items()))\n",
    "print(ordem)"
   ]
  },
  {
   "cell_type": "code",
   "execution_count": null,
   "metadata": {},
   "outputs": [],
   "source": []
  },
  {
   "cell_type": "code",
   "execution_count": null,
   "metadata": {},
   "outputs": [],
   "source": []
  }
 ],
 "metadata": {
  "kernelspec": {
   "display_name": "Python 3",
   "language": "python",
   "name": "python3"
  },
  "language_info": {
   "codemirror_mode": {
    "name": "ipython",
    "version": 3
   },
   "file_extension": ".py",
   "mimetype": "text/x-python",
   "name": "python",
   "nbconvert_exporter": "python",
   "pygments_lexer": "ipython3",
   "version": "3.6.9"
  }
 },
 "nbformat": 4,
 "nbformat_minor": 4
}
