{
 "cells": [
  {
   "cell_type": "code",
   "execution_count": 1,
   "metadata": {},
   "outputs": [],
   "source": [
    "def logger(func):\n",
    "    def inner():\n",
    "        print('calling ', func.__name__)\n",
    "        func()\n",
    "        print('called ', func.__name__)\n",
    "    return inner"
   ]
  },
  {
   "cell_type": "code",
   "execution_count": 2,
   "metadata": {},
   "outputs": [],
   "source": [
    "def target():\n",
    "    print('In target function')"
   ]
  },
  {
   "cell_type": "code",
   "execution_count": 3,
   "metadata": {},
   "outputs": [
    {
     "name": "stdout",
     "output_type": "stream",
     "text": [
      "calling  target\n",
      "In target function\n",
      "called  target\n"
     ]
    }
   ],
   "source": [
    "t1 = logger(target)\n",
    "t1()"
   ]
  },
  {
   "cell_type": "code",
   "execution_count": 4,
   "metadata": {},
   "outputs": [
    {
     "name": "stdout",
     "output_type": "stream",
     "text": [
      "calling  target\n",
      "In target function\n",
      "called  target\n"
     ]
    }
   ],
   "source": [
    "@logger\n",
    "def target():\n",
    "    print('In target function')\n",
    "target()"
   ]
  },
  {
   "cell_type": "code",
   "execution_count": 5,
   "metadata": {},
   "outputs": [
    {
     "ename": "TypeError",
     "evalue": "inner() takes 0 positional arguments but 2 were given",
     "output_type": "error",
     "traceback": [
      "\u001b[0;31m---------------------------------------------------------------------------\u001b[0m",
      "\u001b[0;31mTypeError\u001b[0m                                 Traceback (most recent call last)",
      "\u001b[0;32m<ipython-input-5-a5b112527cbe>\u001b[0m in \u001b[0;36m<module>\u001b[0;34m\u001b[0m\n\u001b[1;32m      2\u001b[0m \u001b[0;32mdef\u001b[0m \u001b[0mmy_func\u001b[0m\u001b[0;34m(\u001b[0m\u001b[0mx\u001b[0m\u001b[0;34m,\u001b[0m \u001b[0my\u001b[0m\u001b[0;34m)\u001b[0m\u001b[0;34m:\u001b[0m\u001b[0;34m\u001b[0m\u001b[0;34m\u001b[0m\u001b[0m\n\u001b[1;32m      3\u001b[0m     \u001b[0mprint\u001b[0m\u001b[0;34m(\u001b[0m\u001b[0mx\u001b[0m\u001b[0;34m,\u001b[0m \u001b[0my\u001b[0m\u001b[0;34m)\u001b[0m\u001b[0;34m\u001b[0m\u001b[0;34m\u001b[0m\u001b[0m\n\u001b[0;32m----> 4\u001b[0;31m \u001b[0mmy_func\u001b[0m\u001b[0;34m(\u001b[0m\u001b[0;36m4\u001b[0m\u001b[0;34m,\u001b[0m \u001b[0;36m5\u001b[0m\u001b[0;34m)\u001b[0m\u001b[0;34m\u001b[0m\u001b[0;34m\u001b[0m\u001b[0m\n\u001b[0m",
      "\u001b[0;31mTypeError\u001b[0m: inner() takes 0 positional arguments but 2 were given"
     ]
    }
   ],
   "source": [
    "@logger\n",
    "def my_func(x, y):\n",
    "    print(x, y)\n",
    "my_func(4, 5)"
   ]
  },
  {
   "cell_type": "code",
   "execution_count": 1,
   "metadata": {},
   "outputs": [],
   "source": [
    "def logger(func):\n",
    "    def inner(x, y):\n",
    "        print('calling ', func.__name__, 'with', x, 'and', y)\n",
    "        func(x, y)\n",
    "        print('returned from ', func.__name__)\n",
    "    return inner"
   ]
  },
  {
   "cell_type": "code",
   "execution_count": 2,
   "metadata": {},
   "outputs": [
    {
     "name": "stdout",
     "output_type": "stream",
     "text": [
      "calling  my_func with 4 and 5\n",
      "4 5\n",
      "returned from  my_func\n"
     ]
    }
   ],
   "source": [
    "@logger\n",
    "def my_func(x, y):\n",
    "    print(x, y)\n",
    "my_func(4, 5)"
   ]
  },
  {
   "cell_type": "code",
   "execution_count": 3,
   "metadata": {},
   "outputs": [
    {
     "name": "stdout",
     "output_type": "stream",
     "text": [
      "<b><i>hello world</i></b>\n"
     ]
    }
   ],
   "source": [
    "# Define the decorator functions\n",
    "def make_bold(fn):\n",
    "    def makebold_wrapped():\n",
    "        return \"<b>\" + fn() + \"</b>\"\n",
    "    return makebold_wrapped\n",
    "def make_italic(fn):\n",
    "    def makeitalic_wrapped():\n",
    "        return \"<i>\" + fn() + \"</i>\"\n",
    "    return makeitalic_wrapped\n",
    "# Apply decorators to function hello\n",
    "@make_bold\n",
    "@make_italic\n",
    "def hello():\n",
    "    return 'hello world'\n",
    "# Call function hello\n",
    "print(hello())"
   ]
  },
  {
   "cell_type": "code",
   "execution_count": 4,
   "metadata": {},
   "outputs": [
    {
     "name": "stdout",
     "output_type": "stream",
     "text": [
      "Calling  func1  decorator param True\n",
      "func1\n",
      "Called  func1\n",
      "----------\n",
      "Calling  func2  decorator param False\n",
      "Skipped  func2\n"
     ]
    }
   ],
   "source": [
    "def register(active=True):\n",
    "    def wrap(func):\n",
    "        def wrapper():\n",
    "            print('Calling ', func.__name__, ' decorator param', active)\n",
    "            if active:\n",
    "                func()\n",
    "                print('Called ', func.__name__)\n",
    "            else:\n",
    "                print('Skipped ', func.__name__)\n",
    "        return wrapper\n",
    "    return wrap\n",
    "    \n",
    "@register()\n",
    "def func1():\n",
    "    print('func1')\n",
    "@register(active=False)\n",
    "def func2():\n",
    "    print('func2')\n",
    "    \n",
    "func1()\n",
    "print('-' * 10)\n",
    "func2()"
   ]
  },
  {
   "cell_type": "code",
   "execution_count": 5,
   "metadata": {},
   "outputs": [],
   "source": [
    "def pretty_print(method):\n",
    "    def method_wrapper(self):\n",
    "        return \"<p>{0}</p>\".format(method(self))\n",
    "    return method_wrapper"
   ]
  },
  {
   "cell_type": "code",
   "execution_count": 6,
   "metadata": {},
   "outputs": [],
   "source": [
    "class Person:\n",
    "    def __init__(self, name, surname, age):\n",
    "        self.name = name\n",
    "        self.surname = surname\n",
    "        self.age = age\n",
    "    def print_self(self):\n",
    "        print('Person - ', self.name, ', ', self.age)\n",
    "    @pretty_print\n",
    "    def get_fullname(self):\n",
    "        return self.name + \" \" + self.surname"
   ]
  },
  {
   "cell_type": "code",
   "execution_count": 7,
   "metadata": {},
   "outputs": [
    {
     "name": "stdout",
     "output_type": "stream",
     "text": [
      "Starting\n",
      "Person -  John ,  21\n",
      "<p>John Smith</p>\n",
      "Done\n"
     ]
    }
   ],
   "source": [
    "print('Starting')\n",
    "p = Person('John', 'Smith', 21)\n",
    "p.print_self()\n",
    "print(p.get_fullname())\n",
    "print('Done')"
   ]
  },
  {
   "cell_type": "code",
   "execution_count": 8,
   "metadata": {},
   "outputs": [],
   "source": [
    "def trace(method):\n",
    "    def method_wrapper(self, x, y):\n",
    "        print('Calling', method, 'with', x, y)\n",
    "        method(self, x, y)\n",
    "        print('Called', method, 'with', x, y)\n",
    "    return method_wrapper"
   ]
  },
  {
   "cell_type": "code",
   "execution_count": 9,
   "metadata": {},
   "outputs": [],
   "source": [
    "class Point:\n",
    "    def __init__(self, x, y):\n",
    "        self.x = x\n",
    "        self.y = y\n",
    "    @trace\n",
    "    def move_to(self, x, y):\n",
    "        self.x = x\n",
    "        self.y = y\n",
    "    def __str__(self):\n",
    "        return 'Point - ' + str(self.x) + ',' + str(self.y)"
   ]
  },
  {
   "cell_type": "code",
   "execution_count": 10,
   "metadata": {},
   "outputs": [
    {
     "name": "stdout",
     "output_type": "stream",
     "text": [
      "Point - 1,1\n",
      "Calling <function Point.move_to at 0x7f9f7c6f5400> with 5 5\n",
      "Called <function Point.move_to at 0x7f9f7c6f5400> with 5 5\n",
      "Point - 5,5\n"
     ]
    }
   ],
   "source": [
    "p = Point(1, 1)\n",
    "print(p)\n",
    "p.move_to(5, 5)\n",
    "print(p)"
   ]
  },
  {
   "cell_type": "code",
   "execution_count": 11,
   "metadata": {},
   "outputs": [],
   "source": [
    "def singleton(cls):\n",
    "    print('In singleton for: ', cls)\n",
    "    instance = None\n",
    "    def get_instance():\n",
    "        nonlocal instance\n",
    "        if instance is None:\n",
    "            instance = cls()\n",
    "        return instance\n",
    "    return get_instance"
   ]
  },
  {
   "cell_type": "code",
   "execution_count": 12,
   "metadata": {},
   "outputs": [
    {
     "name": "stdout",
     "output_type": "stream",
     "text": [
      "In singleton for:  <class '__main__.Service'>\n",
      "In singleton for:  <class '__main__.Foo'>\n"
     ]
    }
   ],
   "source": [
    "@singleton\n",
    "class Service(object):\n",
    "    def print_it(self):\n",
    "        print(self)\n",
    "@singleton\n",
    "class Foo(object):\n",
    "    pass"
   ]
  },
  {
   "cell_type": "code",
   "execution_count": 13,
   "metadata": {},
   "outputs": [
    {
     "name": "stdout",
     "output_type": "stream",
     "text": [
      "Starting\n",
      "<__main__.Service object at 0x7f9f7c6ed630>\n",
      "<__main__.Service object at 0x7f9f7c6ed630>\n",
      "<__main__.Foo object at 0x7f9f7c6eda58>\n",
      "<__main__.Foo object at 0x7f9f7c6eda58>\n",
      "Done\n"
     ]
    }
   ],
   "source": [
    "print('Starting')\n",
    "s1 = Service()\n",
    "print(s1)\n",
    "s2 = Service()\n",
    "print(s2)\n",
    "f1 = Foo()\n",
    "print(f1)\n",
    "f2 = Foo()\n",
    "print(f2)\n",
    "print('Done')"
   ]
  },
  {
   "cell_type": "code",
   "execution_count": 16,
   "metadata": {},
   "outputs": [
    {
     "name": "stdout",
     "output_type": "stream",
     "text": [
      "In Logger\n",
      "Finishing Logger\n",
      "Start\n",
      "In inner calling  print_it\n",
      "Print It\n",
      "In inner called  print_it\n",
      "Done\n"
     ]
    }
   ],
   "source": [
    "def logger(func):\n",
    "    print('In Logger')\n",
    "    def inner():\n",
    "        print('In inner calling ', func.__name__)\n",
    "        func()\n",
    "        print('In inner called ', func.__name__)\n",
    "    print('Finishing Logger')\n",
    "    return inner\n",
    "@logger\n",
    "def print_it():\n",
    "    print('Print It')\n",
    "print('Start')\n",
    "print_it()\n",
    "print('Done')"
   ]
  },
  {
   "cell_type": "code",
   "execution_count": 17,
   "metadata": {},
   "outputs": [
    {
     "name": "stdout",
     "output_type": "stream",
     "text": [
      "name: inner\n",
      "doc:  None\n",
      "module;  __main__\n"
     ]
    }
   ],
   "source": [
    "def logger(func):\n",
    "    def inner():\n",
    "        print('calling ', func.__name__)\n",
    "        func()\n",
    "        print('called ', func.__name__)\n",
    "    return inner\n",
    "@logger\n",
    "def get_text(name):\n",
    "    \"\"\"returns some text\"\"\"\n",
    "    return \"Hello \"+name\n",
    "\n",
    "print('name:', get_text.__name__)\n",
    "print('doc: ', get_text.__doc__)\n",
    "print('module; ', get_text.__module__)"
   ]
  },
  {
   "cell_type": "code",
   "execution_count": 1,
   "metadata": {},
   "outputs": [
    {
     "name": "stdout",
     "output_type": "stream",
     "text": [
      "name: get_text\n",
      "doc:  returns some text\n",
      "module;  __main__\n"
     ]
    }
   ],
   "source": [
    "from functools import wraps\n",
    "def logger(func):\n",
    "    @wraps(func)\n",
    "    def inner():\n",
    "        print('calling ', func.__name__)\n",
    "        func()\n",
    "        print('called ', func.__name__)\n",
    "    return inner\n",
    "\n",
    "@logger\n",
    "def get_text(name):\n",
    "    \"\"\"returns some text\"\"\"\n",
    "    return \"Hello \"+name\n",
    "\n",
    "print('name:', get_text.__name__)\n",
    "print('doc: ', get_text.__doc__)\n",
    "print('module; ', get_text.__module__)"
   ]
  },
  {
   "cell_type": "code",
   "execution_count": 8,
   "metadata": {},
   "outputs": [],
   "source": [
    "from timeit import default_timer\n",
    "\n",
    "def timer(func):\n",
    "    def method_wrapper(self, x):\n",
    "        start = default_timer()\n",
    "        print('Calling', func, 'with', x)\n",
    "        func(self, x)\n",
    "        end = default_timer()\n",
    "        print('returned from ', func, 'it took', end - start,'seconds')\n",
    "    return method_wrapper"
   ]
  },
  {
   "cell_type": "code",
   "execution_count": 9,
   "metadata": {},
   "outputs": [],
   "source": [
    "class AmountError(Exception):\n",
    "    def __init__(self, number, holder, balance, overdraft_limit):\n",
    "        self.number = number\n",
    "        self.holder = holder\n",
    "        self.balance = balance\n",
    "        self.overdraft_limit = overdraft_limit\n",
    "    def __str__(self):\n",
    "        return 'AmountError (Cannot deposit negative amounts) on Account Number:'+ self.number + ' - ' + self.holder +', ' +' account = ' + str(self.balance) + '-overdraft limit:' + str(self.overdraft_limit)\n",
    "\n",
    "class BalanceError(Exception):\n",
    "    def __init__(self, number, holder, balance, overdraft_limit):\n",
    "        self.number = number\n",
    "        self.holder = holder\n",
    "        self.balance = balance\n",
    "        self.overdraft_limit = overdraft_limit\n",
    "    def __str__(self):\n",
    "        return 'Withdrawal would exceed your overdraft limit on Account Number:'+ self.number + ' - ' + self.holder +', ' +' account = ' + str(self.balance) + '-overdraft limit:' + str(self.overdraft_limit)\n",
    "class Account:\n",
    "    instance_count = 0\n",
    "    @staticmethod\n",
    "    def static_function():\n",
    "        print('Conta Criada')\n",
    "        \n",
    "    @classmethod\n",
    "    def increment_instance_count(cls):\n",
    "        cls.instance_count += 1\n",
    "        \n",
    "    def __init__(self, number,holder, balance):\n",
    "        Account.increment_instance_count()\n",
    "        self.number = number\n",
    "        self.holder = holder\n",
    "        self.balance = balance\n",
    "        Account.static_function()\n",
    "        \n",
    "    def __str__(self):\n",
    "        return 'Account Number:'+ self.number + ' - ' + self.holder +', ' +' account = ' + str(self.balance)\n",
    "    @timer\n",
    "    def deposit(self, amount):\n",
    "        if amount > 0:\n",
    "            self.balance += amount\n",
    "            return self.balance\n",
    "        else:\n",
    "            raise AmountError(self.number, self.holder, self.balance, self.overdraft_limit)\n",
    "            \n",
    "    def get_balance(self):\n",
    "        return self.balance\n",
    "    #balance = property(get_balance, doc=\"A balance property\")\n",
    "    def __getattr__(self, attribute):\n",
    "        print('__getattr__: unknown attribute accessed - ', attribute)\n",
    "        return -1\n",
    "class DepositAccount(Account):\n",
    "    def __init__(self, number, holder, balance, interest_rate):\n",
    "        super().__init__(number, holder, balance)\n",
    "        self.interest_rate = interest_rate\n",
    "    def __str__(self):\n",
    "        return super().__str__() + '-intereste rate:' + str(self.interest_rate)\n",
    "        \n",
    "    \n",
    "class CurrentAccount(Account):\n",
    "    def __init__(self, number, holder, balance, overdraft_limit):\n",
    "        super().__init__(number, holder, balance)\n",
    "        self.overdraft_limit = overdraft_limit\n",
    "    def __str__(self):\n",
    "        return super().__str__() + '-overdraft limit:' + str(self.overdraft_limit)\n",
    "    @timer\n",
    "    def withdraw(self, amount):    \n",
    "        if amount > 0:\n",
    "            if amount <= self.overdraft_limit:\n",
    "                self.balance -= amount\n",
    "                return self.balance\n",
    "            else:\n",
    "                raise BalanceError(self.number, self.holder, self.balance, self.overdraft_limit)\n",
    "        else:\n",
    "            raise AmountError(self.number, self.holder, self.balance, self.overdraft_limit)\n",
    "            \n",
    "    \n",
    "class InvestmentAccount(Account):\n",
    "    def __init__(self, number, holder, balance, investment_type):\n",
    "        super().__init__(number, holder, balance)\n",
    "        self.investment_type = investment_type\n",
    "    def __str__(self):\n",
    "        return super().__str__() + '-investment type:' + str(self.investment_type)"
   ]
  },
  {
   "cell_type": "code",
   "execution_count": 10,
   "metadata": {},
   "outputs": [
    {
     "name": "stdout",
     "output_type": "stream",
     "text": [
      "Conta Criada\n",
      "Conta Criada\n",
      "Conta Criada\n",
      "Calling <function Account.deposit at 0x7f3bf425aea0> with 23.45\n",
      "returned from  <function Account.deposit at 0x7f3bf425aea0> it took 0.00014373500016517937 seconds\n",
      "Calling <function CurrentAccount.withdraw at 0x7f3bf425a8c8> with 12.33\n",
      "returned from  <function CurrentAccount.withdraw at 0x7f3bf425a8c8> it took 0.00012133199925301597 seconds\n"
     ]
    }
   ],
   "source": [
    "acc1 = CurrentAccount('123', 'John', 10.05, 100.0)\n",
    "acc2 = DepositAccount('345', 'John', 23.55, 0.5)\n",
    "acc3 = InvestmentAccount('567', 'Phoebe', 12.45,'high risk')\n",
    "\n",
    "acc1.deposit(23.45)\n",
    "acc1.withdraw(12.33)"
   ]
  },
  {
   "cell_type": "code",
   "execution_count": null,
   "metadata": {},
   "outputs": [],
   "source": []
  }
 ],
 "metadata": {
  "kernelspec": {
   "display_name": "Python 3",
   "language": "python",
   "name": "python3"
  },
  "language_info": {
   "codemirror_mode": {
    "name": "ipython",
    "version": 3
   },
   "file_extension": ".py",
   "mimetype": "text/x-python",
   "name": "python",
   "nbconvert_exporter": "python",
   "pygments_lexer": "ipython3",
   "version": "3.6.9"
  }
 },
 "nbformat": 4,
 "nbformat_minor": 4
}
