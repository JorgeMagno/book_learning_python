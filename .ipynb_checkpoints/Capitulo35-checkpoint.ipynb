{
 "cells": [
  {
   "cell_type": "code",
   "execution_count": 1,
   "metadata": {},
   "outputs": [
    {
     "name": "stdout",
     "output_type": "stream",
     "text": [
      "initial queue: ['task1']\n",
      "queue after additions: ['task1', 'task2', 'task3']\n",
      "element retrieved from queue: task1\n",
      "queue after removal ['task2', 'task3']\n"
     ]
    }
   ],
   "source": [
    "queue = [] # Create an empty queue\n",
    "queue.append('task1')\n",
    "print('initial queue:', queue)\n",
    "queue.append('task2')\n",
    "queue.append('task3')\n",
    "print('queue after additions:', queue)\n",
    "element1 = queue.pop(0)\n",
    "print('element retrieved from queue:', element1)\n",
    "print('queue after removal', queue)"
   ]
  },
  {
   "cell_type": "code",
   "execution_count": 2,
   "metadata": {},
   "outputs": [],
   "source": [
    "class Queue:\n",
    "    def __init__(self):\n",
    "        self._list = [] # initial internal data\n",
    "    def enqueue(self, element):\n",
    "        self._list.append(element)\n",
    "    def dequeue(self):\n",
    "        return self._list.pop(0)\n",
    "    def __len__(self):\n",
    "        \"\"\" Supports the len protocol \"\"\"\n",
    "        return len(self._list)\n",
    "    def is_empty(self):\n",
    "        return self.__len__() == 0\n",
    "    def peek(self):\n",
    "        return self._list[0]\n",
    "    def __str__(self):\n",
    "        return 'Queue: ' + str(self._list)"
   ]
  },
  {
   "cell_type": "code",
   "execution_count": 3,
   "metadata": {},
   "outputs": [
    {
     "name": "stdout",
     "output_type": "stream",
     "text": [
      "queue.is_empty(): True\n",
      "len(queue): 1\n",
      "queue: Queue: ['task1', 'task2', 'task3']\n",
      "queue.peek(): task1\n",
      "queue.dequeue(): task1\n",
      "queue: Queue: ['task2', 'task3']\n"
     ]
    }
   ],
   "source": [
    "queue = Queue()\n",
    "print('queue.is_empty():', queue.is_empty())\n",
    "queue.enqueue('task1')\n",
    "print('len(queue):', len(queue))\n",
    "queue.enqueue('task2')\n",
    "queue.enqueue('task3')\n",
    "print('queue:', queue)\n",
    "print('queue.peek():', queue.peek())\n",
    "print('queue.dequeue():', queue.dequeue())\n",
    "print('queue:', queue)"
   ]
  },
  {
   "cell_type": "code",
   "execution_count": 4,
   "metadata": {},
   "outputs": [
    {
     "name": "stdout",
     "output_type": "stream",
     "text": [
      "stack: ['task1', 'task2', 'task3']\n",
      "top_element: task3\n",
      "stack: ['task1', 'task2']\n"
     ]
    }
   ],
   "source": [
    "stack = [] # create an empty stack\n",
    "stack.append('task1')\n",
    "stack.append('task2')\n",
    "stack.append('task3')\n",
    "print('stack:', stack)\n",
    "top_element = stack.pop()\n",
    "print('top_element:', top_element)\n",
    "print('stack:', stack)"
   ]
  },
  {
   "cell_type": "code",
   "execution_count": 10,
   "metadata": {},
   "outputs": [],
   "source": [
    "class Stack:\n",
    "    def __init__(self):\n",
    "        self._list = [] # initial internal data\n",
    "    def push(self, element):\n",
    "        self._list.append(element)\n",
    "    def pop(self):\n",
    "        return self._list.pop()\n",
    "    def __len__(self):\n",
    "        \"\"\" Supports the len protocol \"\"\"\n",
    "        return len(self._list)\n",
    "    def is_empty(self):\n",
    "        return self.__len__() == 0\n",
    "    def top(self):\n",
    "        return self._list[-1]\n",
    "    def __str__(self):\n",
    "        return 'Queue: ' + str(self._list)"
   ]
  },
  {
   "cell_type": "code",
   "execution_count": 12,
   "metadata": {},
   "outputs": [
    {
     "name": "stdout",
     "output_type": "stream",
     "text": [
      "stack: Queue: ['T1', 'T2', 'T3']\n",
      "stack.is_empty(): False\n",
      "stack.length(): 3\n",
      "stack.top(): T3\n",
      "stack.pop(): T3\n",
      "stack: Queue: ['T1', 'T2']\n"
     ]
    }
   ],
   "source": [
    "stack = Stack()\n",
    "stack.push('T1')\n",
    "stack.push('T2')\n",
    "stack.push('T3')\n",
    "print('stack:', stack)\n",
    "print('stack.is_empty():', stack.is_empty())\n",
    "print('stack.length():', len(stack))\n",
    "print('stack.top():', stack.top())\n",
    "print('stack.pop():', stack.pop())\n",
    "print('stack:', stack)"
   ]
  },
  {
   "cell_type": "code",
   "execution_count": null,
   "metadata": {},
   "outputs": [],
   "source": []
  }
 ],
 "metadata": {
  "kernelspec": {
   "display_name": "Python 3",
   "language": "python",
   "name": "python3"
  },
  "language_info": {
   "codemirror_mode": {
    "name": "ipython",
    "version": 3
   },
   "file_extension": ".py",
   "mimetype": "text/x-python",
   "name": "python",
   "nbconvert_exporter": "python",
   "pygments_lexer": "ipython3",
   "version": "3.6.9"
  }
 },
 "nbformat": 4,
 "nbformat_minor": 4
}
