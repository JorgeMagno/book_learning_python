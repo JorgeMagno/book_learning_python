{
 "cells": [
  {
   "cell_type": "code",
   "execution_count": 1,
   "metadata": {},
   "outputs": [],
   "source": [
    "class Calculator:\n",
    "    def add(self, x, y):\n",
    "        return x + y"
   ]
  },
  {
   "cell_type": "code",
   "execution_count": 4,
   "metadata": {},
   "outputs": [
    {
     "name": "stdout",
     "output_type": "stream",
     "text": [
      "calc.add(3, 4): 7\n",
      "calc.add(3, 4.5): 7.5\n",
      "calc.add(4.5, 6.2): 10.7\n",
      "calc.add(2.3, 7): 9.3\n",
      "calc.add(-1, 4): 3\n"
     ]
    }
   ],
   "source": [
    "calc = Calculator()\n",
    "print('calc.add(3, 4):', calc.add(3, 4))\n",
    "print('calc.add(3, 4.5):', calc.add(3, 4.5))\n",
    "print('calc.add(4.5, 6.2):', calc.add(4.5, 6.2))\n",
    "print('calc.add(2.3, 7):', calc.add(2.3, 7))\n",
    "print('calc.add(-1, 4):', calc.add(-1, 4))"
   ]
  },
  {
   "cell_type": "code",
   "execution_count": 4,
   "metadata": {},
   "outputs": [],
   "source": [
    "class Quantity:\n",
    "    def __init__(self, value=0):\n",
    "        self.value = value\n",
    "    def __add__(self, other):\n",
    "        new_value = self.value + other.value\n",
    "        return Quantity(new_value)\n",
    "    def __sub__(self, other):\n",
    "        new_value = self.value - other.value\n",
    "        return Quantity(new_value)\n",
    "    def __str__(self):\n",
    "        return 'Quantity[' + str(self.value) + ']'"
   ]
  },
  {
   "cell_type": "code",
   "execution_count": 5,
   "metadata": {},
   "outputs": [
    {
     "name": "stdout",
     "output_type": "stream",
     "text": [
      "Quantity[15]\n"
     ]
    }
   ],
   "source": [
    "q1 = Quantity(5)\n",
    "q2 = Quantity(10)\n",
    "print(calc.add(q1, q2))"
   ]
  },
  {
   "cell_type": "code",
   "execution_count": 1,
   "metadata": {},
   "outputs": [],
   "source": [
    "class Calculator:\n",
    "    \"\"\" Simple Calculator class\"\"\"\n",
    "    def add(self, x, y):\n",
    "        return x + y\n",
    "    def sub(self, x, y):\n",
    "        return x - y\n",
    "    def multiply(self, x, y):\n",
    "        return x * y\n",
    "    def divide(self, x, y):\n",
    "        return x / y"
   ]
  },
  {
   "cell_type": "code",
   "execution_count": 2,
   "metadata": {},
   "outputs": [],
   "source": [
    "class Distance:\n",
    "    def __init__(self, d):\n",
    "        self.value = d\n",
    "    def __add__(self, other):\n",
    "        return Distance(self.value + other.value)\n",
    "    def __sub__(self, other):\n",
    "        return Distance(self.value - other.value)\n",
    "    def __str__(self):\n",
    "        return 'Distance[' + str(self.value) + ']'"
   ]
  },
  {
   "cell_type": "code",
   "execution_count": 5,
   "metadata": {},
   "outputs": [
    {
     "name": "stdout",
     "output_type": "stream",
     "text": [
      "Distance[9]\n",
      "Distance[3]\n"
     ]
    }
   ],
   "source": [
    "d1 = Distance(6)\n",
    "d2 = Distance(3)\n",
    "print(calc.add(d1, d2))\n",
    "print(calc.sub(d1, d2))"
   ]
  },
  {
   "cell_type": "code",
   "execution_count": 7,
   "metadata": {},
   "outputs": [],
   "source": [
    "class ContextManagedClass(object):\n",
    "    def __init__(self):\n",
    "        print('__init__')\n",
    "    def __enter__(self):\n",
    "        print('__enter__')\n",
    "        return self\n",
    "    # Args exception type, exception value and traceback\n",
    "    def __exit__(self, *args):\n",
    "        print('__exit__:', args)\n",
    "        return True\n",
    "    def __str__(self):\n",
    "        return 'ContextManagedClass object'"
   ]
  },
  {
   "cell_type": "code",
   "execution_count": 8,
   "metadata": {},
   "outputs": [
    {
     "name": "stdout",
     "output_type": "stream",
     "text": [
      "Starting\n",
      "__init__\n",
      "__enter__\n",
      "In with block ContextManagedClass object\n",
      "Exiting\n",
      "__exit__: (None, None, None)\n",
      "Done\n"
     ]
    }
   ],
   "source": [
    "print('Starting')\n",
    "with ContextManagedClass() as cmc:\n",
    "    print('In with block', cmc)\n",
    "    print('Exiting')\n",
    "print('Done')"
   ]
  },
  {
   "cell_type": "code",
   "execution_count": 9,
   "metadata": {},
   "outputs": [],
   "source": [
    "def night_out(p):\n",
    "    p.eat()\n",
    "    p.drink()\n",
    "    p.sleep()"
   ]
  },
  {
   "cell_type": "code",
   "execution_count": 10,
   "metadata": {},
   "outputs": [],
   "source": [
    "class Person:\n",
    "    def eat(self): print('Person - Eat')\n",
    "    def drink(self): print('Person - Drink')\n",
    "    def sleep(self): print('Person - Sleep')\n",
    "class Employee(Person):\n",
    "    def eat(self): print('Employee - Eat')\n",
    "    def drink(self): print('Employee - Drink')\n",
    "    def sleep(self): print('Employee - Sleep')\n",
    "class SalesPerson(Employee):\n",
    "    def eat(self): print('SalesPerson - Eat')\n",
    "    def drink(self): print('SalesPerson - Drink')\n",
    "class Dog:\n",
    "    def eat(self): print('Dog - Eat')\n",
    "    def drink(self): print('Dog - Drink')\n",
    "    def sleep(self): print('Dog - Sleep')"
   ]
  },
  {
   "cell_type": "code",
   "execution_count": 11,
   "metadata": {},
   "outputs": [],
   "source": [
    "class Logger(object):\n",
    "    \"\"\" Logger class implementing the descriptor protocol\"\"\"\n",
    "    def __init__(self, name):\n",
    "        self.name = name\n",
    "    def __get__(self, inst, owner):\n",
    "        print('__get__:', inst, 'owner', owner, ', value', self.name, '=', str(inst.__dict__[self.name]))\n",
    "        return inst.__dict__[self.name]\n",
    "    def __set__(self, inst, value):\n",
    "        print('__set__:', inst, '-', self.name, '=', value)\n",
    "        inst.__dict__[self.name] = value\n",
    "    def __delete__(self, instance):\n",
    "        print('__delete__', instance)\n",
    "    def __set_name__(self, owner, name):\n",
    "        print('__set_name__', 'owner', owner, 'setting', name)"
   ]
  },
  {
   "cell_type": "code",
   "execution_count": 12,
   "metadata": {},
   "outputs": [
    {
     "name": "stdout",
     "output_type": "stream",
     "text": [
      "__set_name__ owner <class '__main__.Cursor'> setting x\n",
      "__set_name__ owner <class '__main__.Cursor'> setting y\n"
     ]
    }
   ],
   "source": [
    "class Cursor(object):\n",
    "    #Set up the descriptors at the class level\n",
    "    x = Logger('x')\n",
    "    y = Logger('y')\n",
    "    def __init__(self, x0, y0):\n",
    "        # Initialise the attributes\n",
    "        # Note use of __dict__ to avoid using self.x notation\n",
    "        # which would invoke the descriptor behaviour\n",
    "        self.__dict__['x'] = x0\n",
    "        self.__dict__['y'] = y0\n",
    "    def move_by(self, dx, dy):\n",
    "        print('move_by', dx, ',', dy)\n",
    "        self.x = self.x + dx\n",
    "        self.y = self.y + dy\n",
    "    def __str__(self):\n",
    "        return 'Point[' + str(self.__dict__['x']) + ', ' + str(self.__dict__['y']) + ']'"
   ]
  },
  {
   "cell_type": "code",
   "execution_count": 13,
   "metadata": {},
   "outputs": [
    {
     "name": "stdout",
     "output_type": "stream",
     "text": [
      "-------------------------\n",
      "p1: Point[15, 25]\n",
      "__set__: Point[15, 25] - x = 20\n",
      "__set__: Point[20, 25] - y = 35\n",
      "p1 updated: Point[20, 35]\n",
      "__get__: Point[20, 35] owner <class '__main__.Cursor'> , value x = 20\n",
      "p1.x: 20\n",
      "-------------------------\n",
      "move_by 1 , 1\n",
      "__get__: Point[20, 35] owner <class '__main__.Cursor'> , value x = 20\n",
      "__set__: Point[20, 35] - x = 21\n",
      "__get__: Point[21, 35] owner <class '__main__.Cursor'> , value y = 35\n",
      "__set__: Point[21, 35] - y = 36\n",
      "-------------------------\n",
      "__delete__ Point[21, 36]\n"
     ]
    }
   ],
   "source": [
    "cursor = Cursor(15, 25)\n",
    "print('-' * 25)\n",
    "print('p1:', cursor)\n",
    "cursor.x = 20\n",
    "cursor.y = 35\n",
    "print('p1 updated:', cursor)\n",
    "print('p1.x:', cursor.x)\n",
    "print('-' * 25)\n",
    "cursor.move_by(1, 1)\n",
    "print('-' * 25)\n",
    "del cursor.x"
   ]
  },
  {
   "cell_type": "code",
   "execution_count": 1,
   "metadata": {},
   "outputs": [
    {
     "name": "stdout",
     "output_type": "stream",
     "text": [
      "Conta Criada\n",
      "__enter__\n",
      "15.67\n",
      "__exit__: (None, None, None)\n"
     ]
    }
   ],
   "source": [
    "import fintech.accounts2 as accounts\n",
    "\n",
    "with accounts.CurrentAccount ('891', 'Adam', 5.0, 50.0) as acc:\n",
    "    acc.deposit(23.0)\n",
    "    acc.withdraw(12.33)\n",
    "    print(acc.balance)"
   ]
  },
  {
   "cell_type": "code",
   "execution_count": null,
   "metadata": {},
   "outputs": [],
   "source": []
  }
 ],
 "metadata": {
  "kernelspec": {
   "display_name": "Python 3",
   "language": "python",
   "name": "python3"
  },
  "language_info": {
   "codemirror_mode": {
    "name": "ipython",
    "version": 3
   },
   "file_extension": ".py",
   "mimetype": "text/x-python",
   "name": "python",
   "nbconvert_exporter": "python",
   "pygments_lexer": "ipython3",
   "version": "3.6.9"
  }
 },
 "nbformat": 4,
 "nbformat_minor": 4
}
