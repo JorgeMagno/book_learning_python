{
 "cells": [
  {
   "cell_type": "code",
   "execution_count": 1,
   "metadata": {},
   "outputs": [
    {
     "name": "stdout",
     "output_type": "stream",
     "text": [
      "{'Wales': 'Cardiff', 'England': 'London', 'Scotland': 'Edinburgh', 'Northern Ireland': 'Belfast', 'Ireland': 'Dublin'}\n"
     ]
    }
   ],
   "source": [
    "cities = {'Wales': 'Cardiff',\n",
    "          'England': 'London',\n",
    "          'Scotland': 'Edinburgh',\n",
    "          'Northern Ireland': 'Belfast',\n",
    "          'Ireland': 'Dublin'}\n",
    "print(cities)"
   ]
  },
  {
   "cell_type": "code",
   "execution_count": 2,
   "metadata": {},
   "outputs": [
    {
     "name": "stdout",
     "output_type": "stream",
     "text": [
      "dict1: {'uk': 'London', 'ireland': 'Dublin', 'france': 'Paris'}\n",
      "dict2: {'uk': 'London', 'ireland': 'Dublin', 'france': 'Paris'}\n",
      "dict3: {'uk': 'London', 'ireland': 'Dublin', 'france': 'Paris'}\n"
     ]
    }
   ],
   "source": [
    "# note keys are not strings\n",
    "dict1 = dict(uk='London', ireland='Dublin', france='Paris')\n",
    "print('dict1:', dict1)\n",
    "# key value pairs are tuples\n",
    "dict2 = dict([('uk', 'London'), ('ireland', 'Dublin'), ('france', 'Paris')])\n",
    "print('dict2:', dict2)\n",
    "# key value pairs are lists\n",
    "dict3 = dict((['uk', 'London'], ['ireland', 'Dublin'],['france', 'Paris']))\n",
    "print('dict3:', dict3)"
   ]
  },
  {
   "cell_type": "code",
   "execution_count": 3,
   "metadata": {},
   "outputs": [
    {
     "name": "stdout",
     "output_type": "stream",
     "text": [
      "cities[Wales]: Cardiff\n",
      "cities.get(Ireland): Dublin\n"
     ]
    }
   ],
   "source": [
    "print('cities[Wales]:', cities['Wales'])\n",
    "print('cities.get(Ireland):', cities.get('Ireland'))"
   ]
  },
  {
   "cell_type": "code",
   "execution_count": 4,
   "metadata": {},
   "outputs": [],
   "source": [
    "cities['France'] = 'Paris'"
   ]
  },
  {
   "cell_type": "code",
   "execution_count": 5,
   "metadata": {},
   "outputs": [
    {
     "name": "stdout",
     "output_type": "stream",
     "text": [
      "{'Wales': 'Swansea', 'England': 'London', 'Scotland': 'Edinburgh', 'Northern Ireland': 'Belfast', 'Ireland': 'Dublin', 'France': 'Paris'}\n"
     ]
    }
   ],
   "source": [
    "cities['Wales'] = 'Swansea'\n",
    "print(cities)"
   ]
  },
  {
   "cell_type": "code",
   "execution_count": 6,
   "metadata": {},
   "outputs": [
    {
     "name": "stdout",
     "output_type": "stream",
     "text": [
      "{'Wales': 'Cardiff', 'England': 'London', 'Scotland': 'Edinburgh', 'Northern Ireland': 'Belfast', 'Ireland': 'Dublin'}\n",
      "{'Wales': 'Cardiff', 'England': 'London', 'Scotland': 'Edinburgh', 'Northern Ireland': 'Belfast'}\n",
      "{'Wales': 'Cardiff', 'England': 'London', 'Scotland': 'Edinburgh'}\n",
      "{'Wales': 'Cardiff', 'England': 'London'}\n"
     ]
    }
   ],
   "source": [
    "cities = {'Wales': 'Cardiff',\n",
    "          'England': 'London',\n",
    "          'Scotland': 'Edinburgh',\n",
    "          'Northern Ireland': 'Belfast',\n",
    "          'Ireland': 'Dublin'}\n",
    "print(cities)\n",
    "cities.popitem() # Deletes 'Ireland' entry\n",
    "print(cities)\n",
    "cities.pop('Northern Ireland')\n",
    "print(cities)\n",
    "del cities['Scotland']\n",
    "print(cities)"
   ]
  },
  {
   "cell_type": "code",
   "execution_count": 7,
   "metadata": {},
   "outputs": [
    {
     "name": "stdout",
     "output_type": "stream",
     "text": [
      "{'Wales': 'Cardiff', 'England': 'London', 'Scotland': 'Edinburgh', 'Northern Ireland': 'Belfast', 'Ireland': 'Dublin'}\n",
      "{}\n"
     ]
    }
   ],
   "source": [
    "cities = {'Wales': 'Cardiff',\n",
    "          'England': 'London',\n",
    "          'Scotland': 'Edinburgh',\n",
    "          'Northern Ireland': 'Belfast',\n",
    "          'Ireland': 'Dublin'}\n",
    "print(cities)\n",
    "cities.clear()\n",
    "print(cities)"
   ]
  },
  {
   "cell_type": "code",
   "execution_count": 8,
   "metadata": {},
   "outputs": [
    {
     "name": "stdout",
     "output_type": "stream",
     "text": [
      "Wales, Cardiff\n",
      "England, London\n",
      "Scotland, Edinburgh\n",
      "Northern Ireland, Belfast\n",
      "Ireland, Dublin\n"
     ]
    }
   ],
   "source": [
    "cities = {'Wales': 'Cardiff',\n",
    "          'England': 'London',\n",
    "          'Scotland': 'Edinburgh',\n",
    "          'Northern Ireland': 'Belfast',\n",
    "          'Ireland': 'Dublin'}\n",
    "for country in cities:\n",
    "    print(country, end=', ')\n",
    "    print(cities[country])"
   ]
  },
  {
   "cell_type": "code",
   "execution_count": 10,
   "metadata": {},
   "outputs": [
    {
     "name": "stdout",
     "output_type": "stream",
     "text": [
      "Cardiff\n",
      "London\n",
      "Edinburgh\n",
      "Belfast\n",
      "Dublin\n"
     ]
    }
   ],
   "source": [
    "for e in cities.values():\n",
    "    print(e)"
   ]
  },
  {
   "cell_type": "code",
   "execution_count": 20,
   "metadata": {},
   "outputs": [
    {
     "name": "stdout",
     "output_type": "stream",
     "text": [
      "dict_values(['Cardiff', 'London', 'Edinburgh', 'Belfast', 'Dublin'])\n",
      "dict_keys(['Wales', 'England', 'Scotland', 'Northern Ireland', 'Ireland'])\n",
      "dict_items([('Wales', 'Cardiff'), ('England', 'London'), ('Scotland', 'Edinburgh'), ('Northern Ireland', 'Belfast'), ('Ireland', 'Dublin')])\n"
     ]
    }
   ],
   "source": [
    "print(cities.values())\n",
    "print(cities.keys())\n",
    "print(cities.items())"
   ]
  },
  {
   "cell_type": "code",
   "execution_count": 12,
   "metadata": {},
   "outputs": [
    {
     "name": "stdout",
     "output_type": "stream",
     "text": [
      "True\n",
      "True\n"
     ]
    }
   ],
   "source": [
    "print('Wales' in cities)\n",
    "print('France' not in cities)"
   ]
  },
  {
   "cell_type": "code",
   "execution_count": 13,
   "metadata": {},
   "outputs": [
    {
     "name": "stdout",
     "output_type": "stream",
     "text": [
      "5\n"
     ]
    }
   ],
   "source": [
    "cities = {'Wales': 'Cardiff',\n",
    "          'England': 'London',\n",
    "          'Scotland': 'Edinburgh',\n",
    "          'Northern Ireland': 'Belfast',\n",
    "          'Ireland': 'Dublin'}\n",
    "print(len(cities)) # prints 5"
   ]
  },
  {
   "cell_type": "code",
   "execution_count": 14,
   "metadata": {},
   "outputs": [
    {
     "name": "stdout",
     "output_type": "stream",
     "text": [
      "('Mar', 'Apr', 'May')\n",
      "Apr\n"
     ]
    }
   ],
   "source": [
    "seasons = {'Spring': ('Mar', 'Apr', 'May'),\n",
    "           'Summer': ('June', 'July', 'August'),\n",
    "           'Autumn': ('September', 'October', 'November'),\n",
    "           'Winter': ('December', 'January', 'February')}\n",
    "print(seasons['Spring'])\n",
    "print(seasons['Spring'][1])"
   ]
  },
  {
   "cell_type": "code",
   "execution_count": 25,
   "metadata": {},
   "outputs": [
    {
     "name": "stdout",
     "output_type": "stream",
     "text": [
      "calling  factorial with 150000\n",
      "returned from  factorial it took 5 seconds\n",
      "None\n",
      "calling  factorial with 80000\n",
      "returned from  factorial it took 1 seconds\n",
      "None\n",
      "calling  factorial with 120000\n",
      "returned from  factorial it took 3 seconds\n",
      "None\n",
      "calling  factorial with 150000\n",
      "returned from  factorial it took 0 seconds\n",
      "None\n",
      "calling  factorial with 120000\n",
      "returned from  factorial it took 0 seconds\n",
      "None\n",
      "calling  factorial with 80000\n",
      "returned from  factorial it took 0 seconds\n",
      "None\n"
     ]
    }
   ],
   "source": [
    "from timeit import default_timer\n",
    "\n",
    "cache = {}\n",
    "\n",
    "def timer(func):\n",
    "    def inner(value):\n",
    "        print('calling ', func.__name__, 'with', value)\n",
    "        start = default_timer()\n",
    "        func(value)\n",
    "        end = default_timer()\n",
    "        print('returned from ', func.__name__, 'it took', int(end - start), 'seconds')\n",
    "    return inner\n",
    "\n",
    "@timer\n",
    "def factorial(num):\n",
    "    if num == 0:\n",
    "        return 1\n",
    "    else:\n",
    "        if (num in cache) == True:\n",
    "            return cache[num]\n",
    "        else:\n",
    "            Factorial_value = 1\n",
    "            for i in range(1, num + 1):\n",
    "                Factorial_value = Factorial_value * i\n",
    "            cache[num] = Factorial_value\n",
    "            return Factorial_value\n",
    "    \n",
    "\n",
    "print(factorial(150000))\n",
    "print(factorial(80000))\n",
    "print(factorial(120000))\n",
    "print(factorial(150000))\n",
    "print(factorial(120000))\n",
    "print(factorial(80000))"
   ]
  },
  {
   "cell_type": "code",
   "execution_count": null,
   "metadata": {},
   "outputs": [],
   "source": []
  }
 ],
 "metadata": {
  "kernelspec": {
   "display_name": "Python 3",
   "language": "python",
   "name": "python3"
  },
  "language_info": {
   "codemirror_mode": {
    "name": "ipython",
    "version": 3
   },
   "file_extension": ".py",
   "mimetype": "text/x-python",
   "name": "python",
   "nbconvert_exporter": "python",
   "pygments_lexer": "ipython3",
   "version": "3.6.9"
  }
 },
 "nbformat": 4,
 "nbformat_minor": 4
}
