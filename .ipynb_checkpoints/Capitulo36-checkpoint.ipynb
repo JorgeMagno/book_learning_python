{
 "cells": [
  {
   "cell_type": "code",
   "execution_count": 1,
   "metadata": {},
   "outputs": [
    {
     "name": "stdout",
     "output_type": "stream",
     "text": [
      "data: [1, 3, 5, 2, 7, 4, 10]\n",
      "d1: [2, 4, 10]\n",
      "d2: [2, 4, 10]\n"
     ]
    }
   ],
   "source": [
    "data = [1, 3, 5, 2, 7, 4, 10]\n",
    "print('data:', data)\n",
    "\n",
    "# Filter for even numbers using a lambda function\n",
    "d1 = list(filter(lambda i: i % 2 == 0, data))\n",
    "print('d1:', d1)\n",
    "\n",
    "def is_even(i):\n",
    "    return i % 2 == 0\n",
    "# Filter for even numbers using a named function\n",
    "d2 = list(filter(is_even, data))\n",
    "print('d2:', d2)"
   ]
  },
  {
   "cell_type": "code",
   "execution_count": 2,
   "metadata": {},
   "outputs": [],
   "source": [
    "class Person:\n",
    "    def __init__(self, name, age):\n",
    "        self.name = name\n",
    "        self.age = age\n",
    "    def __str__(self):\n",
    "        return 'Person(' + self.name + ', ' + str(self.age) + ')'"
   ]
  },
  {
   "cell_type": "code",
   "execution_count": 3,
   "metadata": {},
   "outputs": [
    {
     "name": "stdout",
     "output_type": "stream",
     "text": [
      "Person(Alun, 54), Person(Niki, 21), Person(Megan, 19), \n",
      "-----\n",
      "Person(Niki, 21), Person(Megan, 19), "
     ]
    }
   ],
   "source": [
    "data = [Person('Alun', 54), Person('Niki', 21), Person('Megan',19)]\n",
    "for p in data:\n",
    "    print(p, end=', ')\n",
    "print('\\n-----')\n",
    "# Use a lambda to filter out People over 21\n",
    "d3 = list(filter(lambda p: p.age <= 21, data))\n",
    "for p in d3:\n",
    "    print(p, end=', ')"
   ]
  },
  {
   "cell_type": "code",
   "execution_count": 5,
   "metadata": {},
   "outputs": [
    {
     "name": "stdout",
     "output_type": "stream",
     "text": [
      "data: [1, 3, 5, 2, 7, 4, 10]\n",
      "d1 [2, 4, 6, 3, 8, 5, 11]\n",
      "d2: [2, 4, 6, 3, 8, 5, 11]\n"
     ]
    }
   ],
   "source": [
    "data = [1, 3, 5, 2, 7, 4, 10]\n",
    "print('data:', data)\n",
    "# Apply the lambda function to each element in the list\n",
    "# using the map function\n",
    "d1 = list(map(lambda i: i + 1, data))\n",
    "print('d1', d1)\n",
    "def add_one(i):\n",
    "    return i + 1\n",
    "# Apply the add_one function to each element in the\n",
    "# list using the map function\n",
    "d2 = list(map(add_one, data))\n",
    "print('d2:', d2)"
   ]
  },
  {
   "cell_type": "code",
   "execution_count": 6,
   "metadata": {},
   "outputs": [
    {
     "name": "stdout",
     "output_type": "stream",
     "text": [
      "[3, 7, 11, 15]\n"
     ]
    }
   ],
   "source": [
    "data1 = [1, 3, 5, 7]\n",
    "data2 = [2, 4, 6, 8]\n",
    "result = list(map(lambda x, y: x + y, data1, data2))\n",
    "print(result)"
   ]
  },
  {
   "cell_type": "code",
   "execution_count": 7,
   "metadata": {},
   "outputs": [
    {
     "name": "stdout",
     "output_type": "stream",
     "text": [
      "[54, 21, 19]\n"
     ]
    }
   ],
   "source": [
    "data = [Person('John', 54), Person('Phoebe', 21),Person('Adam', 19)]\n",
    "ages = list(map(lambda p: p.age, data))\n",
    "print(ages)"
   ]
  },
  {
   "cell_type": "code",
   "execution_count": 8,
   "metadata": {},
   "outputs": [
    {
     "name": "stdout",
     "output_type": "stream",
     "text": [
      "32\n"
     ]
    }
   ],
   "source": [
    "from functools import reduce\n",
    "data = [1, 3, 5, 2, 7, 4, 10]\n",
    "result = reduce(lambda total, value: total + value, data)\n",
    "print(result)"
   ]
  },
  {
   "cell_type": "code",
   "execution_count": 9,
   "metadata": {},
   "outputs": [
    {
     "name": "stdout",
     "output_type": "stream",
     "text": [
      "Average age: 31\n"
     ]
    }
   ],
   "source": [
    "data = [Person('John', 54), Person('Phoebe', 21),Person('Adam', 19)]\n",
    "total_age = reduce(lambda running_total, person: running_total + person.age, data, 0)\n",
    "average_age = total_age // len(data)\n",
    "print('Average age:', average_age)"
   ]
  },
  {
   "cell_type": "code",
   "execution_count": 13,
   "metadata": {},
   "outputs": [],
   "source": [
    "class Stack:\n",
    "    def __init__(self):\n",
    "        self._list = [] # initial internal data\n",
    "    def push(self, element):\n",
    "        self._list.append(element)\n",
    "    def pop(self):\n",
    "        return self._list.pop()\n",
    "    def __len__(self):\n",
    "        \"\"\" Supports the len protocol \"\"\"\n",
    "        return len(self._list)\n",
    "    def is_empty(self):\n",
    "        return self.__len__() == 0\n",
    "    def top(self):\n",
    "        return self._list[-1]\n",
    "    def __str__(self):\n",
    "        return 'Queue: ' + str(self._list)\n",
    "    def __iter__(self):\n",
    "        return iter(self._list)"
   ]
  },
  {
   "cell_type": "code",
   "execution_count": 43,
   "metadata": {},
   "outputs": [
    {
     "name": "stdout",
     "output_type": "stream",
     "text": [
      "stack contents: Queue: ['Task1', 'Task2', 'Job1', 'Task3', 'Job2']\n",
      "new_list: ['New Task1', 'New Task2', 'New Job1', 'New Task3', 'New Job2']\n",
      "filtered_list:  ['Job1', 'Job2']\n"
     ]
    }
   ],
   "source": [
    "stack = Stack()\n",
    "stack.push('Task1')\n",
    "stack.push('Task2')\n",
    "stack.push('Job1')\n",
    "stack.push('Task3')\n",
    "stack.push('Job2')\n",
    "print('stack contents:', stack)\n",
    "\n",
    "def is_job(item):\n",
    "    if item[0:3] == 'Job':\n",
    "        return True\n",
    "def add_item(item):\n",
    "    return 'New ' + item\n",
    "    \n",
    "# Apply functions to stack contents using map and filter\n",
    "new_list = list(map(add_item, stack))\n",
    "print('new_list:', new_list)\n",
    "filtered_list = list(filter(is_job, stack))\n",
    "print('filtered_list: ', filtered_list)"
   ]
  },
  {
   "cell_type": "code",
   "execution_count": null,
   "metadata": {},
   "outputs": [],
   "source": []
  },
  {
   "cell_type": "code",
   "execution_count": null,
   "metadata": {},
   "outputs": [],
   "source": []
  }
 ],
 "metadata": {
  "kernelspec": {
   "display_name": "Python 3",
   "language": "python",
   "name": "python3"
  },
  "language_info": {
   "codemirror_mode": {
    "name": "ipython",
    "version": 3
   },
   "file_extension": ".py",
   "mimetype": "text/x-python",
   "name": "python",
   "nbconvert_exporter": "python",
   "pygments_lexer": "ipython3",
   "version": "3.6.9"
  }
 },
 "nbformat": 4,
 "nbformat_minor": 4
}
