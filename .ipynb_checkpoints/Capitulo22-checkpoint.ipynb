{
 "cells": [
  {
   "cell_type": "code",
   "execution_count": 2,
   "metadata": {},
   "outputs": [],
   "source": [
    "class Quantity:\n",
    "    def __init__(self, value=0):\n",
    "        self.value = value\n",
    "    def __add__(self, other):\n",
    "        new_value = self.value + other.value\n",
    "        return Quantity(new_value)\n",
    "    def __sub__(self, other):\n",
    "        new_value = self.value - other.value\n",
    "        return Quantity(new_value)\n",
    "    def __str__(self):\n",
    "        return 'Quantity[' + str(self.value) + ']'"
   ]
  },
  {
   "cell_type": "code",
   "execution_count": 3,
   "metadata": {},
   "outputs": [
    {
     "name": "stdout",
     "output_type": "stream",
     "text": [
      "q1 = Quantity[5] , q2 = Quantity[10]\n",
      "q3 = Quantity[15]\n"
     ]
    }
   ],
   "source": [
    "q1 = Quantity(5)\n",
    "q2 = Quantity(10)\n",
    "print('q1 =', q1, ', q2 =', q2)\n",
    "q3 = q1 + q2\n",
    "print('q3 =', q3)"
   ]
  },
  {
   "cell_type": "code",
   "execution_count": 4,
   "metadata": {},
   "outputs": [],
   "source": [
    "class Quantity:\n",
    "    def __init__(self, value=0):\n",
    "        self.value = value\n",
    "    def __add__(self, other):\n",
    "        new_value = self.value + other.value\n",
    "        return Quantity(new_value)\n",
    "    def __sub__(self, other):\n",
    "        new_value = self.value - other.value\n",
    "        return Quantity(new_value)\n",
    "    def __mul__(self, other):\n",
    "        new_value = self.value * other.value\n",
    "        return Quantity(new_value)\n",
    "    def __pow__(self, other):\n",
    "        new_value = self.value ** other.value\n",
    "        return Quantity(new_value)\n",
    "    def __truediv__(self, other):\n",
    "        new_value = self.value / other.value\n",
    "        return Quantity(new_value)\n",
    "    def __floordiv__(self, other):\n",
    "        new_value = self.value // other.value\n",
    "        return Quantity(new_value)\n",
    "    def __mod__(self, other):\n",
    "        new_value = self.value % other.value\n",
    "        return Quantity(new_value)\n",
    "    def __str__(self):\n",
    "        return 'Quantity[' + str(self.value) + ']'"
   ]
  },
  {
   "cell_type": "code",
   "execution_count": 5,
   "metadata": {},
   "outputs": [
    {
     "name": "stdout",
     "output_type": "stream",
     "text": [
      "q1 = Quantity[5] , q2 = Quantity[10]\n",
      "q3 = Quantity[15]\n",
      "q2 - q1 = Quantity[5]\n",
      "q1 * q2 = Quantity[50]\n",
      "q1 / q2 = Quantity[0.5]\n"
     ]
    }
   ],
   "source": [
    "q1 = Quantity(5)\n",
    "q2 = Quantity(10)\n",
    "print('q1 =', q1, ', q2 =', q2)\n",
    "q3 = q1 + q2\n",
    "print('q3 =', q3)\n",
    "print('q2 - q1 =', q2 - q1)\n",
    "print('q1 * q2 =', q1 * q2)\n",
    "print('q1 / q2 =', q1 / q2)"
   ]
  },
  {
   "cell_type": "code",
   "execution_count": 6,
   "metadata": {},
   "outputs": [
    {
     "ename": "AttributeError",
     "evalue": "'int' object has no attribute 'value'",
     "output_type": "error",
     "traceback": [
      "\u001b[0;31m---------------------------------------------------------------------------\u001b[0m",
      "\u001b[0;31mAttributeError\u001b[0m                            Traceback (most recent call last)",
      "\u001b[0;32m<ipython-input-6-7c28013f6cdd>\u001b[0m in \u001b[0;36m<module>\u001b[0;34m\u001b[0m\n\u001b[0;32m----> 1\u001b[0;31m \u001b[0mprint\u001b[0m\u001b[0;34m(\u001b[0m\u001b[0;34m'q1 * 2'\u001b[0m\u001b[0;34m,\u001b[0m \u001b[0mq1\u001b[0m \u001b[0;34m*\u001b[0m \u001b[0;36m2\u001b[0m\u001b[0;34m)\u001b[0m\u001b[0;34m\u001b[0m\u001b[0;34m\u001b[0m\u001b[0m\n\u001b[0m\u001b[1;32m      2\u001b[0m \u001b[0mprint\u001b[0m\u001b[0;34m(\u001b[0m\u001b[0;34m'q2 / 2'\u001b[0m\u001b[0;34m,\u001b[0m \u001b[0mq2\u001b[0m \u001b[0;34m/\u001b[0m \u001b[0;36m2\u001b[0m\u001b[0;34m)\u001b[0m\u001b[0;34m\u001b[0m\u001b[0;34m\u001b[0m\u001b[0m\n",
      "\u001b[0;32m<ipython-input-4-7d06d5ce23c3>\u001b[0m in \u001b[0;36m__mul__\u001b[0;34m(self, other)\u001b[0m\n\u001b[1;32m      9\u001b[0m         \u001b[0;32mreturn\u001b[0m \u001b[0mQuantity\u001b[0m\u001b[0;34m(\u001b[0m\u001b[0mnew_value\u001b[0m\u001b[0;34m)\u001b[0m\u001b[0;34m\u001b[0m\u001b[0;34m\u001b[0m\u001b[0m\n\u001b[1;32m     10\u001b[0m     \u001b[0;32mdef\u001b[0m \u001b[0m__mul__\u001b[0m\u001b[0;34m(\u001b[0m\u001b[0mself\u001b[0m\u001b[0;34m,\u001b[0m \u001b[0mother\u001b[0m\u001b[0;34m)\u001b[0m\u001b[0;34m:\u001b[0m\u001b[0;34m\u001b[0m\u001b[0;34m\u001b[0m\u001b[0m\n\u001b[0;32m---> 11\u001b[0;31m         \u001b[0mnew_value\u001b[0m \u001b[0;34m=\u001b[0m \u001b[0mself\u001b[0m\u001b[0;34m.\u001b[0m\u001b[0mvalue\u001b[0m \u001b[0;34m*\u001b[0m \u001b[0mother\u001b[0m\u001b[0;34m.\u001b[0m\u001b[0mvalue\u001b[0m\u001b[0;34m\u001b[0m\u001b[0;34m\u001b[0m\u001b[0m\n\u001b[0m\u001b[1;32m     12\u001b[0m         \u001b[0;32mreturn\u001b[0m \u001b[0mQuantity\u001b[0m\u001b[0;34m(\u001b[0m\u001b[0mnew_value\u001b[0m\u001b[0;34m)\u001b[0m\u001b[0;34m\u001b[0m\u001b[0;34m\u001b[0m\u001b[0m\n\u001b[1;32m     13\u001b[0m     \u001b[0;32mdef\u001b[0m \u001b[0m__pow__\u001b[0m\u001b[0;34m(\u001b[0m\u001b[0mself\u001b[0m\u001b[0;34m,\u001b[0m \u001b[0mother\u001b[0m\u001b[0;34m)\u001b[0m\u001b[0;34m:\u001b[0m\u001b[0;34m\u001b[0m\u001b[0;34m\u001b[0m\u001b[0m\n",
      "\u001b[0;31mAttributeError\u001b[0m: 'int' object has no attribute 'value'"
     ]
    }
   ],
   "source": [
    "print('q1 * 2', q1 * 2)\n",
    "print('q2 / 2', q2 / 2)"
   ]
  },
  {
   "cell_type": "code",
   "execution_count": 15,
   "metadata": {},
   "outputs": [],
   "source": [
    "class Quantity:\n",
    "# Code ommitted for brevity\n",
    "    def __init__(self, value=0):\n",
    "        self.value = value\n",
    "    def __add__(self, other):\n",
    "        new_value = self.value + other.value\n",
    "        return Quantity(new_value)\n",
    "    def __sub__(self, other):\n",
    "        new_value = self.value - other.value\n",
    "        return Quantity(new_value)\n",
    "    def __mul__(self, other):\n",
    "        new_value = self.value * other.value\n",
    "        return Quantity(new_value)\n",
    "    def __pow__(self, other):\n",
    "        new_value = self.value ** other.value\n",
    "        return Quantity(new_value)\n",
    "    def __truediv__(self, other):\n",
    "        new_value = self.value / other.value\n",
    "        return Quantity(new_value)\n",
    "    def __floordiv__(self, other):\n",
    "        new_value = self.value // other.value\n",
    "        return Quantity(new_value)\n",
    "    def __mod__(self, other):\n",
    "        new_value = self.value % other.value\n",
    "        return Quantity(new_value)\n",
    "    def __str__(self):\n",
    "        return 'Quantity[' + str(self.value) + ']'\n",
    "    def __mul__(self, other):\n",
    "        if isinstance(other, int):\n",
    "            new_value = self.value * other\n",
    "        else:\n",
    "            new_value = self.value * other.value\n",
    "        return Quantity(new_value)\n",
    "    def __truediv__(self, other):\n",
    "        if isinstance(other, int):\n",
    "            new_value = self.value / other\n",
    "        else:\n",
    "            new_value = self.value / other.value\n",
    "        return Quantity(new_value)"
   ]
  },
  {
   "cell_type": "code",
   "execution_count": 16,
   "metadata": {},
   "outputs": [
    {
     "name": "stdout",
     "output_type": "stream",
     "text": [
      "q1 * 2 Quantity[10]\n",
      "q2 / 2 Quantity[5.0]\n"
     ]
    }
   ],
   "source": [
    "q1 = Quantity(5)\n",
    "q2 = Quantity(10)\n",
    "print('q1 * 2', q1 * 2)\n",
    "print('q2 / 2', q2 / 2)"
   ]
  },
  {
   "cell_type": "code",
   "execution_count": 17,
   "metadata": {},
   "outputs": [],
   "source": [
    "class Quantity:\n",
    "# Code ommitted for brevity\n",
    "    def __init__(self, value=0):\n",
    "        self.value = value\n",
    "    def __add__(self, other):\n",
    "        new_value = self.value + other.value\n",
    "        return Quantity(new_value)\n",
    "    def __sub__(self, other):\n",
    "        new_value = self.value - other.value\n",
    "        return Quantity(new_value)\n",
    "    def __mul__(self, other):\n",
    "        new_value = self.value * other.value\n",
    "        return Quantity(new_value)\n",
    "    def __pow__(self, other):\n",
    "        new_value = self.value ** other.value\n",
    "        return Quantity(new_value)\n",
    "    def __truediv__(self, other):\n",
    "        new_value = self.value / other.value\n",
    "        return Quantity(new_value)\n",
    "    def __floordiv__(self, other):\n",
    "        new_value = self.value // other.value\n",
    "        return Quantity(new_value)\n",
    "    def __mod__(self, other):\n",
    "        new_value = self.value % other.value\n",
    "        return Quantity(new_value)\n",
    "    def __eq__(self, other):\n",
    "        return self.value == other.value\n",
    "    def __ne__(self, other):\n",
    "        return self.value != other.value\n",
    "    def __ge__(self, other):\n",
    "        return self.value >= other.value\n",
    "    def __gt__(self, other):\n",
    "        return self.value > other.value\n",
    "    def __lt__(self, other):\n",
    "        return self.value < other.value\n",
    "    def __le__(self, other):\n",
    "        return self.value <= other.value\n",
    "    def __str__(self):\n",
    "        return 'Quantity[' + str(self.value) + ']'\n",
    "    def __mul__(self, other):\n",
    "        if isinstance(other, int):\n",
    "            new_value = self.value * other\n",
    "        else:\n",
    "            new_value = self.value * other.value\n",
    "        return Quantity(new_value)\n",
    "    def __truediv__(self, other):\n",
    "        if isinstance(other, int):\n",
    "            new_value = self.value / other\n",
    "        else:\n",
    "            new_value = self.value / other.value\n",
    "        return Quantity(new_value)"
   ]
  },
  {
   "cell_type": "code",
   "execution_count": 18,
   "metadata": {},
   "outputs": [
    {
     "name": "stdout",
     "output_type": "stream",
     "text": [
      "q1 = Quantity[5] ,q2 = Quantity[10]\n",
      "q3 = Quantity[15]\n",
      "q1 < q2:  True\n",
      "q3 > q2:  True\n",
      "q3 == q1:  False\n"
     ]
    }
   ],
   "source": [
    "q1 = Quantity(5)\n",
    "q2 = Quantity(10)\n",
    "print('q1 =', q1, ',q2 =', q2)\n",
    "q3 = q1 + q2\n",
    "print('q3 =', q3)\n",
    "print('q1 < q2: ', q1 < q2)\n",
    "print('q3 > q2: ', q3 > q2)\n",
    "print('q3 == q1: ', q3 == q1)"
   ]
  },
  {
   "cell_type": "code",
   "execution_count": 25,
   "metadata": {},
   "outputs": [],
   "source": [
    "class Distance:\n",
    "# Code ommitted for brevity\n",
    "    def __init__(self, value=0):\n",
    "        self.value = value\n",
    "    def __add__(self, other):\n",
    "        new_value = self.value + other.value\n",
    "        return Distance(new_value)\n",
    "    def __sub__(self, other):\n",
    "        new_value = self.value - other.value\n",
    "        return Distance(new_value)\n",
    "    def __floordiv__(self, other):\n",
    "        if isinstance(other, int):\n",
    "            new_value = self.value // other\n",
    "        else:\n",
    "            new_value = self.value // other.value\n",
    "        return Distance(new_value)\n",
    "    def __str__(self):\n",
    "        return 'Distance[' + str(self.value) + ']'\n",
    "    def __mul__(self, other):\n",
    "        if isinstance(other, int):\n",
    "            new_value = self.value * other\n",
    "        else:\n",
    "            new_value = self.value * other.value\n",
    "        return Distance(new_value)\n",
    "    def __truediv__(self, other):\n",
    "        if isinstance(other, int):\n",
    "            new_value = self.value / other\n",
    "        else:\n",
    "            new_value = self.value / other.value\n",
    "        return Distance(new_value)"
   ]
  },
  {
   "cell_type": "code",
   "execution_count": 26,
   "metadata": {},
   "outputs": [
    {
     "name": "stdout",
     "output_type": "stream",
     "text": [
      "Distance[9]\n",
      "Distance[3]\n",
      "Distance[3.0]\n",
      "Distance[1]\n",
      "Distance[6]\n"
     ]
    }
   ],
   "source": [
    "d1 = Distance(6)\n",
    "d2 = Distance(3)\n",
    "print( d1 + d2)\n",
    "print (d1 - d2)\n",
    "print (d1 / 2)\n",
    "print(d2 // 2)\n",
    "print(d2 * 2)"
   ]
  },
  {
   "cell_type": "code",
   "execution_count": null,
   "metadata": {},
   "outputs": [],
   "source": []
  }
 ],
 "metadata": {
  "kernelspec": {
   "display_name": "Python 3",
   "language": "python",
   "name": "python3"
  },
  "language_info": {
   "codemirror_mode": {
    "name": "ipython",
    "version": 3
   },
   "file_extension": ".py",
   "mimetype": "text/x-python",
   "name": "python",
   "nbconvert_exporter": "python",
   "pygments_lexer": "ipython3",
   "version": "3.6.9"
  }
 },
 "nbformat": 4,
 "nbformat_minor": 4
}
