{
 "cells": [
  {
   "cell_type": "code",
   "execution_count": 8,
   "metadata": {},
   "outputs": [
    {
     "name": "stdout",
     "output_type": "stream",
     "text": [
      "Hello Python World!\n",
      "<class 'function'>\n",
      "Hello Python World!\n",
      "Some other message!!!\n"
     ]
    }
   ],
   "source": [
    "def get_msg():\n",
    "    return 'Hello Python World!'\n",
    "\n",
    "def get_some_other_msg():\n",
    "    return 'Some other message!!!'\n",
    "\n",
    "message = get_msg()\n",
    "print(message)\n",
    "\n",
    "print(type(get_msg))\n",
    "another_reference = get_msg\n",
    "print(another_reference())\n",
    "\n",
    "get_msg = get_some_other_msg\n",
    "print(get_msg())"
   ]
  },
  {
   "cell_type": "code",
   "execution_count": 9,
   "metadata": {},
   "outputs": [
    {
     "data": {
      "text/plain": [
       "50.0"
      ]
     },
     "execution_count": 9,
     "metadata": {},
     "output_type": "execute_result"
    }
   ],
   "source": [
    "def apply(x, function):\n",
    "    result = function(x)\n",
    "    return result\n",
    "\n",
    "def mult(y):\n",
    "    return y * 10.0\n",
    "\n",
    "apply(5, mult)"
   ]
  },
  {
   "cell_type": "code",
   "execution_count": 11,
   "metadata": {},
   "outputs": [
    {
     "name": "stdout",
     "output_type": "stream",
     "text": [
      "20\n",
      "50\n",
      "100\n",
      "11\n",
      "20\n"
     ]
    }
   ],
   "source": [
    "def mult_by_two(num):\n",
    "    return num * 2\n",
    "\n",
    "def mult_by_five(num):\n",
    "    return num * 5\n",
    "\n",
    "def square(num):\n",
    "    return num * num\n",
    "\n",
    "def add_one(num):\n",
    "    return num + 1\n",
    "\n",
    "def apply(num, func):\n",
    "    return func(num)\n",
    "\n",
    "result = apply(10, mult_by_two)\n",
    "print(result)\n",
    "\n",
    "print(apply(10,mult_by_five))\n",
    "print(apply(10,square))\n",
    "print(apply(10,add_one))\n",
    "print(apply(10, mult_by_two))"
   ]
  },
  {
   "cell_type": "code",
   "execution_count": 12,
   "metadata": {},
   "outputs": [
    {
     "name": "stdout",
     "output_type": "stream",
     "text": [
      "13500\n"
     ]
    }
   ],
   "source": [
    "import math\n",
    "\n",
    "def simple_tax_calculator(amount):\n",
    "    return math.ceil(amount * 0.3)\n",
    "\n",
    "def calculate_tax(salary, func):\n",
    "    return func(salary)\n",
    "\n",
    "print(calculate_tax(45000.0, simple_tax_calculator))"
   ]
  },
  {
   "cell_type": "code",
   "execution_count": 13,
   "metadata": {},
   "outputs": [
    {
     "name": "stdout",
     "output_type": "stream",
     "text": [
      "False\n",
      "True\n",
      "False\n"
     ]
    }
   ],
   "source": [
    "def make_checker(s):\n",
    "    if s == 'even':\n",
    "        return lambda n: n%2 == 0\n",
    "    elif s == 'positive':\n",
    "        return lambda n: n >= 0\n",
    "    elif s == 'negative':\n",
    "        return lambda n: n < 0\n",
    "    else:\n",
    "        raise ValueError('Unknown request')\n",
    "\n",
    "f1 = make_checker('even')\n",
    "f2 = make_checker('positive')\n",
    "f3 = make_checker('negative')\n",
    "print(f1(3))\n",
    "print(f2(3))\n",
    "print(f3(3))"
   ]
  },
  {
   "cell_type": "code",
   "execution_count": 14,
   "metadata": {},
   "outputs": [
    {
     "name": "stdout",
     "output_type": "stream",
     "text": [
      "5\n",
      "6\n",
      "4\n"
     ]
    }
   ],
   "source": [
    "def make_function():\n",
    "    def adder(x, y):\n",
    "        return x + y\n",
    "    return adder\n",
    "\n",
    "f1 = make_function()\n",
    "print(f1(3, 2))\n",
    "print(f1(3, 3))\n",
    "print(f1(3, 1))"
   ]
  },
  {
   "cell_type": "code",
   "execution_count": 36,
   "metadata": {},
   "outputs": [
    {
     "name": "stdout",
     "output_type": "stream",
     "text": [
      "4\n",
      "8\n",
      "4.0\n",
      "True\n",
      "False\n",
      "True\n",
      "False\n",
      "True\n",
      "False\n"
     ]
    }
   ],
   "source": [
    "def double(n):\n",
    "    return n*n\n",
    "\n",
    "def triple(n):\n",
    "    return n*n*n\n",
    "\n",
    "def square(n):\n",
    "    return n**0.5\n",
    "\n",
    "def is_prime(n):\n",
    "    for primo in range(1, n+1):\n",
    "        divisor = 0\n",
    "        for div in range(1, primo):\n",
    "            if (primo%div == 0):\n",
    "                divisor += 1\n",
    "    if (divisor < 2):\n",
    "        return True\n",
    "    else:\n",
    "        return False\n",
    "    \n",
    "def is_integer(n):\n",
    "    if (n.isnumeric()):\n",
    "        return True\n",
    "    else:\n",
    "        return False\n",
    "    \n",
    "def is_letter(n):\n",
    "    if (n.isnumeric()):\n",
    "        return False\n",
    "    else:\n",
    "        return True\n",
    "\n",
    "def my_higher_order_function(i, func):\n",
    "    return func(i)\n",
    "    \n",
    "print(my_higher_order_function(2, double))\n",
    "print(my_higher_order_function(2, triple))\n",
    "print(my_higher_order_function(16, square))\n",
    "print(my_higher_order_function(2, is_prime))\n",
    "print(my_higher_order_function(4, is_prime))\n",
    "print(my_higher_order_function('2', is_integer))\n",
    "print(my_higher_order_function('A', is_integer))\n",
    "print(my_higher_order_function('A', is_letter))\n",
    "print(my_higher_order_function('1', is_letter))"
   ]
  },
  {
   "cell_type": "code",
   "execution_count": null,
   "metadata": {},
   "outputs": [],
   "source": []
  }
 ],
 "metadata": {
  "kernelspec": {
   "display_name": "Python 3",
   "language": "python",
   "name": "python3"
  },
  "language_info": {
   "codemirror_mode": {
    "name": "ipython",
    "version": 3
   },
   "file_extension": ".py",
   "mimetype": "text/x-python",
   "name": "python",
   "nbconvert_exporter": "python",
   "pygments_lexer": "ipython3",
   "version": "3.6.9"
  }
 },
 "nbformat": 4,
 "nbformat_minor": 4
}
