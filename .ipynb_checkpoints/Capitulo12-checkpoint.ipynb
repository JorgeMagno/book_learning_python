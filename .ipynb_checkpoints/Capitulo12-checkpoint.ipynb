{
 "cells": [
  {
   "cell_type": "code",
   "execution_count": 3,
   "metadata": {},
   "outputs": [
    {
     "name": "stdout",
     "output_type": "stream",
     "text": [
      "100\n",
      "25\n"
     ]
    }
   ],
   "source": [
    "def my_function():\n",
    "    a_variable = 100\n",
    "    print(a_variable)\n",
    "\n",
    "a_variable = 25\n",
    "my_function()\n",
    "print(a_variable)"
   ]
  },
  {
   "cell_type": "code",
   "execution_count": 9,
   "metadata": {},
   "outputs": [
    {
     "name": "stdout",
     "output_type": "stream",
     "text": [
      "101\n",
      "101\n"
     ]
    }
   ],
   "source": [
    "max = 100\n",
    "\n",
    "def print_max():\n",
    "    global max\n",
    "    max = max + 1\n",
    "    print(max)\n",
    "    \n",
    "print_max()\n",
    "print(max)"
   ]
  },
  {
   "cell_type": "code",
   "execution_count": 11,
   "metadata": {},
   "outputs": [
    {
     "name": "stdout",
     "output_type": "stream",
     "text": [
      "inner: another title\n",
      "outer: another title\n"
     ]
    }
   ],
   "source": [
    "def outer():\n",
    "    title = 'original title'\n",
    "    \n",
    "    def inner():\n",
    "        nonlocal title\n",
    "        title = 'another title'\n",
    "        print('inner:', title)\n",
    "        \n",
    "    inner()\n",
    "    print('outer:', title)\n",
    "    \n",
    "outer()"
   ]
  },
  {
   "cell_type": "code",
   "execution_count": 5,
   "metadata": {},
   "outputs": [
    {
     "name": "stdout",
     "output_type": "stream",
     "text": [
      "Bem-vindo ao jogo\n",
      "Escolha um número entre 1 and 10: 5\n",
      "Desculpe, número errado\n",
      "O número é maior\n",
      "Tente novamente: 7\n",
      "Desculpe, número errado\n",
      "O número é maior\n",
      "Tente novamente: 9\n",
      "Você venceu!!!\n",
      "Você precisou de 3 tentativas para vencer\n",
      "Game Over! Quer jogar de novo? S ou N s\n",
      "Escolha um número entre 1 and 10: 1\n",
      "Desculpe, número errado\n",
      "O número é maior\n",
      "Tente novamente: 2\n",
      "Desculpe, número errado\n",
      "O número é maior\n",
      "Tente novamente: 3\n",
      "Desculpe, número errado\n",
      "O número é maior\n",
      "Tente novamente: 4\n",
      "Desculpe, número errado\n",
      "Sorry - Perdeu :\n",
      "O número era  7\n",
      "Game Over! Quer jogar de novo? S ou N s\n",
      "Escolha um número entre 1 and 10: 5\n",
      "Desculpe, número errado\n",
      "O número é maior\n",
      "Tente novamente: 7\n",
      "Desculpe, número errado\n",
      "O número é maior\n",
      "VOCÊ ERROU POR UM!\n",
      "Tente novamente: 8\n",
      "Você venceu!!!\n",
      "Você precisou de 3 tentativas para vencer\n",
      "Game Over! Quer jogar de novo? S ou N n\n",
      "Adeus!\n"
     ]
    }
   ],
   "source": [
    "import random\n",
    "\n",
    "guess = ' '\n",
    "\n",
    "def visita(message):\n",
    "    guess = input(message)\n",
    "    while not guess.isnumeric():\n",
    "        print('The input must be an integer')\n",
    "        guess = input(message)\n",
    "    return int(guess)\n",
    "\n",
    "def mensagem():\n",
    "    print (\"Bem-vindo ao jogo\")\n",
    "\n",
    "\n",
    "def resultado(number, count_number_of_tries):\n",
    "    global guess\n",
    "    if number == guess:\n",
    "        print('Você venceu!!!')\n",
    "        print('Você precisou de', count_number_of_tries , 'tentativas para vencer')\n",
    "    else:\n",
    "        print(\"Sorry - Perdeu :\")\n",
    "        print('O número era ',number)\n",
    "\n",
    "def loop():\n",
    "    while True:\n",
    "        number_to_guess = random.randint(1,10)\n",
    "        count_number_of_tries = 1\n",
    "        global guess\n",
    "        guess = visita('Escolha um número entre 1 and 10: ')\n",
    "        while number_to_guess != guess:\n",
    "            if guess == -1:\n",
    "                print (\"O número é \",number_to_guess)\n",
    "            print('Desculpe, número errado')\n",
    "            if count_number_of_tries == 4:\n",
    "                break\n",
    "            if guess < number_to_guess:\n",
    "                print('O número é maior')\n",
    "            else:\n",
    "                print('O número é menor')\n",
    "            if (guess == number_to_guess - 1) or (guess == number_to_guess + 1):\n",
    "                print(\"VOCÊ ERROU POR UM!\")\n",
    "            guess = int(input('Tente novamente: '))\n",
    "            if guess != -1:\n",
    "                count_number_of_tries += 1\n",
    "        resultado(number_to_guess, count_number_of_tries)\n",
    "        resp = input('Game Over! Quer jogar de novo? S ou N ')\n",
    "        if resp == \"N\" or resp == \"n\":\n",
    "            print (\"Adeus!\")\n",
    "            break\n",
    "\n",
    "mensagem()\n",
    "loop()"
   ]
  },
  {
   "cell_type": "code",
   "execution_count": null,
   "metadata": {},
   "outputs": [],
   "source": []
  },
  {
   "cell_type": "code",
   "execution_count": null,
   "metadata": {},
   "outputs": [],
   "source": []
  }
 ],
 "metadata": {
  "kernelspec": {
   "display_name": "Python 3",
   "language": "python",
   "name": "python3"
  },
  "language_info": {
   "codemirror_mode": {
    "name": "ipython",
    "version": 3
   },
   "file_extension": ".py",
   "mimetype": "text/x-python",
   "name": "python",
   "nbconvert_exporter": "python",
   "pygments_lexer": "ipython3",
   "version": "3.6.9"
  }
 },
 "nbformat": 4,
 "nbformat_minor": 4
}
