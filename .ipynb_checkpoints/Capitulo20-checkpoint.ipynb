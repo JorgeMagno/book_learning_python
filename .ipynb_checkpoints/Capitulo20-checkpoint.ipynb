{
 "cells": [
  {
   "cell_type": "code",
   "execution_count": 12,
   "metadata": {},
   "outputs": [
    {
     "name": "stdout",
     "output_type": "stream",
     "text": [
      "Person\n",
      "John is 54\n",
      "-------------------------\n",
      "Employee\n",
      "Happy birthday you were 51\n",
      "You are now 52\n",
      "e.calculate_pay(40): 400.0\n",
      "-------------------------\n",
      "SalesPerson\n",
      "Happy birthday you were 21\n",
      "You are now 22\n",
      "s.calculate_pay(40): 400.0\n",
      "s.bonus(): 15000.0\n",
      "-------------------------\n",
      "John is 54\n",
      "Denise is 51 - id(1234)\n"
     ]
    }
   ],
   "source": [
    "class Person:\n",
    "    def __init__(self, name, age):\n",
    "        self.name = name\n",
    "        self.age = age\n",
    "        \n",
    "    def __str__(self):\n",
    "        return self.name + ' is ' + str(self.age)\n",
    "        \n",
    "    def birthday(self):\n",
    "        print('Happy birthday you were', self.age)\n",
    "        self.age += 1\n",
    "        print('You are now', self.age)\n",
    "        \n",
    "class Employee(Person):\n",
    "    def __init__(self, name, age, id):\n",
    "        super().__init__(name, age)\n",
    "        self.id = id\n",
    "\n",
    "    def calculate_pay(self, hours_worked):\n",
    "        rate_of_pay = 7.50\n",
    "        if self.age >= 21:\n",
    "            rate_of_pay += 2.50\n",
    "        return hours_worked * rate_of_pay\n",
    "    \n",
    "class SalesPerson(Employee):\n",
    "    def __init__(self, name, age, id, region, sales):\n",
    "        super().__init__(name, age, id)\n",
    "        self.region = region\n",
    "        self.sales = sales\n",
    "\n",
    "    def bonus(self):\n",
    "        return self.sales * 0.5\n",
    "\n",
    "print('Person')\n",
    "p = Person('John', 54)\n",
    "print(p)\n",
    "print('-' * 25)\n",
    "print('Employee')\n",
    "e = Employee('Denise', 51, 7468)\n",
    "e.birthday()\n",
    "print('e.calculate_pay(40):', e.calculate_pay(40))\n",
    "print('-' * 25)\n",
    "print('SalesPerson')\n",
    "s = SalesPerson('Phoebe', 21, 4712, 'UK', 30000.0)\n",
    "s.birthday()\n",
    "print('s.calculate_pay(40):', s.calculate_pay(40))\n",
    "print('s.bonus():', s.bonus())\n",
    "\n"
   ]
  },
  {
   "cell_type": "code",
   "execution_count": 14,
   "metadata": {},
   "outputs": [
    {
     "name": "stdout",
     "output_type": "stream",
     "text": [
      "-------------------------\n",
      "John is 54\n",
      "Denise is 51 - id(1234)\n"
     ]
    }
   ],
   "source": [
    "class Person:\n",
    "    def __init__(self, name, age):\n",
    "        self.name = name\n",
    "        self.age = age\n",
    "        \n",
    "    def __str__(self):\n",
    "        return self.name + ' is ' + str(self.age)\n",
    "        \n",
    "    def birthday(self):\n",
    "        print('Happy birthday you were', self.age)\n",
    "        self.age += 1\n",
    "        print('You are now', self.age)\n",
    "        \n",
    "class Employee(Person):\n",
    "    def __init__(self, name, age, id):\n",
    "        super().__init__(name, age)\n",
    "        self.id = id\n",
    "    def __str__(self):\n",
    "        return self.name + ' is ' + str(self.age) + ' - id('+ str(self.id) + ')'\n",
    "\n",
    "print('-' * 25)\n",
    "p = Person('John', 54)\n",
    "print(p)\n",
    "e = Employee('Denise', 51, 1234)\n",
    "print(e)"
   ]
  },
  {
   "cell_type": "code",
   "execution_count": 16,
   "metadata": {},
   "outputs": [
    {
     "name": "stdout",
     "output_type": "stream",
     "text": [
      "John is 54\n",
      "Denise is 51-id(1234)\n"
     ]
    }
   ],
   "source": [
    "class Person:\n",
    "    def __init__(self, name, age):\n",
    "        self.name = name\n",
    "        self.age = age\n",
    "    def __str__(self):\n",
    "        return self.name + ' is ' + str(self.age)\n",
    "class Employee(Person):\n",
    "    def __init__(self, name, age, id):\n",
    "        super().__init__(name, age)\n",
    "        self.id = id\n",
    "    def __str__(self):\n",
    "        return super().__str__() + '-id(' + str(self.id) + ')'\n",
    "\n",
    "p = Person('John', 54)\n",
    "print(p)\n",
    "e = Employee('Denise', 51, 1234)\n",
    "print(e)"
   ]
  },
  {
   "cell_type": "code",
   "execution_count": 19,
   "metadata": {},
   "outputs": [
    {
     "name": "stdout",
     "output_type": "stream",
     "text": [
      "Toy - move()\n"
     ]
    }
   ],
   "source": [
    "class Car:\n",
    "    def move(self):\n",
    "        print('Car - move()')\n",
    "class Toy:\n",
    "    def move(self):\n",
    "        print('Toy - move()')\n",
    "class ToyCar(Toy, Car):\n",
    "    \"\"\" A Toy Car \"\"\"\n",
    "    \n",
    "tc = ToyCar()\n",
    "tc.move()"
   ]
  },
  {
   "cell_type": "code",
   "execution_count": 8,
   "metadata": {},
   "outputs": [],
   "source": [
    "class Account:\n",
    "    instance_count = 0\n",
    "    @staticmethod\n",
    "    def static_function():\n",
    "        print('Conta Criada')\n",
    "        \n",
    "    @classmethod\n",
    "    def increment_instance_count(cls):\n",
    "        cls.instance_count += 1\n",
    "        \n",
    "    def __init__(self, number,holder, balance):\n",
    "        Account.increment_instance_count()\n",
    "        self.number = number\n",
    "        self.holder = holder\n",
    "        self.balance = balance\n",
    "        Account.static_function()\n",
    "        \n",
    "    def __str__(self):\n",
    "        return 'Account Number:'+ self.number + ' - ' + self.holder +', ' + self.type_account +' account = ' + str(self.balance)\n",
    "    \n",
    "    def deposit(self, amount):\n",
    "        self.balance += amount\n",
    "        return self.balance\n",
    "    \n",
    "    def get_balance(self):\n",
    "        return self.balance"
   ]
  },
  {
   "cell_type": "code",
   "execution_count": 17,
   "metadata": {},
   "outputs": [],
   "source": [
    "class DepositAccount(Account):\n",
    "    def __init__(self, number, holder, balance, interest_rate):\n",
    "        super().__init__(number, holder, balance)\n",
    "        self.interest_rate = interest_rate\n",
    "    def __str__(self):\n",
    "        return super().__str__() + '-intereste rate:' + str(self.interest_rate)\n",
    "        \n",
    "    \n",
    "class CurrentAccount(Account):\n",
    "    def __init__(self, number, holder, balance, overdraft_limit):\n",
    "        super().__init__(number, holder, balance)\n",
    "        self.overdraft_limit = overdraft_limit\n",
    "    def __str__(self):\n",
    "        return super().__str__() + '-overdraft limit:' + str(self.overdraft_limit)\n",
    "    def withdraw(self, amount):    \n",
    "        if amount <= self.overdraft_limit:\n",
    "            self.balance -= amount\n",
    "            return self.balance\n",
    "        else:\n",
    "            print ('Withdrawal would exceed your overdraft limit')\n",
    "    \n",
    "class InvestmentAccount(Account):\n",
    "    def __init__(self, number, holder, balance, investment_type):\n",
    "        super().__init__(number, holder, balance)\n",
    "        self.investment_type = investment_type\n",
    "    def __str__(self):\n",
    "        return super().__str__() + '-investment type:' + str(self.investment_type)"
   ]
  },
  {
   "cell_type": "code",
   "execution_count": 18,
   "metadata": {},
   "outputs": [
    {
     "name": "stdout",
     "output_type": "stream",
     "text": [
      "Conta Criada\n",
      "Conta Criada\n",
      "Conta Criada\n",
      "balance: 21.17\n",
      "Withdrawal would exceed your overdraft limit\n",
      "balance: 21.17\n"
     ]
    }
   ],
   "source": [
    "# CurrentAccount(account_number, account_holder,opening_balance, overdraft_limit)\n",
    "acc1 = CurrentAccount('123', 'John', 10.05, 100.0)\n",
    "# DepositAccount(account_number, account_holder,opening_balance,interest_rate)\n",
    "acc2 = DepositAccount('345', 'John', 23.55, 0.5)\n",
    "# InvestmentAccount(account_number, account_holder,opening_balance,investment_type)\n",
    "acc3 = InvestmentAccount('567', 'Phoebe', 12.45, 'high risk')\n",
    "\n",
    "acc1.deposit(23.45)\n",
    "acc1.withdraw(12.33)\n",
    "print('balance:', acc1.get_balance())\n",
    "acc1.withdraw(300.00)\n",
    "print('balance:', acc1.get_balance())"
   ]
  },
  {
   "cell_type": "code",
   "execution_count": null,
   "metadata": {},
   "outputs": [],
   "source": []
  }
 ],
 "metadata": {
  "kernelspec": {
   "display_name": "Python 3",
   "language": "python",
   "name": "python3"
  },
  "language_info": {
   "codemirror_mode": {
    "name": "ipython",
    "version": 3
   },
   "file_extension": ".py",
   "mimetype": "text/x-python",
   "name": "python",
   "nbconvert_exporter": "python",
   "pygments_lexer": "ipython3",
   "version": "3.6.9"
  }
 },
 "nbformat": 4,
 "nbformat_minor": 4
}
