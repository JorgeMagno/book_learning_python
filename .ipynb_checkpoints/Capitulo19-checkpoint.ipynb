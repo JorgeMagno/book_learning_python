{
 "cells": [
  {
   "cell_type": "code",
   "execution_count": 1,
   "metadata": {},
   "outputs": [
    {
     "name": "stdout",
     "output_type": "stream",
     "text": [
      "4\n"
     ]
    }
   ],
   "source": [
    "class Person:\n",
    "    \"\"\" An example class to hold a persons name and age\"\"\"\n",
    "    instance_count = 0\n",
    "    @classmethod\n",
    "    def increment_instance_count(cls):\n",
    "        cls.instance_count += 1\n",
    "    def __init__(self, name, age):\n",
    "        Person.instance_count += 1\n",
    "        self.name = name\n",
    "        self.age = age\n",
    "        \n",
    "p1 = Person('Jason', 36)\n",
    "p2 = Person('Carol', 21)\n",
    "p3 = Person('James', 19)\n",
    "p4 = Person('Tom', 31)\n",
    "print(Person.instance_count)"
   ]
  },
  {
   "cell_type": "code",
   "execution_count": 8,
   "metadata": {},
   "outputs": [
    {
     "name": "stdout",
     "output_type": "stream",
     "text": [
      "4\n",
      "Static method\n"
     ]
    }
   ],
   "source": [
    "class Person:\n",
    "    \"\"\" An example class to hold a persons name and age\"\"\"\n",
    "    instance_count = 0\n",
    "    @staticmethod\n",
    "    def static_function():\n",
    "        print('Static method')\n",
    "        \n",
    "    @classmethod\n",
    "    def increment_instance_count(cls):\n",
    "        cls.instance_count += 1\n",
    "        \n",
    "    def __init__(self, name, age):\n",
    "        Person.increment_instance_count()\n",
    "        self.name = name\n",
    "        self.age = age\n",
    "        \n",
    "p1 = Person('Jason', 36)\n",
    "p2 = Person('Carol', 21)\n",
    "p3 = Person('James', 19)\n",
    "p4 = Person('Tom', 31)\n",
    "print(Person.instance_count)\n",
    "\n",
    "Person.static_function()"
   ]
  },
  {
   "cell_type": "code",
   "execution_count": 11,
   "metadata": {},
   "outputs": [
    {
     "name": "stdout",
     "output_type": "stream",
     "text": [
      "Conta Criada\n",
      "Conta Criada\n",
      "Conta Criada\n",
      "Number of Account instances created: 3\n"
     ]
    }
   ],
   "source": [
    "class Account:\n",
    "    instance_count = 0\n",
    "    @staticmethod\n",
    "    def static_function():\n",
    "        print('Conta Criada')\n",
    "        \n",
    "    @classmethod\n",
    "    def increment_instance_count(cls):\n",
    "        cls.instance_count += 1\n",
    "        \n",
    "    def __init__(self, number,holder, balance, type_account):\n",
    "        Account.increment_instance_count()\n",
    "        self.number = number\n",
    "        self.holder = holder\n",
    "        self.balance = balance\n",
    "        self.type_account = type_account\n",
    "        Account.static_function()\n",
    "        \n",
    "    def __str__(self):\n",
    "        return 'Account Number:'+ self.number + ' - ' + self.holder +', ' + self.type_account +' account = ' + str(self.balance)\n",
    "    \n",
    "    def deposit(self, amount):\n",
    "        self.balance += amount\n",
    "        return self.balance\n",
    "    \n",
    "    def withdraw(self, amount):\n",
    "        self.balance -= amount\n",
    "        return self.balance\n",
    "    \n",
    "    def get_balance(self):\n",
    "        return self.balance\n",
    "    \n",
    "acc1 = Account('123', 'John', 10.05, 'current')\n",
    "acc2 = Account('345', 'John', 23.55, 'savings')\n",
    "acc3 = Account('567', 'Phoebe', 12.45, 'investment')\n",
    "\n",
    "print('Number of Account instances created:', Account.instance_count)"
   ]
  },
  {
   "cell_type": "code",
   "execution_count": null,
   "metadata": {},
   "outputs": [],
   "source": []
  }
 ],
 "metadata": {
  "kernelspec": {
   "display_name": "Python 3",
   "language": "python",
   "name": "python3"
  },
  "language_info": {
   "codemirror_mode": {
    "name": "ipython",
    "version": 3
   },
   "file_extension": ".py",
   "mimetype": "text/x-python",
   "name": "python",
   "nbconvert_exporter": "python",
   "pygments_lexer": "ipython3",
   "version": "3.6.9"
  }
 },
 "nbformat": 4,
 "nbformat_minor": 4
}
