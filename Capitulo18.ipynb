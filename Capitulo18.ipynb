{
 "cells": [
  {
   "cell_type": "code",
   "execution_count": 1,
   "metadata": {},
   "outputs": [
    {
     "name": "stdout",
     "output_type": "stream",
     "text": [
      "<class 'int'>\n",
      "<class 'float'>\n",
      "<class 'bool'>\n",
      "<class 'str'>\n",
      "<class 'list'>\n"
     ]
    }
   ],
   "source": [
    "print(type(4))\n",
    "print(type(5.6))\n",
    "print(type(True))\n",
    "print(type('Ewan'))\n",
    "print(type([1, 2, 3, 4]))"
   ]
  },
  {
   "cell_type": "code",
   "execution_count": 8,
   "metadata": {},
   "outputs": [
    {
     "name": "stdout",
     "output_type": "stream",
     "text": [
      "id(p1): 140053840486352\n",
      "id(p2): 140053840511048\n",
      "<__main__.Person object at 0x7f60d369c2b0>\n",
      "<__main__.Person object at 0x7f60d369c2b0>\n",
      "id(p1): 140053840511664\n",
      "id(px): 140053840511664\n",
      "<__main__.Person object at 0x7f60d369c2b0>\n",
      "<__main__.Person object at 0x7f60d369c048>\n",
      "John is 36\n",
      "Phoebe is 21\n",
      "Bob is 54\n"
     ]
    }
   ],
   "source": [
    "class Person:\n",
    "    def __init__(self, name, age):\n",
    "        self.name = name\n",
    "        self.age = age\n",
    "        \n",
    "p1 = Person('John', 36)\n",
    "p2 = Person('Phoebe', 21)\n",
    "\n",
    "print('id(p1):', id(p1))\n",
    "print('id(p2):', id(p2))\n",
    "\n",
    "p1 = Person('John', 36)\n",
    "px = p1\n",
    "\n",
    "print(p1)\n",
    "print(px)\n",
    "\n",
    "print('id(p1):', id(p1))\n",
    "print('id(px):', id(px))\n",
    "\n",
    "print(p1)\n",
    "print(p2)\n",
    "\n",
    "print(p1.name, 'is', p1.age)\n",
    "print(p2.name, 'is', p2.age)\n",
    "\n",
    "p1.name = 'Bob'\n",
    "p1.age = 54\n",
    "print(p1.name, 'is', p1.age)\n",
    "\n"
   ]
  },
  {
   "cell_type": "code",
   "execution_count": 17,
   "metadata": {},
   "outputs": [
    {
     "name": "stdout",
     "output_type": "stream",
     "text": [
      "John is 18\n",
      "Phoebe is 21\n",
      "Adam is 19\n",
      " Happy birthday you were 19\n",
      "You are now 20\n",
      "Adam is 20\n",
      "Pay Phoebe 400.0\n",
      "Pay Adam 300.0\n",
      "True\n",
      "False\n"
     ]
    }
   ],
   "source": [
    "class Person:\n",
    "    \"\"\" An example class to hold a\n",
    "    persons name and age\"\"\"\n",
    "    \n",
    "    def __init__(self, name, age):\n",
    "        self.name = name\n",
    "        self.age = age\n",
    "    def __str__(self):\n",
    "        return self.name + ' is ' + str(self.age)\n",
    "    def birthday(self):\n",
    "        print ( ' Happy birthday you were', self.age)\n",
    "        self.age += 1\n",
    "        print('You are now', self.age)\n",
    "    def calculate_pay(self, hours_worked):\n",
    "        rate_of_pay = 7.50\n",
    "        if self.age >= 21:\n",
    "            rate_of_pay += 2.50\n",
    "        return hours_worked * rate_of_pay\n",
    "    def is_teenager(self):\n",
    "        return self.age < 20\n",
    "        \n",
    "p1 = Person('John', 18)\n",
    "p2 = Person('Phoebe', 21)\n",
    "\n",
    "print(p1)\n",
    "print(p2)\n",
    "\n",
    "p3 = Person('Adam', 19)\n",
    "print(p3)\n",
    "p3.birthday()\n",
    "print(p3)\n",
    "\n",
    "pay = p2.calculate_pay(40)\n",
    "print('Pay', p2.name, pay)\n",
    "pay = p3.calculate_pay(40)\n",
    "print('Pay', p3.name, pay)\n",
    "\n",
    "print(p1.is_teenager())\n",
    "print(p3.is_teenager())"
   ]
  },
  {
   "cell_type": "code",
   "execution_count": 18,
   "metadata": {},
   "outputs": [
    {
     "name": "stdout",
     "output_type": "stream",
     "text": [
      "John is 36\n",
      "John is 36\n",
      "p1.is_teenager False\n",
      " Happy birthday you were 36\n",
      "You are now 37\n",
      "John is 37\n",
      "John is 18\n"
     ]
    }
   ],
   "source": [
    "p1 = Person('John', 36)\n",
    "print(p1)\n",
    "print (p1.name, 'is', p1.age)\n",
    "print('p1.is_teenager', p1.is_teenager())\n",
    "p1.birthday()\n",
    "print(p1)\n",
    "p1.age = 18\n",
    "print(p1)"
   ]
  },
  {
   "cell_type": "code",
   "execution_count": 19,
   "metadata": {},
   "outputs": [
    {
     "name": "stdout",
     "output_type": "stream",
     "text": [
      "John is 36\n"
     ]
    },
    {
     "ename": "NameError",
     "evalue": "name 'p1' is not defined",
     "output_type": "error",
     "traceback": [
      "\u001b[0;31m---------------------------------------------------------------------------\u001b[0m",
      "\u001b[0;31mNameError\u001b[0m                                 Traceback (most recent call last)",
      "\u001b[0;32m<ipython-input-19-c795d7d81a92>\u001b[0m in \u001b[0;36m<module>\u001b[0;34m\u001b[0m\n\u001b[1;32m      2\u001b[0m \u001b[0mprint\u001b[0m\u001b[0;34m(\u001b[0m\u001b[0mp1\u001b[0m\u001b[0;34m)\u001b[0m\u001b[0;34m\u001b[0m\u001b[0;34m\u001b[0m\u001b[0m\n\u001b[1;32m      3\u001b[0m \u001b[0;32mdel\u001b[0m \u001b[0mp1\u001b[0m\u001b[0;34m\u001b[0m\u001b[0;34m\u001b[0m\u001b[0m\n\u001b[0;32m----> 4\u001b[0;31m \u001b[0mprint\u001b[0m\u001b[0;34m(\u001b[0m\u001b[0mp1\u001b[0m\u001b[0;34m)\u001b[0m\u001b[0;34m\u001b[0m\u001b[0;34m\u001b[0m\u001b[0m\n\u001b[0m",
      "\u001b[0;31mNameError\u001b[0m: name 'p1' is not defined"
     ]
    }
   ],
   "source": [
    "p1 = Person('John', 36)\n",
    "print(p1)\n",
    "del p1\n",
    "print(p1)"
   ]
  },
  {
   "cell_type": "code",
   "execution_count": 21,
   "metadata": {},
   "outputs": [
    {
     "name": "stdout",
     "output_type": "stream",
     "text": [
      "Class attributes\n",
      "Person\n",
      "__main__\n",
      " An example class to hold a\n",
      "    persons name and age\n",
      "{'__module__': '__main__', '__doc__': ' An example class to hold a\\n    persons name and age', '__init__': <function Person.__init__ at 0x7f60d03dfbf8>, '__str__': <function Person.__str__ at 0x7f60d03dfb70>, 'birthday': <function Person.birthday at 0x7f60d03dfc80>, 'calculate_pay': <function Person.calculate_pay at 0x7f60d03df840>, 'is_teenager': <function Person.is_teenager at 0x7f60d03dfe18>, '__dict__': <attribute '__dict__' of 'Person' objects>, '__weakref__': <attribute '__weakref__' of 'Person' objects>}\n",
      "Object attributes\n",
      "<class '__main__.Person'>\n",
      "{'name': 'John', 'age': 36}\n"
     ]
    }
   ],
   "source": [
    "p1 = Person('John', 36)\n",
    "print('Class attributes')\n",
    "print(Person.__name__)\n",
    "print(Person.__module__)\n",
    "print(Person.__doc__)\n",
    "print(Person.__dict__)\n",
    "print('Object attributes')\n",
    "print(p1.__class__)\n",
    "print(p1.__dict__)"
   ]
  },
  {
   "cell_type": "code",
   "execution_count": 29,
   "metadata": {},
   "outputs": [
    {
     "name": "stdout",
     "output_type": "stream",
     "text": [
      "Account Number:123 - John, current account = 10.05\n",
      "Account Number:345 - John, savings account = 23.55\n",
      "Account Number:567 - Phoebe, investment account = 12.45\n",
      "balance: 10.05\n",
      "balance: 33.5\n",
      "balance: 21.17\n"
     ]
    }
   ],
   "source": [
    "class Account:\n",
    "    def __init__(self, number,holder, balance, type_account):\n",
    "        self.number = number\n",
    "        self.holder = holder\n",
    "        self.balance = balance\n",
    "        self.type_account = type_account\n",
    "    def __str__(self):\n",
    "        return 'Account Number:'+ self.number + ' - ' + self.holder +', ' + self.type_account +' account = ' + str(self.balance)\n",
    "    def deposit(self, amount):\n",
    "        self.balance += amount\n",
    "        return self.balance\n",
    "    def withdraw(self, amount):\n",
    "        self.balance -= amount\n",
    "        return self.balance\n",
    "    def get_balance(self):\n",
    "        return self.balance\n",
    "    \n",
    "acc1 = Account('123', 'John', 10.05, 'current')\n",
    "acc2 = Account('345', 'John', 23.55, 'savings')\n",
    "acc3 = Account('567', 'Phoebe', 12.45, 'investment')\n",
    "print(acc1)\n",
    "print(acc2)\n",
    "print(acc3)\n",
    "\n",
    "print('balance:', acc1.get_balance())\n",
    "acc1.deposit(23.45)\n",
    "print('balance:', acc1.get_balance())\n",
    "acc1.withdraw(12.33)\n",
    "print('balance:', acc1.get_balance())"
   ]
  },
  {
   "cell_type": "code",
   "execution_count": null,
   "metadata": {},
   "outputs": [],
   "source": []
  }
 ],
 "metadata": {
  "kernelspec": {
   "display_name": "Python 3",
   "language": "python",
   "name": "python3"
  },
  "language_info": {
   "codemirror_mode": {
    "name": "ipython",
    "version": 3
   },
   "file_extension": ".py",
   "mimetype": "text/x-python",
   "name": "python",
   "nbconvert_exporter": "python",
   "pygments_lexer": "ipython3",
   "version": "3.6.9"
  }
 },
 "nbformat": 4,
 "nbformat_minor": 4
}
