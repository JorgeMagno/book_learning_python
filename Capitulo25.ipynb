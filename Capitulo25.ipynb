{
 "cells": [
  {
   "cell_type": "code",
   "execution_count": 3,
   "metadata": {},
   "outputs": [
    {
     "name": "stdout",
     "output_type": "stream",
     "text": [
      "printer\n",
      "Shape - square\n",
      "done\n",
      "printer\n",
      "Shape - circle\n",
      "done\n"
     ]
    }
   ],
   "source": [
    "import utils\n",
    "\n",
    "utils.printer(utils.default_shape)\n",
    "shape = utils.Shape('circle')\n",
    "utils.printer(shape)"
   ]
  },
  {
   "cell_type": "code",
   "execution_count": 4,
   "metadata": {},
   "outputs": [
    {
     "name": "stdout",
     "output_type": "stream",
     "text": [
      "printer\n",
      "Shape - square\n",
      "done\n",
      "printer\n",
      "Shape - circle\n",
      "done\n"
     ]
    }
   ],
   "source": [
    "from utils import *\n",
    "printer(default_shape)\n",
    "shape = Shape('circle')\n",
    "printer(shape)"
   ]
  },
  {
   "cell_type": "code",
   "execution_count": 5,
   "metadata": {},
   "outputs": [
    {
     "name": "stdout",
     "output_type": "stream",
     "text": [
      "Shape - rectangle\n"
     ]
    }
   ],
   "source": [
    "from utils import Shape\n",
    "s = Shape('rectangle')\n",
    "print(s)"
   ]
  },
  {
   "cell_type": "code",
   "execution_count": 6,
   "metadata": {},
   "outputs": [
    {
     "name": "stdout",
     "output_type": "stream",
     "text": [
      "printer\n",
      "Shape - oval\n",
      "done\n"
     ]
    }
   ],
   "source": [
    "from utils import Shape, printer as myfunc\n",
    "s = Shape('oval')\n",
    "myfunc(s)"
   ]
  },
  {
   "cell_type": "code",
   "execution_count": 10,
   "metadata": {},
   "outputs": [
    {
     "ename": "NameError",
     "evalue": "name '_special_function' is not defined",
     "output_type": "error",
     "traceback": [
      "\u001b[0;31m---------------------------------------------------------------------------\u001b[0m",
      "\u001b[0;31mNameError\u001b[0m                                 Traceback (most recent call last)",
      "\u001b[0;32m<ipython-input-10-8e288e46221b>\u001b[0m in \u001b[0;36m<module>\u001b[0;34m\u001b[0m\n\u001b[1;32m      1\u001b[0m \u001b[0;32mfrom\u001b[0m \u001b[0mutils\u001b[0m \u001b[0;32mimport\u001b[0m \u001b[0;34m*\u001b[0m\u001b[0;34m\u001b[0m\u001b[0;34m\u001b[0m\u001b[0m\n\u001b[0;32m----> 2\u001b[0;31m \u001b[0m_special_function\u001b[0m\u001b[0;34m(\u001b[0m\u001b[0;34m)\u001b[0m\u001b[0;34m\u001b[0m\u001b[0;34m\u001b[0m\u001b[0m\n\u001b[0m",
      "\u001b[0;31mNameError\u001b[0m: name '_special_function' is not defined"
     ]
    }
   ],
   "source": [
    "from utils import *\n",
    "_special_function()"
   ]
  },
  {
   "cell_type": "code",
   "execution_count": 1,
   "metadata": {},
   "outputs": [
    {
     "name": "stdout",
     "output_type": "stream",
     "text": [
      "Hello I am the utils module\n",
      "Special function\n"
     ]
    }
   ],
   "source": [
    "from utils import _special_function\n",
    "_special_function()\n"
   ]
  },
  {
   "cell_type": "code",
   "execution_count": 3,
   "metadata": {},
   "outputs": [
    {
     "name": "stdout",
     "output_type": "stream",
     "text": [
      "utils\n",
      "This is a test module\n",
      "/home/jorge/jupyter/learningPython/utils.py\n",
      "['Shape', '__builtins__', '__cached__', '__doc__', '__file__', '__loader__', '__name__', '__package__', '__spec__', '_special_function', 'default_shape', 'printer']\n"
     ]
    }
   ],
   "source": [
    "import utils\n",
    "print(utils.__name__)\n",
    "print(utils.__doc__)\n",
    "print(utils.__file__)\n",
    "print(dir(utils))"
   ]
  },
  {
   "cell_type": "code",
   "execution_count": 4,
   "metadata": {},
   "outputs": [
    {
     "name": "stdout",
     "output_type": "stream",
     "text": [
      "sys.version:  3.6.9 (default, Jul 17 2020, 12:50:27) \n",
      "[GCC 8.4.0]\n",
      "sys.maxsize:  9223372036854775807\n",
      "sys.path:  ['/usr/lib/python36.zip', '/usr/lib/python3.6', '/usr/lib/python3.6/lib-dynload', '', '/home/jorge/.local/lib/python3.6/site-packages', '/usr/local/lib/python3.6/dist-packages', '/usr/lib/python3/dist-packages', '/home/jorge/.local/lib/python3.6/site-packages/IPython/extensions', '/home/jorge/.ipython']\n",
      "sys.platform:  linux\n"
     ]
    }
   ],
   "source": [
    "import sys\n",
    "print('sys.version: ', sys.version)\n",
    "print('sys.maxsize: ', sys.maxsize)\n",
    "print('sys.path: ', sys.path)\n",
    "print('sys.platform: ', sys.platform)"
   ]
  },
  {
   "cell_type": "code",
   "execution_count": 5,
   "metadata": {},
   "outputs": [
    {
     "name": "stdout",
     "output_type": "stream",
     "text": [
      "Hello I am module 1\n",
      "x is 3\n",
      "f1[1]\n",
      "f2[1]\n",
      "f1[1]\n"
     ]
    }
   ],
   "source": [
    "import module1\n",
    "module1.f1()"
   ]
  },
  {
   "cell_type": "code",
   "execution_count": 1,
   "metadata": {},
   "outputs": [
    {
     "name": "stdout",
     "output_type": "stream",
     "text": [
      "Conta Criada\n",
      "Conta Criada\n",
      "Conta Criada\n",
      "Account Number:123 - John,  account = 10.05-overdraft limit:100.0\n",
      "Account Number:345 - John,  account = 23.55-intereste rate:0.5\n",
      "Account Number:567 - Phoebe,  account = 12.45-investment type:high risk\n",
      "balance: 21.17\n",
      "Number of Account instances created: 3\n",
      "balance: 21.17\n",
      "Handling Exception\n",
      "Withdrawal would exceed your overdraft limit on Account Number:123 - John,  account = 21.17-overdraft limit:100.0\n"
     ]
    }
   ],
   "source": [
    "import fintech.accounts as accounts\n",
    "\n",
    "acc1 = accounts.CurrentAccount('123', 'John', 10.05, 100.0)\n",
    "acc2 = accounts.DepositAccount('345', 'John', 23.55, 0.5)\n",
    "acc3 = accounts.InvestmentAccount('567', 'Phoebe', 12.45, 'high risk')\n",
    "\n",
    "print(acc1)\n",
    "print(acc2)\n",
    "print(acc3)\n",
    "\n",
    "acc1.deposit(23.45)\n",
    "acc1.withdraw(12.33)\n",
    "print('balance:', acc1.balance)\n",
    "\n",
    "print('Number of Account instances created:',\n",
    "accounts.Account.instance_count)\n",
    "\n",
    "try:\n",
    "    print('balance:', acc1.balance)\n",
    "    acc1.withdraw(300.00)\n",
    "    print('balance:', acc1.balance)\n",
    "except accounts.BalanceError as e:\n",
    "    print('Handling Exception')\n",
    "    print(e)"
   ]
  },
  {
   "cell_type": "code",
   "execution_count": null,
   "metadata": {},
   "outputs": [],
   "source": []
  }
 ],
 "metadata": {
  "kernelspec": {
   "display_name": "Python 3",
   "language": "python",
   "name": "python3"
  },
  "language_info": {
   "codemirror_mode": {
    "name": "ipython",
    "version": 3
   },
   "file_extension": ".py",
   "mimetype": "text/x-python",
   "name": "python",
   "nbconvert_exporter": "python",
   "pygments_lexer": "ipython3",
   "version": "3.6.9"
  }
 },
 "nbformat": 4,
 "nbformat_minor": 4
}
