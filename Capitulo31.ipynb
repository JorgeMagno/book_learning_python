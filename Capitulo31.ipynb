{
 "cells": [
  {
   "cell_type": "code",
   "execution_count": 1,
   "metadata": {},
   "outputs": [],
   "source": [
    "tup1 = (1, 3, 5, 7)"
   ]
  },
  {
   "cell_type": "code",
   "execution_count": 2,
   "metadata": {},
   "outputs": [
    {
     "name": "stdout",
     "output_type": "stream",
     "text": [
      "(1, 2, 3)\n"
     ]
    }
   ],
   "source": [
    "list1 = [1, 2, 3]\n",
    "t1 = tuple(list1)\n",
    "print(t1)"
   ]
  },
  {
   "cell_type": "code",
   "execution_count": 4,
   "metadata": {},
   "outputs": [
    {
     "name": "stdout",
     "output_type": "stream",
     "text": [
      "tup1[0]:\t 1\n",
      "tup1[1]:\t 3\n",
      "tup1[2]:\t 5\n",
      "tup1[3]:\t 7\n"
     ]
    }
   ],
   "source": [
    "print('tup1[0]:\\t',tup1[0])\n",
    "print('tup1[1]:\\t',tup1[1])\n",
    "print('tup1[2]:\\t',tup1[2])\n",
    "print('tup1[3]:\\t',tup1[3])"
   ]
  },
  {
   "cell_type": "code",
   "execution_count": 5,
   "metadata": {},
   "outputs": [
    {
     "name": "stdout",
     "output_type": "stream",
     "text": [
      "tup1[1:3]:\t (3, 5)\n"
     ]
    }
   ],
   "source": [
    "print('tup1[1:3]:\\t', tup1[1:3])"
   ]
  },
  {
   "cell_type": "code",
   "execution_count": 6,
   "metadata": {},
   "outputs": [
    {
     "name": "stdout",
     "output_type": "stream",
     "text": [
      "tup1[:3]:\t (1, 3, 5)\n",
      "tup1[1:]:\t (3, 5, 7)\n"
     ]
    }
   ],
   "source": [
    "print('tup1[:3]:\\t', tup1[:3])\n",
    "print('tup1[1:]:\\t', tup1[1:])"
   ]
  },
  {
   "cell_type": "code",
   "execution_count": 7,
   "metadata": {},
   "outputs": [
    {
     "name": "stdout",
     "output_type": "stream",
     "text": [
      "tup1[::-1]:\t (7, 5, 3, 1)\n"
     ]
    }
   ],
   "source": [
    "print('tup1[::-1]:\\t', tup1[::-1])"
   ]
  },
  {
   "cell_type": "code",
   "execution_count": 10,
   "metadata": {},
   "outputs": [
    {
     "name": "stdout",
     "output_type": "stream",
     "text": [
      "(1, 'John', <__main__.Person object at 0x7f66e411d080>, True, -23.45)\n"
     ]
    }
   ],
   "source": [
    "class Person:\n",
    "    def __init__(self, name, age):\n",
    "        self.name = name\n",
    "        self.age = age\n",
    "        \n",
    "tup2 = (1, 'John', Person('Phoebe', 21), True, -23.45)\n",
    "print(tup2)"
   ]
  },
  {
   "cell_type": "code",
   "execution_count": 11,
   "metadata": {},
   "outputs": [
    {
     "name": "stdout",
     "output_type": "stream",
     "text": [
      "apple\n",
      "pear\n",
      "orange\n",
      "plum\n",
      "apple\n"
     ]
    }
   ],
   "source": [
    "tup3 = ('apple', 'pear', 'orange', 'plum', 'apple')\n",
    "for x in tup3:\n",
    "    print(x)"
   ]
  },
  {
   "cell_type": "code",
   "execution_count": 12,
   "metadata": {},
   "outputs": [
    {
     "name": "stdout",
     "output_type": "stream",
     "text": [
      "len(tup3):\t 5\n"
     ]
    }
   ],
   "source": [
    "print('len(tup3):\\t', len(tup3))"
   ]
  },
  {
   "cell_type": "code",
   "execution_count": 13,
   "metadata": {},
   "outputs": [
    {
     "name": "stdout",
     "output_type": "stream",
     "text": [
      "2\n"
     ]
    }
   ],
   "source": [
    "print(tup3.count('apple')) # returns 2"
   ]
  },
  {
   "cell_type": "code",
   "execution_count": 15,
   "metadata": {},
   "outputs": [
    {
     "name": "stdout",
     "output_type": "stream",
     "text": [
      "2\n"
     ]
    }
   ],
   "source": [
    "print(tup3.index('orange')) # returns 2"
   ]
  },
  {
   "cell_type": "code",
   "execution_count": 16,
   "metadata": {},
   "outputs": [
    {
     "name": "stdout",
     "output_type": "stream",
     "text": [
      "orange is in the Tuple\n"
     ]
    }
   ],
   "source": [
    "if 'orange' in tup3:\n",
    "    print('orange is in the Tuple')"
   ]
  },
  {
   "cell_type": "code",
   "execution_count": 17,
   "metadata": {},
   "outputs": [
    {
     "name": "stdout",
     "output_type": "stream",
     "text": [
      "(42, (1, 3, 5, 7), ('John', 'Denise', 'Phoebe', 'Adam'), 5.5)\n"
     ]
    }
   ],
   "source": [
    "tuple1 = (1, 3, 5, 7)\n",
    "tuple2 = ('John', 'Denise', 'Phoebe', 'Adam')\n",
    "tuple3 = (42, tuple1, tuple2, 5.5)\n",
    "print(tuple3)"
   ]
  },
  {
   "cell_type": "code",
   "execution_count": 18,
   "metadata": {},
   "outputs": [],
   "source": [
    "list1 = ['John', 'Paul', 'George', 'Ringo']"
   ]
  },
  {
   "cell_type": "code",
   "execution_count": 19,
   "metadata": {},
   "outputs": [
    {
     "name": "stdout",
     "output_type": "stream",
     "text": [
      "['John', [1, 43.5, <__main__.Person object at 0x7f66e8467cf8>, True], ['apple', 'orange', 31], 'Denise']\n"
     ]
    }
   ],
   "source": [
    "l1 = [1, 43.5, Person('Phoebe', 21), True]\n",
    "l2 = ['apple', 'orange', 31]\n",
    "root_list = ['John', l1, l2, 'Denise']\n",
    "print(root_list)"
   ]
  },
  {
   "cell_type": "code",
   "execution_count": 20,
   "metadata": {},
   "outputs": [
    {
     "name": "stdout",
     "output_type": "stream",
     "text": [
      "([(1, 'John', 34.5), ['Smith', 'Jones']], 'apple')\n"
     ]
    }
   ],
   "source": [
    "t1 = (1, 'John', 34.5)\n",
    "l1 = ['Smith', 'Jones']\n",
    "l2 = [t1, l1]\n",
    "t2 = (l2, 'apple')\n",
    "print(t2)"
   ]
  },
  {
   "cell_type": "code",
   "execution_count": 21,
   "metadata": {},
   "outputs": [
    {
     "name": "stdout",
     "output_type": "stream",
     "text": [
      "['a', 'e', 'i', 'o', 'u']\n"
     ]
    }
   ],
   "source": [
    "vowelTuple = ('a', 'e', 'i', 'o', 'u')\n",
    "print(list(vowelTuple))"
   ]
  },
  {
   "cell_type": "code",
   "execution_count": 22,
   "metadata": {},
   "outputs": [
    {
     "name": "stdout",
     "output_type": "stream",
     "text": [
      "Paul\n"
     ]
    }
   ],
   "source": [
    "list1 = ['John', 'Paul', 'George', 'Ringo']\n",
    "print(list1[1])"
   ]
  },
  {
   "cell_type": "code",
   "execution_count": 23,
   "metadata": {},
   "outputs": [
    {
     "name": "stdout",
     "output_type": "stream",
     "text": [
      "list1[1]: Paul\n",
      "list1[-1]: Ringo\n",
      "list1[1:3]: ['Paul', 'George']\n",
      "list[:3]: ['John', 'Paul', 'George']\n",
      "list[1:]: ['Paul', 'George', 'Ringo']\n"
     ]
    }
   ],
   "source": [
    "list1 = ['John', 'Paul', 'George', 'Ringo']\n",
    "print('list1[1]:', list1[1])\n",
    "print('list1[-1]:', list1[-1])\n",
    "print('list1[1:3]:', list1[1:3])\n",
    "print('list[:3]:', list1[:3])\n",
    "print('list[1:]:', list1[1:])"
   ]
  },
  {
   "cell_type": "code",
   "execution_count": 24,
   "metadata": {},
   "outputs": [
    {
     "name": "stdout",
     "output_type": "stream",
     "text": [
      "['John', 'Paul', 'George', 'Ringo', 'Pete']\n"
     ]
    }
   ],
   "source": [
    "list1 = ['John', 'Paul', 'George', 'Ringo']\n",
    "list1.append('Pete')\n",
    "print(list1)"
   ]
  },
  {
   "cell_type": "code",
   "execution_count": 25,
   "metadata": {},
   "outputs": [
    {
     "name": "stdout",
     "output_type": "stream",
     "text": [
      "['John', 'Paul', 'George', 'Ringo', 'Pete']\n",
      "['John', 'Paul', 'George', 'Ringo', 'Pete', 'Albert', 'Bob']\n",
      "['John', 'Paul', 'George', 'Ringo', 'Pete', 'Albert', 'Bob', 'Ginger', 'Sporty']\n"
     ]
    }
   ],
   "source": [
    "list1 = ['John', 'Paul', 'George', 'Ringo', 'Pete']\n",
    "print(list1)\n",
    "list1.extend(['Albert', 'Bob'])\n",
    "print(list1)\n",
    "list1 += ['Ginger', 'Sporty']\n",
    "print(list1)"
   ]
  },
  {
   "cell_type": "code",
   "execution_count": 26,
   "metadata": {},
   "outputs": [
    {
     "name": "stdout",
     "output_type": "stream",
     "text": [
      "['Adele', 'Madonna', 'Cher']\n",
      "['Adele', 'Paloma', 'Madonna', 'Cher']\n"
     ]
    }
   ],
   "source": [
    "a_list = ['Adele', 'Madonna', 'Cher']\n",
    "print(a_list)\n",
    "a_list.insert(1, 'Paloma')\n",
    "print(a_list)"
   ]
  },
  {
   "cell_type": "code",
   "execution_count": 27,
   "metadata": {},
   "outputs": [
    {
     "name": "stdout",
     "output_type": "stream",
     "text": [
      "[3, 2, 1, 6, 5, 4]\n"
     ]
    }
   ],
   "source": [
    "list1 = [3, 2, 1]\n",
    "list2 = [6, 5, 4]\n",
    "list3 = list1 + list2\n",
    "print(list3)"
   ]
  },
  {
   "cell_type": "code",
   "execution_count": 28,
   "metadata": {},
   "outputs": [
    {
     "name": "stdout",
     "output_type": "stream",
     "text": [
      "['Gary', 'Mark', 'Robbie', 'Jason', 'Howard']\n",
      "['Gary', 'Mark', 'Jason', 'Howard']\n"
     ]
    }
   ],
   "source": [
    "another_list = ['Gary', 'Mark', 'Robbie', 'Jason', 'Howard']\n",
    "print(another_list)\n",
    "another_list.remove('Robbie')\n",
    "print(another_list)"
   ]
  },
  {
   "cell_type": "code",
   "execution_count": 29,
   "metadata": {},
   "outputs": [
    {
     "name": "stdout",
     "output_type": "stream",
     "text": [
      "['Once', 'Upon', 'a', 'Time']\n",
      "a\n",
      "['Once', 'Upon', 'Time']\n"
     ]
    }
   ],
   "source": [
    "list6 = ['Once', 'Upon', 'a', 'Time']\n",
    "print(list6)\n",
    "print(list6.pop(2))\n",
    "print(list6)"
   ]
  },
  {
   "cell_type": "code",
   "execution_count": 30,
   "metadata": {},
   "outputs": [
    {
     "name": "stdout",
     "output_type": "stream",
     "text": [
      "['Once', 'Upon', 'a', 'Time']\n",
      "Time\n",
      "['Once', 'Upon', 'a']\n"
     ]
    }
   ],
   "source": [
    "list6 = ['Once', 'Upon', 'a', 'Time']\n",
    "print(list6)\n",
    "print(list6.pop())\n",
    "print(list6)"
   ]
  },
  {
   "cell_type": "code",
   "execution_count": 31,
   "metadata": {},
   "outputs": [
    {
     "name": "stdout",
     "output_type": "stream",
     "text": [
      "['A', 'B', 'C', 'D', 'E']\n",
      "['A', 'B', 'D', 'E']\n"
     ]
    }
   ],
   "source": [
    "my_list = ['A', 'B', 'C', 'D', 'E']\n",
    "print(my_list)\n",
    "del my_list[2]\n",
    "print(my_list)"
   ]
  },
  {
   "cell_type": "code",
   "execution_count": 32,
   "metadata": {},
   "outputs": [
    {
     "name": "stdout",
     "output_type": "stream",
     "text": [
      "['A', 'B', 'C', 'D', 'E']\n",
      "['A', 'D', 'E']\n"
     ]
    }
   ],
   "source": [
    "my_list = ['A', 'B', 'C', 'D', 'E']\n",
    "print(my_list)\n",
    "del my_list[1:3]\n",
    "print(my_list)"
   ]
  },
  {
   "cell_type": "code",
   "execution_count": 20,
   "metadata": {},
   "outputs": [],
   "source": [
    "class AmountError(Exception):\n",
    "    def __init__(self, number, holder, balance, overdraft_limit):\n",
    "        self.number = number\n",
    "        self.holder = holder\n",
    "        self.balance = balance\n",
    "        self.overdraft_limit = overdraft_limit\n",
    "    def __str__(self):\n",
    "        return 'AmountError (Cannot deposit negative amounts) on Account Number:'+ self.number + ' - ' + self.holder +', ' +' account = ' + str(self.balance) + '-overdraft limit:' + str(self.overdraft_limit)\n",
    "\n",
    "class BalanceError(Exception):\n",
    "    def __init__(self, number, holder, balance, overdraft_limit):\n",
    "        self.number = number\n",
    "        self.holder = holder\n",
    "        self.balance = balance\n",
    "        self.overdraft_limit = overdraft_limit\n",
    "    def __str__(self):\n",
    "        return 'Withdrawal would exceed your overdraft limit on Account Number:'+ self.number + ' - ' + self.holder +', ' +' account = ' + str(self.balance) + '-overdraft limit:' + str(self.overdraft_limit)\n",
    "class Account:\n",
    "    instance_count = 0\n",
    "    transa = []\n",
    "    @staticmethod\n",
    "    def static_function():\n",
    "        print('Conta Criada')\n",
    "        \n",
    "    @classmethod\n",
    "    def increment_instance_count(cls):\n",
    "        cls.instance_count += 1\n",
    "        \n",
    "    def __init__(self, number,holder, balance):\n",
    "        Account.increment_instance_count()\n",
    "        self.number = number\n",
    "        self.holder = holder\n",
    "        self.balance = balance\n",
    "        Account.static_function() \n",
    "        self.hist = []\n",
    "        \n",
    "     # Makes this class iterable\n",
    "    def __iter__(self):\n",
    "        return self\n",
    "    # Makes this class an iterator\n",
    "    def __next__(self):\n",
    "        for i in range(0, len(self.hist)):\n",
    "            print(self.hist[i])\n",
    "        raise StopIteration\n",
    "        \n",
    "    def __str__(self):\n",
    "        return 'Account Number:'+ self.number + ' - ' + self.holder +', ' +' account = ' + str(self.balance)\n",
    "    \n",
    "    def deposit(self, amount):\n",
    "        tupla = ('Transação - Depósito no valor de: ' , amount)\n",
    "        self.hist.append(tupla)\n",
    "        if amount > 0:\n",
    "            self.balance += amount\n",
    "            return self.balance\n",
    "        else:\n",
    "            raise AmountError(self.number, self.holder, self.balance, self.overdraft_limit)\n",
    "            \n",
    "    def get_balance(self):\n",
    "        return self.balance\n",
    "    #balance = property(get_balance, doc=\"A balance property\")\n",
    "    def __getattr__(self, attribute):\n",
    "        print('__getattr__: unknown attribute accessed - ', attribute)\n",
    "        return -1\n",
    "class DepositAccount(Account):\n",
    "    def __init__(self, number, holder, balance, interest_rate):\n",
    "        super().__init__(number, holder, balance)\n",
    "        self.interest_rate = interest_rate\n",
    "    def __str__(self):\n",
    "        return super().__str__() + '-intereste rate:' + str(self.interest_rate)\n",
    "        \n",
    "    \n",
    "class CurrentAccount(Account):\n",
    "    def __init__(self, number, holder, balance, overdraft_limit):\n",
    "        super().__init__(number, holder, balance)\n",
    "        self.overdraft_limit = overdraft_limit\n",
    "    def __str__(self):\n",
    "        return super().__str__() + '-overdraft limit:' + str(self.overdraft_limit)\n",
    "    def withdraw(self, amount):    \n",
    "        if amount > 0:\n",
    "            if amount <= self.overdraft_limit:\n",
    "                tupla = ('Transação - Retira no valor de: ' , amount)\n",
    "                self.hist.append(tupla)\n",
    "                self.balance -= amount\n",
    "                return self.balance\n",
    "            else:\n",
    "                raise BalanceError(self.number, self.holder, self.balance, self.overdraft_limit)\n",
    "        else:\n",
    "            raise AmountError(self.number, self.holder, self.balance, self.overdraft_limit)\n",
    "            \n",
    "class InvestmentAccount(Account):\n",
    "    def __init__(self, number, holder, balance, investment_type):\n",
    "        super().__init__(number, holder, balance)\n",
    "        self.investment_type = investment_type\n",
    "    def __str__(self):\n",
    "        return super().__str__() + '-investment type:' + str(self.investment_type)"
   ]
  },
  {
   "cell_type": "code",
   "execution_count": 21,
   "metadata": {},
   "outputs": [
    {
     "name": "stdout",
     "output_type": "stream",
     "text": [
      "Conta Criada\n",
      "Conta Criada\n",
      "Conta Criada\n",
      "('Transação - Depósito no valor de: ', 23.45)\n",
      "('Transação - Retira no valor de: ', 12.33)\n"
     ]
    }
   ],
   "source": [
    "acc1 = CurrentAccount('123', 'John', 10.05, 100.0)\n",
    "acc2 = DepositAccount('345', 'John', 23.55, 0.5)\n",
    "acc3 = InvestmentAccount('567', 'Phoebe', 12.45, 'high risk')\n",
    "\n",
    "acc1.deposit(23.45)\n",
    "acc1.withdraw(12.33)\n",
    "\n",
    "for transaction in acc1:\n",
    "    print(transaction)"
   ]
  },
  {
   "cell_type": "code",
   "execution_count": null,
   "metadata": {},
   "outputs": [],
   "source": []
  }
 ],
 "metadata": {
  "kernelspec": {
   "display_name": "Python 3",
   "language": "python",
   "name": "python3"
  },
  "language_info": {
   "codemirror_mode": {
    "name": "ipython",
    "version": 3
   },
   "file_extension": ".py",
   "mimetype": "text/x-python",
   "name": "python",
   "nbconvert_exporter": "python",
   "pygments_lexer": "ipython3",
   "version": "3.6.9"
  }
 },
 "nbformat": 4,
 "nbformat_minor": 4
}
