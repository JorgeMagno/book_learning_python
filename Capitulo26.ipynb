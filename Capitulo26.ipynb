{
 "cells": [
  {
   "cell_type": "code",
   "execution_count": 1,
   "metadata": {},
   "outputs": [],
   "source": [
    "from abc import ABCMeta\n",
    "class Shape(metaclass=ABCMeta):\n",
    "    def __init__(self, id):\n",
    "        self.id = id"
   ]
  },
  {
   "cell_type": "code",
   "execution_count": 2,
   "metadata": {},
   "outputs": [],
   "source": [
    "from abc import ABCMeta, abstractmethod\n",
    "class Shape(metaclass=ABCMeta):\n",
    "    def __init__(self, id):\n",
    "        self._id = id\n",
    "        \n",
    "    @abstractmethod\n",
    "    def display(self): pass\n",
    "    \n",
    "    @property\n",
    "    @abstractmethod\n",
    "    def id(self): pass"
   ]
  },
  {
   "cell_type": "code",
   "execution_count": 3,
   "metadata": {},
   "outputs": [],
   "source": [
    "class Circle(Shape):\n",
    "    def __init__(self, id):\n",
    "        super().__init__(id)\n",
    "        \n",
    "    def display(self):\n",
    "        print('Circle: ', self._id)\n",
    "        \n",
    "    @property\n",
    "    def id(self):\n",
    "        \"\"\" the id property \"\"\"\n",
    "        return self._id"
   ]
  },
  {
   "cell_type": "code",
   "execution_count": 6,
   "metadata": {},
   "outputs": [
    {
     "name": "stdout",
     "output_type": "stream",
     "text": [
      "circle1\n",
      "Circle:  circle1\n"
     ]
    }
   ],
   "source": [
    "c = Circle(\"circle1\")\n",
    "print(c.id)\n",
    "c.display()"
   ]
  },
  {
   "cell_type": "code",
   "execution_count": 10,
   "metadata": {},
   "outputs": [],
   "source": [
    "from abc import ABCMeta\n",
    "\n",
    "class Person(metaclass=ABCMeta):\n",
    "    def __init__(self, name, age):\n",
    "        self.name = name\n",
    "        self.age = age\n",
    "        \n",
    "    def birthday(self):\n",
    "        print('Happy Birthday')\n",
    "        \n",
    "class Employee(object):\n",
    "    def __init__(self, name, age, id):\n",
    "        self.name = name\n",
    "        self.age = age\n",
    "        self.id = id\n",
    "        \n",
    "    def birthday(self):\n",
    "        print('Its your birthday')"
   ]
  },
  {
   "cell_type": "code",
   "execution_count": 11,
   "metadata": {},
   "outputs": [
    {
     "name": "stdout",
     "output_type": "stream",
     "text": [
      "False\n",
      "False\n"
     ]
    }
   ],
   "source": [
    "print(issubclass(Employee, Person))\n",
    "e = Employee('Megan', 21, 'MS123')\n",
    "print(isinstance(e, Person))"
   ]
  },
  {
   "cell_type": "code",
   "execution_count": 15,
   "metadata": {},
   "outputs": [
    {
     "name": "stdout",
     "output_type": "stream",
     "text": [
      "True\n",
      "True\n"
     ]
    }
   ],
   "source": [
    "Person.register(Employee)\n",
    "print(issubclass(Employee, Person))\n",
    "e = Employee('Megan', 21, 'MS123')\n",
    "print(isinstance(e, Person))"
   ]
  },
  {
   "cell_type": "code",
   "execution_count": 10,
   "metadata": {},
   "outputs": [],
   "source": [
    "from abc import ABCMeta\n",
    "class PrinterMixin(metaclass=ABCMeta):\n",
    "    def print_me(self):\n",
    "        print(self)"
   ]
  },
  {
   "cell_type": "code",
   "execution_count": 11,
   "metadata": {},
   "outputs": [],
   "source": [
    "class Person(object):\n",
    "    def __init__(self, name):\n",
    "        self.name = name\n",
    "class Employee(Person, PrinterMixin):\n",
    "    def __init__(self, name, age, id):\n",
    "        super().__init__(name)\n",
    "        self.age = age\n",
    "        self.id = id\n",
    "    def __str__(self):\n",
    "        return 'Employee(' + self.id + ')' + self.name + '[' + str(self.age) + ']'"
   ]
  },
  {
   "cell_type": "code",
   "execution_count": 12,
   "metadata": {},
   "outputs": [
    {
     "name": "stdout",
     "output_type": "stream",
     "text": [
      "Employee(MS123)Megan[21]\n"
     ]
    }
   ],
   "source": [
    "e = Employee('Megan', 21, 'MS123')\n",
    "e.print_me()"
   ]
  },
  {
   "cell_type": "code",
   "execution_count": 13,
   "metadata": {},
   "outputs": [],
   "source": [
    "class IDPrinterMixin(metaclass=ABCMeta):\n",
    "    def print_id(self):\n",
    "        print(self.id)"
   ]
  },
  {
   "cell_type": "code",
   "execution_count": 14,
   "metadata": {},
   "outputs": [],
   "source": [
    "class Employee(Person, PrinterMixin, IDPrinterMixin):\n",
    "    def __init__(self, name, age, id):\n",
    "        super().__init__(name)\n",
    "        self.age = age\n",
    "        self.id = id\n",
    "    def __str__(self):\n",
    "        return 'Employee(' + self.id + ')' + self.name + '[' + str(self.age) + ']'"
   ]
  },
  {
   "cell_type": "code",
   "execution_count": 15,
   "metadata": {},
   "outputs": [
    {
     "name": "stdout",
     "output_type": "stream",
     "text": [
      "Employee(MS123)Megan[21]\n",
      "MS123\n"
     ]
    }
   ],
   "source": [
    "e = Employee('Megan', 21, 'MS123')\n",
    "e.print_me()\n",
    "e.print_id()"
   ]
  },
  {
   "cell_type": "code",
   "execution_count": 1,
   "metadata": {},
   "outputs": [],
   "source": [
    "import fintech.accounts1 as accounts"
   ]
  },
  {
   "cell_type": "code",
   "execution_count": 2,
   "metadata": {},
   "outputs": [
    {
     "name": "stdout",
     "output_type": "stream",
     "text": [
      "Conta Criada\n",
      "Conta Criada\n",
      "Conta Criada\n"
     ]
    }
   ],
   "source": [
    "acc1 = accounts.CurrentAccount('123', 'John', 10.05, 100.0)\n",
    "acc2 = accounts.DepositAccount('345', 'John', 23.55, 0.5)\n",
    "acc3 = accounts.InvestmentAccount('567', 'Phoebe', 12.45, 'high risk')"
   ]
  },
  {
   "cell_type": "code",
   "execution_count": null,
   "metadata": {},
   "outputs": [],
   "source": []
  }
 ],
 "metadata": {
  "kernelspec": {
   "display_name": "Python 3",
   "language": "python",
   "name": "python3"
  },
  "language_info": {
   "codemirror_mode": {
    "name": "ipython",
    "version": 3
   },
   "file_extension": ".py",
   "mimetype": "text/x-python",
   "name": "python",
   "nbconvert_exporter": "python",
   "pygments_lexer": "ipython3",
   "version": "3.6.9"
  }
 },
 "nbformat": 4,
 "nbformat_minor": 4
}
