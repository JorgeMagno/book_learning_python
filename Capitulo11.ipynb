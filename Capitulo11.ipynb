{
 "cells": [
  {
   "cell_type": "code",
   "execution_count": 1,
   "metadata": {},
   "outputs": [
    {
     "name": "stdout",
     "output_type": "stream",
     "text": [
      "Hello World!\n"
     ]
    }
   ],
   "source": [
    "def print_msg():\n",
    "    print('Hello World!')\n",
    "    \n",
    "print_msg()"
   ]
  },
  {
   "cell_type": "code",
   "execution_count": 2,
   "metadata": {},
   "outputs": [
    {
     "name": "stdout",
     "output_type": "stream",
     "text": [
      "Hello World\n",
      "Good day\n",
      "Welcome\n",
      "Ola\n"
     ]
    }
   ],
   "source": [
    "def print_my_msg(msg):\n",
    "    print(msg)\n",
    "\n",
    "print_my_msg('Hello World')\n",
    "print_my_msg('Good day')\n",
    "print_my_msg('Welcome')\n",
    "print_my_msg('Ola')"
   ]
  },
  {
   "cell_type": "code",
   "execution_count": 6,
   "metadata": {},
   "outputs": [
    {
     "name": "stdout",
     "output_type": "stream",
     "text": [
      "16\n",
      "25\n",
      " Still less than 15 \n"
     ]
    }
   ],
   "source": [
    "def square(n):\n",
    "    return n * n\n",
    "\n",
    "# Store result from square in a variable\n",
    "result = square( 4)\n",
    "print(result)\n",
    "# Send the result from square immediately to another function\n",
    "print(square( 5))\n",
    "# Use the result returned from square in a conditional expression\n",
    "if square(2) < 15:\n",
    "    print(' Still less than 15 ')"
   ]
  },
  {
   "cell_type": "code",
   "execution_count": 9,
   "metadata": {},
   "outputs": [
    {
     "name": "stdout",
     "output_type": "stream",
     "text": [
      "(3, 5)\n"
     ]
    }
   ],
   "source": [
    "def swap(a, b):\n",
    "    return b, a\n",
    "\n",
    "a = 5\n",
    "b = 3\n",
    "z = swap(a, b)\n",
    "print(z)"
   ]
  },
  {
   "cell_type": "code",
   "execution_count": 8,
   "metadata": {},
   "outputs": [
    {
     "name": "stdout",
     "output_type": "stream",
     "text": [
      "Please input your age: 26\n",
      "age is 26\n"
     ]
    }
   ],
   "source": [
    "def get_integer_input(message):\n",
    "    \"\"\"\n",
    "    This function will display the message to the user\n",
    "    and request that they input an integer.\n",
    "    If the user enters something that is not a number\n",
    "    then the input will be rejected\n",
    "    and an error message will be displayed.\n",
    "    The user will then be asked to try again.\"\"\"\n",
    "    value_as_string = input(message)\n",
    "    while not value_as_string.isnumeric():\n",
    "        print('The input must be an integer')\n",
    "        value_as_string = input(message)\n",
    "    return int(value_as_string)\n",
    "    \n",
    "age = get_integer_input('Please input your age: ')\n",
    "print('age is', age)"
   ]
  },
  {
   "cell_type": "code",
   "execution_count": 18,
   "metadata": {},
   "outputs": [
    {
     "name": "stdout",
     "output_type": "stream",
     "text": [
      "Welcome Eloise - Hope you like Rugby\n"
     ]
    }
   ],
   "source": [
    "def greeter(name, message):\n",
    "    print('Welcome', name, '-', message)\n",
    "\n",
    "greeter('Eloise', 'Hope you like Rugby')"
   ]
  },
  {
   "cell_type": "code",
   "execution_count": 19,
   "metadata": {},
   "outputs": [
    {
     "name": "stdout",
     "output_type": "stream",
     "text": [
      "Welcome Eloise - Live Long and Prosper\n",
      "Welcome Eloise - Hope you like Python\n"
     ]
    }
   ],
   "source": [
    "def greeter(name, message = 'Live Long and Prosper'):\n",
    "    print('Welcome', name, '-', message)\n",
    "    \n",
    "greeter('Eloise')\n",
    "greeter('Eloise', 'Hope you like Python')"
   ]
  },
  {
   "cell_type": "code",
   "execution_count": 21,
   "metadata": {},
   "outputs": [
    {
     "name": "stdout",
     "output_type": "stream",
     "text": [
      "Welcome Dr Lloyd - We like Python\n",
      "Welcome Dr Lloyd - We like Python\n"
     ]
    }
   ],
   "source": [
    "def greeter(name, title = 'Dr', prompt = 'Welcome', message = 'Live Long and Prosper'):\n",
    "    print(prompt, title, name, '-', message)\n",
    "    \n",
    "greeter(message = 'We like Python', name = 'Lloyd')\n",
    "greeter('Lloyd', message = 'We like Python')"
   ]
  },
  {
   "cell_type": "code",
   "execution_count": 22,
   "metadata": {},
   "outputs": [
    {
     "name": "stdout",
     "output_type": "stream",
     "text": [
      "Welcome John\n",
      "Welcome Denise\n",
      "Welcome Phoebe\n",
      "Welcome Adam\n",
      "Welcome Gryff\n",
      "Welcome Jasmine\n"
     ]
    }
   ],
   "source": [
    "def greeter(*args):\n",
    "    for name in args:\n",
    "        print('Welcome', name)\n",
    "        \n",
    "greeter('John', 'Denise', 'Phoebe', 'Adam', 'Gryff', 'Jasmine')"
   ]
  },
  {
   "cell_type": "code",
   "execution_count": 23,
   "metadata": {},
   "outputs": [
    {
     "name": "stdout",
     "output_type": "stream",
     "text": [
      "arg: John\n",
      "arg: Denise\n",
      "key: daughter has value:  Phoebe\n",
      "key: son has value:  Adam\n",
      "--------------------------------------------------\n",
      "arg: Paul\n",
      "arg: Fiona\n",
      "key: son_number_one has value:  Andrew\n",
      "key: son_number_two has value:  James\n",
      "key: daughter has value:  Joselyn\n"
     ]
    }
   ],
   "source": [
    "def my_function(*args, **kwargs):\n",
    "    for arg in args:\n",
    "        print('arg:', arg)\n",
    "    for key in kwargs.keys():\n",
    "        print('key:', key, 'has value: ', kwargs[key])\n",
    "\n",
    "my_function('John', 'Denise', daughter='Phoebe', son='Adam')\n",
    "print('-' * 50)\n",
    "my_function('Paul', 'Fiona', son_number_one='Andrew',\n",
    "son_number_two='James', daughter='Joselyn')"
   ]
  },
  {
   "cell_type": "code",
   "execution_count": 25,
   "metadata": {},
   "outputs": [
    {
     "name": "stdout",
     "output_type": "stream",
     "text": [
      "arg: a has value: 1\n",
      "arg: b has value: 2\n",
      "arg: c has value: 3\n"
     ]
    }
   ],
   "source": [
    "def named(**kwargs):\n",
    "    for key in kwargs.keys():\n",
    "        print('arg:', key, 'has value:', kwargs[key])\n",
    "    \n",
    "named(a=1, b=2, c=3)"
   ]
  },
  {
   "cell_type": "code",
   "execution_count": 27,
   "metadata": {},
   "outputs": [
    {
     "name": "stdout",
     "output_type": "stream",
     "text": [
      "100\n",
      "no args\n",
      "16\n",
      "12\n",
      "9\n"
     ]
    }
   ],
   "source": [
    "double = lambda i : i * i\n",
    "print(double(10))\n",
    "\n",
    "func0 = lambda: print('no args')\n",
    "func1 = lambda x: x * x\n",
    "func2 = lambda x, y: x * y\n",
    "func3 = lambda x, y, z: x + y + z\n",
    "\n",
    "func0()\n",
    "print(func1(4))\n",
    "print(func2(3, 4))\n",
    "print(func3(2, 3, 4))"
   ]
  },
  {
   "cell_type": "code",
   "execution_count": 2,
   "metadata": {},
   "outputs": [
    {
     "name": "stdout",
     "output_type": "stream",
     "text": [
      "Bem-vindo ao jogo\n",
      "Escolha um número entre 1 and 10: 5\n",
      "Desculpe, número errado\n",
      "O número é menor\n",
      "Tente novamente: 3\n",
      "Desculpe, número errado\n",
      "O número é menor\n",
      "VOCÊ ERROU POR UM!\n",
      "Tente novamente: 2\n",
      "Você venceu!!!\n",
      "Você precisou de 3 tentativas para vencer\n",
      "Game Over! Quer jogar de novo? S ou N n\n",
      "Adeus!\n"
     ]
    }
   ],
   "source": [
    "import random\n",
    "\n",
    "def mensagem():\n",
    "    print (\"Bem-vindo ao jogo\")\n",
    "    \n",
    "def visita(message):\n",
    "    guess = input(message)\n",
    "    while not guess.isnumeric():\n",
    "        print('The input must be an integer')\n",
    "        guess = input(message)\n",
    "    return int(guess)\n",
    "\n",
    "def resultado(number, guess, tentativas):\n",
    "    if number == guess:\n",
    "        print('Você venceu!!!')\n",
    "        print('Você precisou de', tentativas , 'tentativas para vencer')\n",
    "    else:\n",
    "        print(\"Sorry - Perdeu :\")\n",
    "        print('O número era ',number_to_guess)\n",
    "\n",
    "def loop():\n",
    "    while True:\n",
    "        number_to_guess = random.randint(1,10)\n",
    "        count_number_of_tries = 1\n",
    "        guess = visita('Escolha um número entre 1 and 10: ')\n",
    "        while number_to_guess != guess:\n",
    "            if guess == -1:\n",
    "                print (\"O número é \",number_to_guess)\n",
    "            print('Desculpe, número errado')\n",
    "            if count_number_of_tries == 4:\n",
    "                break\n",
    "            if guess < number_to_guess:\n",
    "                print('O número é maior')\n",
    "            else:\n",
    "                print('O número é menor')\n",
    "            if (guess == number_to_guess - 1) or (guess == number_to_guess + 1):\n",
    "                print(\"VOCÊ ERROU POR UM!\")\n",
    "            guess = int(input('Tente novamente: '))\n",
    "            if guess != -1:\n",
    "                count_number_of_tries += 1\n",
    "        resultado(number_to_guess, guess, count_number_of_tries)\n",
    "        resp = input('Game Over! Quer jogar de novo? S ou N ')\n",
    "        if resp == \"N\" or resp == \"n\":\n",
    "            print (\"Adeus!\")\n",
    "            break\n",
    "\n",
    "mensagem()\n",
    "loop()\n"
   ]
  },
  {
   "cell_type": "code",
   "execution_count": null,
   "metadata": {},
   "outputs": [],
   "source": []
  }
 ],
 "metadata": {
  "kernelspec": {
   "display_name": "Python 3",
   "language": "python",
   "name": "python3"
  },
  "language_info": {
   "codemirror_mode": {
    "name": "ipython",
    "version": 3
   },
   "file_extension": ".py",
   "mimetype": "text/x-python",
   "name": "python",
   "nbconvert_exporter": "python",
   "pygments_lexer": "ipython3",
   "version": "3.6.9"
  }
 },
 "nbformat": 4,
 "nbformat_minor": 4
}
