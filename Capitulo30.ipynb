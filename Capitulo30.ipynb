{
 "cells": [
  {
   "cell_type": "code",
   "execution_count": 1,
   "metadata": {},
   "outputs": [],
   "source": [
    "class Evens(object):\n",
    "    def __init__(self, limit):\n",
    "        self.limit = limit\n",
    "        self.val = 0\n",
    "    # Makes this class iterable\n",
    "    def __iter__(self):\n",
    "        return self\n",
    "    # Makes this class an iterator\n",
    "    def __next__(self):\n",
    "        if self.val > self.limit:\n",
    "            raise StopIteration\n",
    "        else:\n",
    "            return_val = self.val\n",
    "            self.val += 2\n",
    "            return return_val"
   ]
  },
  {
   "cell_type": "code",
   "execution_count": 3,
   "metadata": {},
   "outputs": [
    {
     "name": "stdout",
     "output_type": "stream",
     "text": [
      "Start\n",
      "0, 2, 4, 6, 8, 10, Done\n"
     ]
    }
   ],
   "source": [
    "print('Start')\n",
    "for i in Evens(10):\n",
    "    print(i, end=', ')\n",
    "print('Done')"
   ]
  },
  {
   "cell_type": "code",
   "execution_count": 6,
   "metadata": {},
   "outputs": [],
   "source": [
    "def gen_numbers():\n",
    "    yield 1\n",
    "    yield 4\n",
    "    yield 3"
   ]
  },
  {
   "cell_type": "code",
   "execution_count": 7,
   "metadata": {},
   "outputs": [
    {
     "name": "stdout",
     "output_type": "stream",
     "text": [
      "1\n",
      "4\n",
      "3\n"
     ]
    }
   ],
   "source": [
    "for i in gen_numbers():\n",
    "    print(i)"
   ]
  },
  {
   "cell_type": "code",
   "execution_count": 9,
   "metadata": {},
   "outputs": [
    {
     "name": "stdout",
     "output_type": "stream",
     "text": [
      "Start\n",
      "1\n",
      "Continue\n",
      "2\n",
      "Final\n",
      "3\n",
      "End\n"
     ]
    }
   ],
   "source": [
    "def gen_numbers2():\n",
    "    print('Start')\n",
    "    yield 1\n",
    "    print('Continue')\n",
    "    yield 2\n",
    "    print('Final')\n",
    "    yield 3\n",
    "    print('End')\n",
    "    \n",
    "for i in gen_numbers2():\n",
    "    print(i)"
   ]
  },
  {
   "cell_type": "code",
   "execution_count": 11,
   "metadata": {},
   "outputs": [
    {
     "name": "stdout",
     "output_type": "stream",
     "text": [
      "0, 2, 4, 6, "
     ]
    }
   ],
   "source": [
    "def evens_up_to(limit):\n",
    "    value = 0\n",
    "    while value <= limit:\n",
    "        yield value\n",
    "        value += 2\n",
    "        \n",
    "for i in evens_up_to(6):\n",
    "    print(i, end=', ')"
   ]
  },
  {
   "cell_type": "code",
   "execution_count": 12,
   "metadata": {},
   "outputs": [
    {
     "name": "stdout",
     "output_type": "stream",
     "text": [
      "i: 0\n",
      "j: 0, j: 2, j: 4, j: 6, \n",
      "i: 2\n",
      "j: 0, j: 2, j: 4, j: 6, \n",
      "i: 4\n",
      "j: 0, j: 2, j: 4, j: 6, \n"
     ]
    }
   ],
   "source": [
    "for i in evens_up_to(4):\n",
    "    print('i:', i)\n",
    "    for j in evens_up_to(6):\n",
    "        print('j:', j, end=', ')\n",
    "    print('')"
   ]
  },
  {
   "cell_type": "code",
   "execution_count": 13,
   "metadata": {},
   "outputs": [
    {
     "name": "stdout",
     "output_type": "stream",
     "text": [
      "0, 2, 4\n"
     ]
    }
   ],
   "source": [
    "evens = evens_up_to(4)\n",
    "print(next(evens), end=', ')\n",
    "print(next(evens), end=', ')\n",
    "print(next(evens))"
   ]
  },
  {
   "cell_type": "code",
   "execution_count": 14,
   "metadata": {},
   "outputs": [],
   "source": [
    "def grep(pattern):\n",
    "    print('Looking for', pattern)\n",
    "    try:\n",
    "        while True:\n",
    "            line = (yield)\n",
    "            if pattern in line:\n",
    "                print(line)\n",
    "    except GeneratorExit:\n",
    "        print('Exiting the Co-routine')"
   ]
  },
  {
   "cell_type": "code",
   "execution_count": 15,
   "metadata": {},
   "outputs": [
    {
     "name": "stdout",
     "output_type": "stream",
     "text": [
      "Starting\n",
      "Looking for Python\n",
      "Python is cool\n",
      "Exiting the Co-routine\n",
      "Done\n"
     ]
    }
   ],
   "source": [
    "print('Starting')\n",
    "# Initialise the coroutine\n",
    "g = grep('Python')\n",
    "# prime the coroutine\n",
    "next(g)\n",
    "# Send data to the coroutine\n",
    "g.send('Java is cool')\n",
    "g.send('C++ is cool')\n",
    "g.send('Python is cool')\n",
    "# now close the coroutine\n",
    "g.close()\n",
    "print('Done')"
   ]
  },
  {
   "cell_type": "code",
   "execution_count": 3,
   "metadata": {},
   "outputs": [],
   "source": [
    "def prime_number_generator(n):\n",
    "    primo = 2\n",
    "    while primo <= n:\n",
    "        divisor = 0\n",
    "        for div in range(1, primo):\n",
    "            if (primo%div == 0):\n",
    "                divisor += 1\n",
    "        if (divisor < 2):\n",
    "            yield primo\n",
    "        primo +=1"
   ]
  },
  {
   "cell_type": "code",
   "execution_count": 5,
   "metadata": {},
   "outputs": [
    {
     "name": "stdout",
     "output_type": "stream",
     "text": [
      "Please input the number:27\n",
      "2, 3, 5, 7, 11, 13, 17, 19, 23, "
     ]
    }
   ],
   "source": [
    "number = input('Please input the number:')\n",
    "if number.isnumeric():\n",
    "    num = int(number)\n",
    "    if num <= 2:\n",
    "        print('Number must be greater than 2')\n",
    "    else:\n",
    "        for prime in prime_number_generator(num):\n",
    "            print(prime, end=', ')\n",
    "else:\n",
    "    print('Must be a positive integer')"
   ]
  },
  {
   "cell_type": "code",
   "execution_count": 1,
   "metadata": {},
   "outputs": [],
   "source": [
    "import itertools as it\n",
    "def infinite_prime_number_generator():\n",
    "    D = {  }\n",
    "    yield 2\n",
    "    for q in it.islice(it.count(3), 0, None, 2):\n",
    "        p = D.pop(q, None)\n",
    "        if p is None:\n",
    "            D[q*q] = q\n",
    "            yield q\n",
    "        else:\n",
    "            x = q + 2*p\n",
    "            while x in D:\n",
    "                x += 2*p\n",
    "            D[x] = p"
   ]
  },
  {
   "cell_type": "code",
   "execution_count": 2,
   "metadata": {},
   "outputs": [
    {
     "name": "stdout",
     "output_type": "stream",
     "text": [
      "2\n",
      "3\n",
      "5\n",
      "7\n",
      "11\n"
     ]
    }
   ],
   "source": [
    "prime = infinite_prime_number_generator()\n",
    "print(next(prime))\n",
    "print(next(prime))\n",
    "print(next(prime))\n",
    "print(next(prime))\n",
    "print(next(prime))"
   ]
  },
  {
   "cell_type": "code",
   "execution_count": null,
   "metadata": {},
   "outputs": [],
   "source": []
  }
 ],
 "metadata": {
  "kernelspec": {
   "display_name": "Python 3",
   "language": "python",
   "name": "python3"
  },
  "language_info": {
   "codemirror_mode": {
    "name": "ipython",
    "version": 3
   },
   "file_extension": ".py",
   "mimetype": "text/x-python",
   "name": "python",
   "nbconvert_exporter": "python",
   "pygments_lexer": "ipython3",
   "version": "3.6.9"
  }
 },
 "nbformat": 4,
 "nbformat_minor": 4
}
